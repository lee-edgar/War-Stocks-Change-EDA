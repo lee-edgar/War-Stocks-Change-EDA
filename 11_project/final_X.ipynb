{
 "cells": [
  {
   "cell_type": "code",
   "execution_count": 1,
   "metadata": {},
   "outputs": [],
   "source": [
    "import xlsxwriter\n",
    "import openpyxl\n",
    "import matplotlib.pyplot as plt\n",
    "import matplotlib as mpl\n",
    "import numpy as np\n",
    "import matplotlib as mpl\n",
    "import seaborn as sns\n",
    "import plotly.express as px\n",
    "import plotly.graph_objects as go\n",
    "%matplotlib inline\n",
    "%config linelineBacked.figure_format = {'png', 'retina'}\n",
    "import pandas as pd\n",
    "import matplotlib.pyplot as plt\n",
    "import seaborn as sns\n",
    "import sklearn\n",
    "from sklearn.linear_model import LinearRegression\n",
    "import numpy as np\n",
    "import sklearn.linear_model\n",
    "import FinanceDataReader as fdr\n",
    "from datetime import datetime, timedelta\n",
    "import xlsxwriter\n",
    "import openpyxl\n",
    "import matplotlib.pyplot as plt\n",
    "import pandas as pd\n",
    "import plotly.express as px\n",
    "import plotly.graph_objects as go\n",
    "#pip install plotly==3.8.1\n",
    "import cufflinks as cf\n",
    "import pandas as pd\n",
    "from matplotlib import rc\n",
    "rc('font', family='Malgun Gothic')\n",
    "\n",
    "plt.rcParams['axes.unicode_minus'] = False\n",
    "%matplotlib inline\n",
    "\n",
    "from matplotlib import rc\n",
    "rc('font', family='Malgun Gothic')\n",
    "\n",
    "plt.rcParams['axes.unicode_minus'] = False"
   ]
  },
  {
   "cell_type": "code",
   "execution_count": 61,
   "metadata": {},
   "outputs": [
    {
     "data": {
      "text/html": [
       "<div>\n",
       "<style scoped>\n",
       "    .dataframe tbody tr th:only-of-type {\n",
       "        vertical-align: middle;\n",
       "    }\n",
       "\n",
       "    .dataframe tbody tr th {\n",
       "        vertical-align: top;\n",
       "    }\n",
       "\n",
       "    .dataframe thead th {\n",
       "        text-align: right;\n",
       "    }\n",
       "</style>\n",
       "<table border=\"1\" class=\"dataframe\">\n",
       "  <thead>\n",
       "    <tr style=\"text-align: right;\">\n",
       "      <th></th>\n",
       "      <th>Change</th>\n",
       "      <th>Symbol</th>\n",
       "      <th>Industry</th>\n",
       "      <th>Change_idx</th>\n",
       "      <th>ABS_idx</th>\n",
       "      <th>Avg_change</th>\n",
       "      <th>Start_date</th>\n",
       "      <th>War_genre</th>\n",
       "      <th>War_name</th>\n",
       "      <th>War_volume</th>\n",
       "      <th>Count_country</th>\n",
       "    </tr>\n",
       "  </thead>\n",
       "  <tbody>\n",
       "    <tr>\n",
       "      <th>0</th>\n",
       "      <td>-0.0323</td>\n",
       "      <td>AAPL</td>\n",
       "      <td>컴퓨터, 전화 및 가전제품</td>\n",
       "      <td>269.0</td>\n",
       "      <td>269.0</td>\n",
       "      <td>-0.012</td>\n",
       "      <td>2001-09-11</td>\n",
       "      <td>테러</td>\n",
       "      <td>테러와의전쟁</td>\n",
       "      <td>1000000</td>\n",
       "      <td>48</td>\n",
       "    </tr>\n",
       "    <tr>\n",
       "      <th>1</th>\n",
       "      <td>0.0263</td>\n",
       "      <td>AAPL</td>\n",
       "      <td>컴퓨터, 전화 및 가전제품</td>\n",
       "      <td>-175.0</td>\n",
       "      <td>175.0</td>\n",
       "      <td>-0.015</td>\n",
       "      <td>2002-01-15</td>\n",
       "      <td>테러</td>\n",
       "      <td>영원한자유작전-필리핀</td>\n",
       "      <td>115800</td>\n",
       "      <td>2</td>\n",
       "    </tr>\n",
       "    <tr>\n",
       "      <th>2</th>\n",
       "      <td>0.0000</td>\n",
       "      <td>AAPL</td>\n",
       "      <td>컴퓨터, 전화 및 가전제품</td>\n",
       "      <td>0.0</td>\n",
       "      <td>0.0</td>\n",
       "      <td>-0.007</td>\n",
       "      <td>2002-10-07</td>\n",
       "      <td>테러</td>\n",
       "      <td>영원한자유작전-아프리카의뿔</td>\n",
       "      <td>500000</td>\n",
       "      <td>38</td>\n",
       "    </tr>\n",
       "    <tr>\n",
       "      <th>3</th>\n",
       "      <td>0.0000</td>\n",
       "      <td>AAPL</td>\n",
       "      <td>컴퓨터, 전화 및 가전제품</td>\n",
       "      <td>0.0</td>\n",
       "      <td>0.0</td>\n",
       "      <td>0.016</td>\n",
       "      <td>2003-03-20</td>\n",
       "      <td>테러</td>\n",
       "      <td>이라크전쟁</td>\n",
       "      <td>1000000</td>\n",
       "      <td>41</td>\n",
       "    </tr>\n",
       "    <tr>\n",
       "      <th>4</th>\n",
       "      <td>0.0000</td>\n",
       "      <td>AAPL</td>\n",
       "      <td>컴퓨터, 전화 및 가전제품</td>\n",
       "      <td>0.0</td>\n",
       "      <td>0.0</td>\n",
       "      <td>0.009</td>\n",
       "      <td>2004-04-01</td>\n",
       "      <td>민족</td>\n",
       "      <td>이란-PJAK충돌</td>\n",
       "      <td>17000</td>\n",
       "      <td>3</td>\n",
       "    </tr>\n",
       "  </tbody>\n",
       "</table>\n",
       "</div>"
      ],
      "text/plain": [
       "   Change Symbol        Industry  Change_idx  ABS_idx  Avg_change Start_date  \\\n",
       "0 -0.0323   AAPL  컴퓨터, 전화 및 가전제품       269.0    269.0      -0.012 2001-09-11   \n",
       "1  0.0263   AAPL  컴퓨터, 전화 및 가전제품      -175.0    175.0      -0.015 2002-01-15   \n",
       "2  0.0000   AAPL  컴퓨터, 전화 및 가전제품         0.0      0.0      -0.007 2002-10-07   \n",
       "3  0.0000   AAPL  컴퓨터, 전화 및 가전제품         0.0      0.0       0.016 2003-03-20   \n",
       "4  0.0000   AAPL  컴퓨터, 전화 및 가전제품         0.0      0.0       0.009 2004-04-01   \n",
       "\n",
       "  War_genre        War_name  War_volume  Count_country  \n",
       "0        테러          테러와의전쟁     1000000             48  \n",
       "1        테러     영원한자유작전-필리핀      115800              2  \n",
       "2        테러  영원한자유작전-아프리카의뿔      500000             38  \n",
       "3        테러           이라크전쟁     1000000             41  \n",
       "4        민족       이란-PJAK충돌       17000              3  "
      ]
     },
     "execution_count": 61,
     "metadata": {},
     "output_type": "execute_result"
    }
   ],
   "source": [
    "df_final = pd.read_excel(\"./datas/final_X.xls\",'final_X')\n",
    "df_final = df_final.drop([\"Unnamed: 0\"], axis=1)\n",
    "df_final.head()"
   ]
  },
  {
   "cell_type": "code",
   "execution_count": 12,
   "metadata": {
    "scrolled": true
   },
   "outputs": [
    {
     "data": {
      "text/html": [
       "<div>\n",
       "<style scoped>\n",
       "    .dataframe tbody tr th:only-of-type {\n",
       "        vertical-align: middle;\n",
       "    }\n",
       "\n",
       "    .dataframe tbody tr th {\n",
       "        vertical-align: top;\n",
       "    }\n",
       "\n",
       "    .dataframe thead th {\n",
       "        text-align: right;\n",
       "    }\n",
       "</style>\n",
       "<table border=\"1\" class=\"dataframe\">\n",
       "  <thead>\n",
       "    <tr style=\"text-align: right;\">\n",
       "      <th></th>\n",
       "      <th>Start_date</th>\n",
       "      <th>War_name</th>\n",
       "      <th>War_kind</th>\n",
       "      <th>Abs_sum</th>\n",
       "      <th>Count</th>\n",
       "      <th>Count_country</th>\n",
       "      <th>War_volume</th>\n",
       "      <th>War_id</th>\n",
       "    </tr>\n",
       "  </thead>\n",
       "  <tbody>\n",
       "    <tr>\n",
       "      <th>0</th>\n",
       "      <td>2001-09-11</td>\n",
       "      <td>테러와의전쟁</td>\n",
       "      <td>테러</td>\n",
       "      <td>45139</td>\n",
       "      <td>1</td>\n",
       "      <td>48</td>\n",
       "      <td>1000000</td>\n",
       "      <td>w1</td>\n",
       "    </tr>\n",
       "    <tr>\n",
       "      <th>1</th>\n",
       "      <td>2002-01-15</td>\n",
       "      <td>영원한자유작전-필리핀</td>\n",
       "      <td>테러</td>\n",
       "      <td>14516</td>\n",
       "      <td>1</td>\n",
       "      <td>2</td>\n",
       "      <td>115800</td>\n",
       "      <td>w2</td>\n",
       "    </tr>\n",
       "    <tr>\n",
       "      <th>2</th>\n",
       "      <td>2002-10-07</td>\n",
       "      <td>영원한자유작전-아프리카의뿔</td>\n",
       "      <td>테러</td>\n",
       "      <td>26992</td>\n",
       "      <td>1</td>\n",
       "      <td>38</td>\n",
       "      <td>500000</td>\n",
       "      <td>w3</td>\n",
       "    </tr>\n",
       "    <tr>\n",
       "      <th>3</th>\n",
       "      <td>2003-03-20</td>\n",
       "      <td>이라크전쟁</td>\n",
       "      <td>테러</td>\n",
       "      <td>9418</td>\n",
       "      <td>1</td>\n",
       "      <td>41</td>\n",
       "      <td>1000000</td>\n",
       "      <td>w4</td>\n",
       "    </tr>\n",
       "    <tr>\n",
       "      <th>4</th>\n",
       "      <td>2004-04-01</td>\n",
       "      <td>이란-PJAK충돌</td>\n",
       "      <td>민족</td>\n",
       "      <td>17026</td>\n",
       "      <td>1</td>\n",
       "      <td>3</td>\n",
       "      <td>17000</td>\n",
       "      <td>w5</td>\n",
       "    </tr>\n",
       "    <tr>\n",
       "      <th>5</th>\n",
       "      <td>2004-04-18</td>\n",
       "      <td>예멘의 Houthi 반란</td>\n",
       "      <td>내란</td>\n",
       "      <td>87029</td>\n",
       "      <td>1</td>\n",
       "      <td>7</td>\n",
       "      <td>32000</td>\n",
       "      <td>w6</td>\n",
       "    </tr>\n",
       "    <tr>\n",
       "      <th>6</th>\n",
       "      <td>2005-08-27</td>\n",
       "      <td>파라과이인민군반란</td>\n",
       "      <td>내란</td>\n",
       "      <td>17272</td>\n",
       "      <td>1</td>\n",
       "      <td>3</td>\n",
       "      <td>3650</td>\n",
       "      <td>w7</td>\n",
       "    </tr>\n",
       "    <tr>\n",
       "      <th>7</th>\n",
       "      <td>2006-01-25</td>\n",
       "      <td>파타-하마스 분쟁</td>\n",
       "      <td>테러</td>\n",
       "      <td>33024</td>\n",
       "      <td>1</td>\n",
       "      <td>3</td>\n",
       "      <td>55000</td>\n",
       "      <td>w8</td>\n",
       "    </tr>\n",
       "    <tr>\n",
       "      <th>8</th>\n",
       "      <td>2006-02-22</td>\n",
       "      <td>이라크내전</td>\n",
       "      <td>테러</td>\n",
       "      <td>28136</td>\n",
       "      <td>1</td>\n",
       "      <td>5</td>\n",
       "      <td>748000</td>\n",
       "      <td>w9</td>\n",
       "    </tr>\n",
       "    <tr>\n",
       "      <th>9</th>\n",
       "      <td>2006-06-12</td>\n",
       "      <td>2006년레바논전쟁</td>\n",
       "      <td>내란</td>\n",
       "      <td>19732</td>\n",
       "      <td>1</td>\n",
       "      <td>2</td>\n",
       "      <td>10500</td>\n",
       "      <td>w10</td>\n",
       "    </tr>\n",
       "    <tr>\n",
       "      <th>10</th>\n",
       "      <td>2006-12-11</td>\n",
       "      <td>멕시코마약전쟁</td>\n",
       "      <td>마약</td>\n",
       "      <td>20738</td>\n",
       "      <td>1</td>\n",
       "      <td>4</td>\n",
       "      <td>360000</td>\n",
       "      <td>w11</td>\n",
       "    </tr>\n",
       "    <tr>\n",
       "      <th>11</th>\n",
       "      <td>2006-12-30</td>\n",
       "      <td>소말리아전쟁</td>\n",
       "      <td>해적</td>\n",
       "      <td>38322</td>\n",
       "      <td>1</td>\n",
       "      <td>8</td>\n",
       "      <td>35250</td>\n",
       "      <td>w12</td>\n",
       "    </tr>\n",
       "    <tr>\n",
       "      <th>12</th>\n",
       "      <td>2007-02-06</td>\n",
       "      <td>영원한자유작전-트랜스사하라</td>\n",
       "      <td>테러</td>\n",
       "      <td>22592</td>\n",
       "      <td>1</td>\n",
       "      <td>17</td>\n",
       "      <td>5325</td>\n",
       "      <td>w13</td>\n",
       "    </tr>\n",
       "    <tr>\n",
       "      <th>13</th>\n",
       "      <td>2008-03-25</td>\n",
       "      <td>2008 안주안침공</td>\n",
       "      <td>내란</td>\n",
       "      <td>28004</td>\n",
       "      <td>1</td>\n",
       "      <td>7</td>\n",
       "      <td>2500</td>\n",
       "      <td>w14</td>\n",
       "    </tr>\n",
       "    <tr>\n",
       "      <th>14</th>\n",
       "      <td>2009-01-31</td>\n",
       "      <td>소말리아내전</td>\n",
       "      <td>내란</td>\n",
       "      <td>48818</td>\n",
       "      <td>1</td>\n",
       "      <td>11</td>\n",
       "      <td>41600</td>\n",
       "      <td>w15</td>\n",
       "    </tr>\n",
       "    <tr>\n",
       "      <th>15</th>\n",
       "      <td>2009-07-26</td>\n",
       "      <td>보코하람반란</td>\n",
       "      <td>해적</td>\n",
       "      <td>0</td>\n",
       "      <td>1</td>\n",
       "      <td>19</td>\n",
       "      <td>10000</td>\n",
       "      <td>w16</td>\n",
       "    </tr>\n",
       "    <tr>\n",
       "      <th>16</th>\n",
       "      <td>2010-05-23</td>\n",
       "      <td>킹스톤불안</td>\n",
       "      <td>마약</td>\n",
       "      <td>29488</td>\n",
       "      <td>1</td>\n",
       "      <td>2</td>\n",
       "      <td>1500</td>\n",
       "      <td>w17</td>\n",
       "    </tr>\n",
       "    <tr>\n",
       "      <th>17</th>\n",
       "      <td>2011-02-15</td>\n",
       "      <td>리비아내전</td>\n",
       "      <td>내란</td>\n",
       "      <td>24695</td>\n",
       "      <td>1</td>\n",
       "      <td>21</td>\n",
       "      <td>37000</td>\n",
       "      <td>w18</td>\n",
       "    </tr>\n",
       "    <tr>\n",
       "      <th>18</th>\n",
       "      <td>2011-03-15</td>\n",
       "      <td>시리아내전</td>\n",
       "      <td>내란</td>\n",
       "      <td>51682</td>\n",
       "      <td>1</td>\n",
       "      <td>13</td>\n",
       "      <td>144600</td>\n",
       "      <td>w19</td>\n",
       "    </tr>\n",
       "    <tr>\n",
       "      <th>19</th>\n",
       "      <td>2011-06-17</td>\n",
       "      <td>레바논에서의시리아내전파급</td>\n",
       "      <td>내란</td>\n",
       "      <td>22542</td>\n",
       "      <td>1</td>\n",
       "      <td>19</td>\n",
       "      <td>13500</td>\n",
       "      <td>w20</td>\n",
       "    </tr>\n",
       "    <tr>\n",
       "      <th>20</th>\n",
       "      <td>2012-01-16</td>\n",
       "      <td>북부말리전쟁</td>\n",
       "      <td>테러</td>\n",
       "      <td>52765</td>\n",
       "      <td>1</td>\n",
       "      <td>57</td>\n",
       "      <td>24764</td>\n",
       "      <td>w21</td>\n",
       "    </tr>\n",
       "    <tr>\n",
       "      <th>21</th>\n",
       "      <td>2013-12-30</td>\n",
       "      <td>이라크 내전</td>\n",
       "      <td>내란</td>\n",
       "      <td>20001</td>\n",
       "      <td>1</td>\n",
       "      <td>22</td>\n",
       "      <td>770000</td>\n",
       "      <td>w22</td>\n",
       "    </tr>\n",
       "    <tr>\n",
       "      <th>22</th>\n",
       "      <td>2014-05-16</td>\n",
       "      <td>리비아 내전</td>\n",
       "      <td>내란</td>\n",
       "      <td>31666</td>\n",
       "      <td>1</td>\n",
       "      <td>19</td>\n",
       "      <td>400000</td>\n",
       "      <td>w23</td>\n",
       "    </tr>\n",
       "    <tr>\n",
       "      <th>23</th>\n",
       "      <td>2014-06-13</td>\n",
       "      <td>ISIL에대한국제군사개입</td>\n",
       "      <td>테러</td>\n",
       "      <td>18342</td>\n",
       "      <td>1</td>\n",
       "      <td>41</td>\n",
       "      <td>472260</td>\n",
       "      <td>w24</td>\n",
       "    </tr>\n",
       "    <tr>\n",
       "      <th>24</th>\n",
       "      <td>2014-09-16</td>\n",
       "      <td>예멘내전</td>\n",
       "      <td>내란</td>\n",
       "      <td>52934</td>\n",
       "      <td>1</td>\n",
       "      <td>19</td>\n",
       "      <td>156000</td>\n",
       "      <td>w25</td>\n",
       "    </tr>\n",
       "    <tr>\n",
       "      <th>25</th>\n",
       "      <td>2017-05-23</td>\n",
       "      <td>마라위위기</td>\n",
       "      <td>테러</td>\n",
       "      <td>0</td>\n",
       "      <td>1</td>\n",
       "      <td>5</td>\n",
       "      <td>7500</td>\n",
       "      <td>w26</td>\n",
       "    </tr>\n",
       "    <tr>\n",
       "      <th>26</th>\n",
       "      <td>2017-12-09</td>\n",
       "      <td>이라크반란</td>\n",
       "      <td>내란</td>\n",
       "      <td>0</td>\n",
       "      <td>1</td>\n",
       "      <td>13</td>\n",
       "      <td>188900</td>\n",
       "      <td>w27</td>\n",
       "    </tr>\n",
       "    <tr>\n",
       "      <th>27</th>\n",
       "      <td>2019-05-05</td>\n",
       "      <td>2019-20 페르시아만위기</td>\n",
       "      <td>민족</td>\n",
       "      <td>0</td>\n",
       "      <td>1</td>\n",
       "      <td>13</td>\n",
       "      <td>10000</td>\n",
       "      <td>w28</td>\n",
       "    </tr>\n",
       "  </tbody>\n",
       "</table>\n",
       "</div>"
      ],
      "text/plain": [
       "   Start_date         War_name War_kind  Abs_sum  Count  Count_country  \\\n",
       "0  2001-09-11           테러와의전쟁       테러    45139      1             48   \n",
       "1  2002-01-15      영원한자유작전-필리핀       테러    14516      1              2   \n",
       "2  2002-10-07   영원한자유작전-아프리카의뿔       테러    26992      1             38   \n",
       "3  2003-03-20            이라크전쟁       테러     9418      1             41   \n",
       "4  2004-04-01        이란-PJAK충돌       민족    17026      1              3   \n",
       "5  2004-04-18    예멘의 Houthi 반란       내란    87029      1              7   \n",
       "6  2005-08-27        파라과이인민군반란       내란    17272      1              3   \n",
       "7  2006-01-25        파타-하마스 분쟁       테러    33024      1              3   \n",
       "8  2006-02-22            이라크내전       테러    28136      1              5   \n",
       "9  2006-06-12       2006년레바논전쟁       내란    19732      1              2   \n",
       "10 2006-12-11          멕시코마약전쟁       마약    20738      1              4   \n",
       "11 2006-12-30           소말리아전쟁       해적    38322      1              8   \n",
       "12 2007-02-06   영원한자유작전-트랜스사하라       테러    22592      1             17   \n",
       "13 2008-03-25       2008 안주안침공       내란    28004      1              7   \n",
       "14 2009-01-31           소말리아내전       내란    48818      1             11   \n",
       "15 2009-07-26           보코하람반란       해적        0      1             19   \n",
       "16 2010-05-23            킹스톤불안       마약    29488      1              2   \n",
       "17 2011-02-15            리비아내전       내란    24695      1             21   \n",
       "18 2011-03-15            시리아내전       내란    51682      1             13   \n",
       "19 2011-06-17    레바논에서의시리아내전파급       내란    22542      1             19   \n",
       "20 2012-01-16           북부말리전쟁       테러    52765      1             57   \n",
       "21 2013-12-30           이라크 내전       내란    20001      1             22   \n",
       "22 2014-05-16           리비아 내전       내란    31666      1             19   \n",
       "23 2014-06-13    ISIL에대한국제군사개입       테러    18342      1             41   \n",
       "24 2014-09-16             예멘내전       내란    52934      1             19   \n",
       "25 2017-05-23            마라위위기       테러        0      1              5   \n",
       "26 2017-12-09            이라크반란       내란        0      1             13   \n",
       "27 2019-05-05  2019-20 페르시아만위기       민족        0      1             13   \n",
       "\n",
       "    War_volume War_id  \n",
       "0      1000000     w1  \n",
       "1       115800     w2  \n",
       "2       500000     w3  \n",
       "3      1000000     w4  \n",
       "4        17000     w5  \n",
       "5        32000     w6  \n",
       "6         3650     w7  \n",
       "7        55000     w8  \n",
       "8       748000     w9  \n",
       "9        10500    w10  \n",
       "10      360000    w11  \n",
       "11       35250    w12  \n",
       "12        5325    w13  \n",
       "13        2500    w14  \n",
       "14       41600    w15  \n",
       "15       10000    w16  \n",
       "16        1500    w17  \n",
       "17       37000    w18  \n",
       "18      144600    w19  \n",
       "19       13500    w20  \n",
       "20       24764    w21  \n",
       "21      770000    w22  \n",
       "22      400000    w23  \n",
       "23      472260    w24  \n",
       "24      156000    w25  \n",
       "25        7500    w26  \n",
       "26      188900    w27  \n",
       "27       10000    w28  "
      ]
     },
     "execution_count": 12,
     "metadata": {},
     "output_type": "execute_result"
    }
   ],
   "source": [
    "ls_war_X2 = pd.read_excel('datas/ls_war_X2.xls', sheet_name='sheet')\n",
    "ls_war_X2"
   ]
  },
  {
   "cell_type": "markdown",
   "metadata": {},
   "source": [
    "## 전쟁은 전쟁규모 순위와 주식변동점수 순위와 동일하지 않다.\n",
    " - 전쟁 규모가 크다고 해서, 그 전쟁의 주식평균 변동의 폭이 크다고 할 수 없다."
   ]
  },
  {
   "cell_type": "code",
   "execution_count": 17,
   "metadata": {},
   "outputs": [
    {
     "data": {
      "application/vnd.plotly.v1+json": {
       "config": {
        "plotlyServerURL": "https://plot.ly"
       },
       "data": [
        {
         "name": "전쟁규모",
         "type": "bar",
         "x": [
          "테러와의전쟁",
          "영원한자유작전-필리핀",
          "영원한자유작전-아프리카의뿔",
          "이라크전쟁",
          "이란-PJAK충돌",
          "예멘의 Houthi 반란",
          "파라과이인민군반란",
          "파타-하마스 분쟁",
          "이라크내전",
          "2006년레바논전쟁",
          "멕시코마약전쟁",
          "소말리아전쟁",
          "영원한자유작전-트랜스사하라",
          "2008 안주안침공",
          "소말리아내전",
          "보코하람반란",
          "킹스톤불안",
          "리비아내전",
          "시리아내전",
          "레바논에서의시리아내전파급",
          "북부말리전쟁",
          "이라크 내전",
          "리비아 내전",
          "ISIL에대한국제군사개입",
          "예멘내전",
          "마라위위기",
          "이라크반란",
          "2019-20 페르시아만위기"
         ],
         "y": [
          1000000,
          115800,
          500000,
          1000000,
          17000,
          32000,
          3650,
          55000,
          748000,
          10500,
          360000,
          35250,
          5325,
          2500,
          41600,
          10000,
          1500,
          37000,
          144600,
          13500,
          24764,
          770000,
          400000,
          472260,
          156000,
          7500,
          188900,
          10000
         ]
        },
        {
         "name": "주식변동점수(X10)",
         "type": "bar",
         "x": [
          "테러와의전쟁",
          "영원한자유작전-필리핀",
          "영원한자유작전-아프리카의뿔",
          "이라크전쟁",
          "이란-PJAK충돌",
          "예멘의 Houthi 반란",
          "파라과이인민군반란",
          "파타-하마스 분쟁",
          "이라크내전",
          "2006년레바논전쟁",
          "멕시코마약전쟁",
          "소말리아전쟁",
          "영원한자유작전-트랜스사하라",
          "2008 안주안침공",
          "소말리아내전",
          "보코하람반란",
          "킹스톤불안",
          "리비아내전",
          "시리아내전",
          "레바논에서의시리아내전파급",
          "북부말리전쟁",
          "이라크 내전",
          "리비아 내전",
          "ISIL에대한국제군사개입",
          "예멘내전",
          "마라위위기",
          "이라크반란",
          "2019-20 페르시아만위기"
         ],
         "y": [
          451390,
          145160,
          269920,
          94180,
          170260,
          870290,
          172720,
          330240,
          281360,
          197320,
          207380,
          383220,
          225920,
          280040,
          488180,
          0,
          294880,
          246950,
          516820,
          225420,
          527650,
          200010,
          316660,
          183420,
          529340,
          0,
          0,
          0
         ]
        }
       ],
       "layout": {
        "template": {
         "data": {
          "bar": [
           {
            "error_x": {
             "color": "#2a3f5f"
            },
            "error_y": {
             "color": "#2a3f5f"
            },
            "marker": {
             "line": {
              "color": "#E5ECF6",
              "width": 0.5
             }
            },
            "type": "bar"
           }
          ],
          "barpolar": [
           {
            "marker": {
             "line": {
              "color": "#E5ECF6",
              "width": 0.5
             }
            },
            "type": "barpolar"
           }
          ],
          "carpet": [
           {
            "aaxis": {
             "endlinecolor": "#2a3f5f",
             "gridcolor": "white",
             "linecolor": "white",
             "minorgridcolor": "white",
             "startlinecolor": "#2a3f5f"
            },
            "baxis": {
             "endlinecolor": "#2a3f5f",
             "gridcolor": "white",
             "linecolor": "white",
             "minorgridcolor": "white",
             "startlinecolor": "#2a3f5f"
            },
            "type": "carpet"
           }
          ],
          "choropleth": [
           {
            "colorbar": {
             "outlinewidth": 0,
             "ticks": ""
            },
            "type": "choropleth"
           }
          ],
          "contour": [
           {
            "colorbar": {
             "outlinewidth": 0,
             "ticks": ""
            },
            "colorscale": [
             [
              0,
              "#0d0887"
             ],
             [
              0.1111111111111111,
              "#46039f"
             ],
             [
              0.2222222222222222,
              "#7201a8"
             ],
             [
              0.3333333333333333,
              "#9c179e"
             ],
             [
              0.4444444444444444,
              "#bd3786"
             ],
             [
              0.5555555555555556,
              "#d8576b"
             ],
             [
              0.6666666666666666,
              "#ed7953"
             ],
             [
              0.7777777777777778,
              "#fb9f3a"
             ],
             [
              0.8888888888888888,
              "#fdca26"
             ],
             [
              1,
              "#f0f921"
             ]
            ],
            "type": "contour"
           }
          ],
          "contourcarpet": [
           {
            "colorbar": {
             "outlinewidth": 0,
             "ticks": ""
            },
            "type": "contourcarpet"
           }
          ],
          "heatmap": [
           {
            "colorbar": {
             "outlinewidth": 0,
             "ticks": ""
            },
            "colorscale": [
             [
              0,
              "#0d0887"
             ],
             [
              0.1111111111111111,
              "#46039f"
             ],
             [
              0.2222222222222222,
              "#7201a8"
             ],
             [
              0.3333333333333333,
              "#9c179e"
             ],
             [
              0.4444444444444444,
              "#bd3786"
             ],
             [
              0.5555555555555556,
              "#d8576b"
             ],
             [
              0.6666666666666666,
              "#ed7953"
             ],
             [
              0.7777777777777778,
              "#fb9f3a"
             ],
             [
              0.8888888888888888,
              "#fdca26"
             ],
             [
              1,
              "#f0f921"
             ]
            ],
            "type": "heatmap"
           }
          ],
          "heatmapgl": [
           {
            "colorbar": {
             "outlinewidth": 0,
             "ticks": ""
            },
            "colorscale": [
             [
              0,
              "#0d0887"
             ],
             [
              0.1111111111111111,
              "#46039f"
             ],
             [
              0.2222222222222222,
              "#7201a8"
             ],
             [
              0.3333333333333333,
              "#9c179e"
             ],
             [
              0.4444444444444444,
              "#bd3786"
             ],
             [
              0.5555555555555556,
              "#d8576b"
             ],
             [
              0.6666666666666666,
              "#ed7953"
             ],
             [
              0.7777777777777778,
              "#fb9f3a"
             ],
             [
              0.8888888888888888,
              "#fdca26"
             ],
             [
              1,
              "#f0f921"
             ]
            ],
            "type": "heatmapgl"
           }
          ],
          "histogram": [
           {
            "marker": {
             "colorbar": {
              "outlinewidth": 0,
              "ticks": ""
             }
            },
            "type": "histogram"
           }
          ],
          "histogram2d": [
           {
            "colorbar": {
             "outlinewidth": 0,
             "ticks": ""
            },
            "colorscale": [
             [
              0,
              "#0d0887"
             ],
             [
              0.1111111111111111,
              "#46039f"
             ],
             [
              0.2222222222222222,
              "#7201a8"
             ],
             [
              0.3333333333333333,
              "#9c179e"
             ],
             [
              0.4444444444444444,
              "#bd3786"
             ],
             [
              0.5555555555555556,
              "#d8576b"
             ],
             [
              0.6666666666666666,
              "#ed7953"
             ],
             [
              0.7777777777777778,
              "#fb9f3a"
             ],
             [
              0.8888888888888888,
              "#fdca26"
             ],
             [
              1,
              "#f0f921"
             ]
            ],
            "type": "histogram2d"
           }
          ],
          "histogram2dcontour": [
           {
            "colorbar": {
             "outlinewidth": 0,
             "ticks": ""
            },
            "colorscale": [
             [
              0,
              "#0d0887"
             ],
             [
              0.1111111111111111,
              "#46039f"
             ],
             [
              0.2222222222222222,
              "#7201a8"
             ],
             [
              0.3333333333333333,
              "#9c179e"
             ],
             [
              0.4444444444444444,
              "#bd3786"
             ],
             [
              0.5555555555555556,
              "#d8576b"
             ],
             [
              0.6666666666666666,
              "#ed7953"
             ],
             [
              0.7777777777777778,
              "#fb9f3a"
             ],
             [
              0.8888888888888888,
              "#fdca26"
             ],
             [
              1,
              "#f0f921"
             ]
            ],
            "type": "histogram2dcontour"
           }
          ],
          "mesh3d": [
           {
            "colorbar": {
             "outlinewidth": 0,
             "ticks": ""
            },
            "type": "mesh3d"
           }
          ],
          "parcoords": [
           {
            "line": {
             "colorbar": {
              "outlinewidth": 0,
              "ticks": ""
             }
            },
            "type": "parcoords"
           }
          ],
          "pie": [
           {
            "automargin": true,
            "type": "pie"
           }
          ],
          "scatter": [
           {
            "marker": {
             "colorbar": {
              "outlinewidth": 0,
              "ticks": ""
             }
            },
            "type": "scatter"
           }
          ],
          "scatter3d": [
           {
            "line": {
             "colorbar": {
              "outlinewidth": 0,
              "ticks": ""
             }
            },
            "marker": {
             "colorbar": {
              "outlinewidth": 0,
              "ticks": ""
             }
            },
            "type": "scatter3d"
           }
          ],
          "scattercarpet": [
           {
            "marker": {
             "colorbar": {
              "outlinewidth": 0,
              "ticks": ""
             }
            },
            "type": "scattercarpet"
           }
          ],
          "scattergeo": [
           {
            "marker": {
             "colorbar": {
              "outlinewidth": 0,
              "ticks": ""
             }
            },
            "type": "scattergeo"
           }
          ],
          "scattergl": [
           {
            "marker": {
             "colorbar": {
              "outlinewidth": 0,
              "ticks": ""
             }
            },
            "type": "scattergl"
           }
          ],
          "scattermapbox": [
           {
            "marker": {
             "colorbar": {
              "outlinewidth": 0,
              "ticks": ""
             }
            },
            "type": "scattermapbox"
           }
          ],
          "scatterpolar": [
           {
            "marker": {
             "colorbar": {
              "outlinewidth": 0,
              "ticks": ""
             }
            },
            "type": "scatterpolar"
           }
          ],
          "scatterpolargl": [
           {
            "marker": {
             "colorbar": {
              "outlinewidth": 0,
              "ticks": ""
             }
            },
            "type": "scatterpolargl"
           }
          ],
          "scatterternary": [
           {
            "marker": {
             "colorbar": {
              "outlinewidth": 0,
              "ticks": ""
             }
            },
            "type": "scatterternary"
           }
          ],
          "surface": [
           {
            "colorbar": {
             "outlinewidth": 0,
             "ticks": ""
            },
            "colorscale": [
             [
              0,
              "#0d0887"
             ],
             [
              0.1111111111111111,
              "#46039f"
             ],
             [
              0.2222222222222222,
              "#7201a8"
             ],
             [
              0.3333333333333333,
              "#9c179e"
             ],
             [
              0.4444444444444444,
              "#bd3786"
             ],
             [
              0.5555555555555556,
              "#d8576b"
             ],
             [
              0.6666666666666666,
              "#ed7953"
             ],
             [
              0.7777777777777778,
              "#fb9f3a"
             ],
             [
              0.8888888888888888,
              "#fdca26"
             ],
             [
              1,
              "#f0f921"
             ]
            ],
            "type": "surface"
           }
          ],
          "table": [
           {
            "cells": {
             "fill": {
              "color": "#EBF0F8"
             },
             "line": {
              "color": "white"
             }
            },
            "header": {
             "fill": {
              "color": "#C8D4E3"
             },
             "line": {
              "color": "white"
             }
            },
            "type": "table"
           }
          ]
         },
         "layout": {
          "annotationdefaults": {
           "arrowcolor": "#2a3f5f",
           "arrowhead": 0,
           "arrowwidth": 1
          },
          "autotypenumbers": "strict",
          "coloraxis": {
           "colorbar": {
            "outlinewidth": 0,
            "ticks": ""
           }
          },
          "colorscale": {
           "diverging": [
            [
             0,
             "#8e0152"
            ],
            [
             0.1,
             "#c51b7d"
            ],
            [
             0.2,
             "#de77ae"
            ],
            [
             0.3,
             "#f1b6da"
            ],
            [
             0.4,
             "#fde0ef"
            ],
            [
             0.5,
             "#f7f7f7"
            ],
            [
             0.6,
             "#e6f5d0"
            ],
            [
             0.7,
             "#b8e186"
            ],
            [
             0.8,
             "#7fbc41"
            ],
            [
             0.9,
             "#4d9221"
            ],
            [
             1,
             "#276419"
            ]
           ],
           "sequential": [
            [
             0,
             "#0d0887"
            ],
            [
             0.1111111111111111,
             "#46039f"
            ],
            [
             0.2222222222222222,
             "#7201a8"
            ],
            [
             0.3333333333333333,
             "#9c179e"
            ],
            [
             0.4444444444444444,
             "#bd3786"
            ],
            [
             0.5555555555555556,
             "#d8576b"
            ],
            [
             0.6666666666666666,
             "#ed7953"
            ],
            [
             0.7777777777777778,
             "#fb9f3a"
            ],
            [
             0.8888888888888888,
             "#fdca26"
            ],
            [
             1,
             "#f0f921"
            ]
           ],
           "sequentialminus": [
            [
             0,
             "#0d0887"
            ],
            [
             0.1111111111111111,
             "#46039f"
            ],
            [
             0.2222222222222222,
             "#7201a8"
            ],
            [
             0.3333333333333333,
             "#9c179e"
            ],
            [
             0.4444444444444444,
             "#bd3786"
            ],
            [
             0.5555555555555556,
             "#d8576b"
            ],
            [
             0.6666666666666666,
             "#ed7953"
            ],
            [
             0.7777777777777778,
             "#fb9f3a"
            ],
            [
             0.8888888888888888,
             "#fdca26"
            ],
            [
             1,
             "#f0f921"
            ]
           ]
          },
          "colorway": [
           "#636efa",
           "#EF553B",
           "#00cc96",
           "#ab63fa",
           "#FFA15A",
           "#19d3f3",
           "#FF6692",
           "#B6E880",
           "#FF97FF",
           "#FECB52"
          ],
          "font": {
           "color": "#2a3f5f"
          },
          "geo": {
           "bgcolor": "white",
           "lakecolor": "white",
           "landcolor": "#E5ECF6",
           "showlakes": true,
           "showland": true,
           "subunitcolor": "white"
          },
          "hoverlabel": {
           "align": "left"
          },
          "hovermode": "closest",
          "mapbox": {
           "style": "light"
          },
          "paper_bgcolor": "white",
          "plot_bgcolor": "#E5ECF6",
          "polar": {
           "angularaxis": {
            "gridcolor": "white",
            "linecolor": "white",
            "ticks": ""
           },
           "bgcolor": "#E5ECF6",
           "radialaxis": {
            "gridcolor": "white",
            "linecolor": "white",
            "ticks": ""
           }
          },
          "scene": {
           "xaxis": {
            "backgroundcolor": "#E5ECF6",
            "gridcolor": "white",
            "gridwidth": 2,
            "linecolor": "white",
            "showbackground": true,
            "ticks": "",
            "zerolinecolor": "white"
           },
           "yaxis": {
            "backgroundcolor": "#E5ECF6",
            "gridcolor": "white",
            "gridwidth": 2,
            "linecolor": "white",
            "showbackground": true,
            "ticks": "",
            "zerolinecolor": "white"
           },
           "zaxis": {
            "backgroundcolor": "#E5ECF6",
            "gridcolor": "white",
            "gridwidth": 2,
            "linecolor": "white",
            "showbackground": true,
            "ticks": "",
            "zerolinecolor": "white"
           }
          },
          "shapedefaults": {
           "line": {
            "color": "#2a3f5f"
           }
          },
          "ternary": {
           "aaxis": {
            "gridcolor": "white",
            "linecolor": "white",
            "ticks": ""
           },
           "baxis": {
            "gridcolor": "white",
            "linecolor": "white",
            "ticks": ""
           },
           "bgcolor": "#E5ECF6",
           "caxis": {
            "gridcolor": "white",
            "linecolor": "white",
            "ticks": ""
           }
          },
          "title": {
           "x": 0.05
          },
          "xaxis": {
           "automargin": true,
           "gridcolor": "white",
           "linecolor": "white",
           "ticks": "",
           "title": {
            "standoff": 15
           },
           "zerolinecolor": "white",
           "zerolinewidth": 2
          },
          "yaxis": {
           "automargin": true,
           "gridcolor": "white",
           "linecolor": "white",
           "ticks": "",
           "title": {
            "standoff": 15
           },
           "zerolinecolor": "white",
           "zerolinewidth": 2
          }
         }
        },
        "title": {
         "text": "<b> 27번의 전쟁의 전쟁규모와 주식변동점수"
        }
       }
      },
      "text/html": [
       "<div>                            <div id=\"247bae3b-9429-4a6b-b2e3-cb548e148393\" class=\"plotly-graph-div\" style=\"height:525px; width:100%;\"></div>            <script type=\"text/javascript\">                require([\"plotly\"], function(Plotly) {                    window.PLOTLYENV=window.PLOTLYENV || {};                                    if (document.getElementById(\"247bae3b-9429-4a6b-b2e3-cb548e148393\")) {                    Plotly.newPlot(                        \"247bae3b-9429-4a6b-b2e3-cb548e148393\",                        [{\"name\": \"\\uc804\\uc7c1\\uaddc\\ubaa8\", \"type\": \"bar\", \"x\": [\"\\ud14c\\ub7ec\\uc640\\uc758\\uc804\\uc7c1\", \"\\uc601\\uc6d0\\ud55c\\uc790\\uc720\\uc791\\uc804-\\ud544\\ub9ac\\ud540\", \"\\uc601\\uc6d0\\ud55c\\uc790\\uc720\\uc791\\uc804-\\uc544\\ud504\\ub9ac\\uce74\\uc758\\ubfd4\", \"\\uc774\\ub77c\\ud06c\\uc804\\uc7c1\", \"\\uc774\\ub780-PJAK\\ucda9\\ub3cc\", \"\\uc608\\uba58\\uc758 Houthi \\ubc18\\ub780\", \"\\ud30c\\ub77c\\uacfc\\uc774\\uc778\\ubbfc\\uad70\\ubc18\\ub780\", \"\\ud30c\\ud0c0-\\ud558\\ub9c8\\uc2a4 \\ubd84\\uc7c1\", \"\\uc774\\ub77c\\ud06c\\ub0b4\\uc804\", \"2006\\ub144\\ub808\\ubc14\\ub17c\\uc804\\uc7c1\", \"\\uba55\\uc2dc\\ucf54\\ub9c8\\uc57d\\uc804\\uc7c1\", \"\\uc18c\\ub9d0\\ub9ac\\uc544\\uc804\\uc7c1\", \"\\uc601\\uc6d0\\ud55c\\uc790\\uc720\\uc791\\uc804-\\ud2b8\\ub79c\\uc2a4\\uc0ac\\ud558\\ub77c\", \"2008 \\uc548\\uc8fc\\uc548\\uce68\\uacf5\", \"\\uc18c\\ub9d0\\ub9ac\\uc544\\ub0b4\\uc804\", \"\\ubcf4\\ucf54\\ud558\\ub78c\\ubc18\\ub780\", \"\\ud0b9\\uc2a4\\ud1a4\\ubd88\\uc548\", \"\\ub9ac\\ube44\\uc544\\ub0b4\\uc804\", \"\\uc2dc\\ub9ac\\uc544\\ub0b4\\uc804\", \"\\ub808\\ubc14\\ub17c\\uc5d0\\uc11c\\uc758\\uc2dc\\ub9ac\\uc544\\ub0b4\\uc804\\ud30c\\uae09\", \"\\ubd81\\ubd80\\ub9d0\\ub9ac\\uc804\\uc7c1\", \"\\uc774\\ub77c\\ud06c \\ub0b4\\uc804\", \"\\ub9ac\\ube44\\uc544 \\ub0b4\\uc804\", \"ISIL\\uc5d0\\ub300\\ud55c\\uad6d\\uc81c\\uad70\\uc0ac\\uac1c\\uc785\", \"\\uc608\\uba58\\ub0b4\\uc804\", \"\\ub9c8\\ub77c\\uc704\\uc704\\uae30\", \"\\uc774\\ub77c\\ud06c\\ubc18\\ub780\", \"2019-20 \\ud398\\ub974\\uc2dc\\uc544\\ub9cc\\uc704\\uae30\"], \"y\": [1000000, 115800, 500000, 1000000, 17000, 32000, 3650, 55000, 748000, 10500, 360000, 35250, 5325, 2500, 41600, 10000, 1500, 37000, 144600, 13500, 24764, 770000, 400000, 472260, 156000, 7500, 188900, 10000]}, {\"name\": \"\\uc8fc\\uc2dd\\ubcc0\\ub3d9\\uc810\\uc218(X10)\", \"type\": \"bar\", \"x\": [\"\\ud14c\\ub7ec\\uc640\\uc758\\uc804\\uc7c1\", \"\\uc601\\uc6d0\\ud55c\\uc790\\uc720\\uc791\\uc804-\\ud544\\ub9ac\\ud540\", \"\\uc601\\uc6d0\\ud55c\\uc790\\uc720\\uc791\\uc804-\\uc544\\ud504\\ub9ac\\uce74\\uc758\\ubfd4\", \"\\uc774\\ub77c\\ud06c\\uc804\\uc7c1\", \"\\uc774\\ub780-PJAK\\ucda9\\ub3cc\", \"\\uc608\\uba58\\uc758 Houthi \\ubc18\\ub780\", \"\\ud30c\\ub77c\\uacfc\\uc774\\uc778\\ubbfc\\uad70\\ubc18\\ub780\", \"\\ud30c\\ud0c0-\\ud558\\ub9c8\\uc2a4 \\ubd84\\uc7c1\", \"\\uc774\\ub77c\\ud06c\\ub0b4\\uc804\", \"2006\\ub144\\ub808\\ubc14\\ub17c\\uc804\\uc7c1\", \"\\uba55\\uc2dc\\ucf54\\ub9c8\\uc57d\\uc804\\uc7c1\", \"\\uc18c\\ub9d0\\ub9ac\\uc544\\uc804\\uc7c1\", \"\\uc601\\uc6d0\\ud55c\\uc790\\uc720\\uc791\\uc804-\\ud2b8\\ub79c\\uc2a4\\uc0ac\\ud558\\ub77c\", \"2008 \\uc548\\uc8fc\\uc548\\uce68\\uacf5\", \"\\uc18c\\ub9d0\\ub9ac\\uc544\\ub0b4\\uc804\", \"\\ubcf4\\ucf54\\ud558\\ub78c\\ubc18\\ub780\", \"\\ud0b9\\uc2a4\\ud1a4\\ubd88\\uc548\", \"\\ub9ac\\ube44\\uc544\\ub0b4\\uc804\", \"\\uc2dc\\ub9ac\\uc544\\ub0b4\\uc804\", \"\\ub808\\ubc14\\ub17c\\uc5d0\\uc11c\\uc758\\uc2dc\\ub9ac\\uc544\\ub0b4\\uc804\\ud30c\\uae09\", \"\\ubd81\\ubd80\\ub9d0\\ub9ac\\uc804\\uc7c1\", \"\\uc774\\ub77c\\ud06c \\ub0b4\\uc804\", \"\\ub9ac\\ube44\\uc544 \\ub0b4\\uc804\", \"ISIL\\uc5d0\\ub300\\ud55c\\uad6d\\uc81c\\uad70\\uc0ac\\uac1c\\uc785\", \"\\uc608\\uba58\\ub0b4\\uc804\", \"\\ub9c8\\ub77c\\uc704\\uc704\\uae30\", \"\\uc774\\ub77c\\ud06c\\ubc18\\ub780\", \"2019-20 \\ud398\\ub974\\uc2dc\\uc544\\ub9cc\\uc704\\uae30\"], \"y\": [451390, 145160, 269920, 94180, 170260, 870290, 172720, 330240, 281360, 197320, 207380, 383220, 225920, 280040, 488180, 0, 294880, 246950, 516820, 225420, 527650, 200010, 316660, 183420, 529340, 0, 0, 0]}],                        {\"template\": {\"data\": {\"bar\": [{\"error_x\": {\"color\": \"#2a3f5f\"}, \"error_y\": {\"color\": \"#2a3f5f\"}, \"marker\": {\"line\": {\"color\": \"#E5ECF6\", \"width\": 0.5}}, \"type\": \"bar\"}], \"barpolar\": [{\"marker\": {\"line\": {\"color\": \"#E5ECF6\", \"width\": 0.5}}, \"type\": \"barpolar\"}], \"carpet\": [{\"aaxis\": {\"endlinecolor\": \"#2a3f5f\", \"gridcolor\": \"white\", \"linecolor\": \"white\", \"minorgridcolor\": \"white\", \"startlinecolor\": \"#2a3f5f\"}, \"baxis\": {\"endlinecolor\": \"#2a3f5f\", \"gridcolor\": \"white\", \"linecolor\": \"white\", \"minorgridcolor\": \"white\", \"startlinecolor\": \"#2a3f5f\"}, \"type\": \"carpet\"}], \"choropleth\": [{\"colorbar\": {\"outlinewidth\": 0, \"ticks\": \"\"}, \"type\": \"choropleth\"}], \"contour\": [{\"colorbar\": {\"outlinewidth\": 0, \"ticks\": \"\"}, \"colorscale\": [[0.0, \"#0d0887\"], [0.1111111111111111, \"#46039f\"], [0.2222222222222222, \"#7201a8\"], [0.3333333333333333, \"#9c179e\"], [0.4444444444444444, \"#bd3786\"], [0.5555555555555556, \"#d8576b\"], [0.6666666666666666, \"#ed7953\"], [0.7777777777777778, \"#fb9f3a\"], [0.8888888888888888, \"#fdca26\"], [1.0, \"#f0f921\"]], \"type\": \"contour\"}], \"contourcarpet\": [{\"colorbar\": {\"outlinewidth\": 0, \"ticks\": \"\"}, \"type\": \"contourcarpet\"}], \"heatmap\": [{\"colorbar\": {\"outlinewidth\": 0, \"ticks\": \"\"}, \"colorscale\": [[0.0, \"#0d0887\"], [0.1111111111111111, \"#46039f\"], [0.2222222222222222, \"#7201a8\"], [0.3333333333333333, \"#9c179e\"], [0.4444444444444444, \"#bd3786\"], [0.5555555555555556, \"#d8576b\"], [0.6666666666666666, \"#ed7953\"], [0.7777777777777778, \"#fb9f3a\"], [0.8888888888888888, \"#fdca26\"], [1.0, \"#f0f921\"]], \"type\": \"heatmap\"}], \"heatmapgl\": [{\"colorbar\": {\"outlinewidth\": 0, \"ticks\": \"\"}, \"colorscale\": [[0.0, \"#0d0887\"], [0.1111111111111111, \"#46039f\"], [0.2222222222222222, \"#7201a8\"], [0.3333333333333333, \"#9c179e\"], [0.4444444444444444, \"#bd3786\"], [0.5555555555555556, \"#d8576b\"], [0.6666666666666666, \"#ed7953\"], [0.7777777777777778, \"#fb9f3a\"], [0.8888888888888888, \"#fdca26\"], [1.0, \"#f0f921\"]], \"type\": \"heatmapgl\"}], \"histogram\": [{\"marker\": {\"colorbar\": {\"outlinewidth\": 0, \"ticks\": \"\"}}, \"type\": \"histogram\"}], \"histogram2d\": [{\"colorbar\": {\"outlinewidth\": 0, \"ticks\": \"\"}, \"colorscale\": [[0.0, \"#0d0887\"], [0.1111111111111111, \"#46039f\"], [0.2222222222222222, \"#7201a8\"], [0.3333333333333333, \"#9c179e\"], [0.4444444444444444, \"#bd3786\"], [0.5555555555555556, \"#d8576b\"], [0.6666666666666666, \"#ed7953\"], [0.7777777777777778, \"#fb9f3a\"], [0.8888888888888888, \"#fdca26\"], [1.0, \"#f0f921\"]], \"type\": \"histogram2d\"}], \"histogram2dcontour\": [{\"colorbar\": {\"outlinewidth\": 0, \"ticks\": \"\"}, \"colorscale\": [[0.0, \"#0d0887\"], [0.1111111111111111, \"#46039f\"], [0.2222222222222222, \"#7201a8\"], [0.3333333333333333, \"#9c179e\"], [0.4444444444444444, \"#bd3786\"], [0.5555555555555556, \"#d8576b\"], [0.6666666666666666, \"#ed7953\"], [0.7777777777777778, \"#fb9f3a\"], [0.8888888888888888, \"#fdca26\"], [1.0, \"#f0f921\"]], \"type\": \"histogram2dcontour\"}], \"mesh3d\": [{\"colorbar\": {\"outlinewidth\": 0, \"ticks\": \"\"}, \"type\": \"mesh3d\"}], \"parcoords\": [{\"line\": {\"colorbar\": {\"outlinewidth\": 0, \"ticks\": \"\"}}, \"type\": \"parcoords\"}], \"pie\": [{\"automargin\": true, \"type\": \"pie\"}], \"scatter\": [{\"marker\": {\"colorbar\": {\"outlinewidth\": 0, \"ticks\": \"\"}}, \"type\": \"scatter\"}], \"scatter3d\": [{\"line\": {\"colorbar\": {\"outlinewidth\": 0, \"ticks\": \"\"}}, \"marker\": {\"colorbar\": {\"outlinewidth\": 0, \"ticks\": \"\"}}, \"type\": \"scatter3d\"}], \"scattercarpet\": [{\"marker\": {\"colorbar\": {\"outlinewidth\": 0, \"ticks\": \"\"}}, \"type\": \"scattercarpet\"}], \"scattergeo\": [{\"marker\": {\"colorbar\": {\"outlinewidth\": 0, \"ticks\": \"\"}}, \"type\": \"scattergeo\"}], \"scattergl\": [{\"marker\": {\"colorbar\": {\"outlinewidth\": 0, \"ticks\": \"\"}}, \"type\": \"scattergl\"}], \"scattermapbox\": [{\"marker\": {\"colorbar\": {\"outlinewidth\": 0, \"ticks\": \"\"}}, \"type\": \"scattermapbox\"}], \"scatterpolar\": [{\"marker\": {\"colorbar\": {\"outlinewidth\": 0, \"ticks\": \"\"}}, \"type\": \"scatterpolar\"}], \"scatterpolargl\": [{\"marker\": {\"colorbar\": {\"outlinewidth\": 0, \"ticks\": \"\"}}, \"type\": \"scatterpolargl\"}], \"scatterternary\": [{\"marker\": {\"colorbar\": {\"outlinewidth\": 0, \"ticks\": \"\"}}, \"type\": \"scatterternary\"}], \"surface\": [{\"colorbar\": {\"outlinewidth\": 0, \"ticks\": \"\"}, \"colorscale\": [[0.0, \"#0d0887\"], [0.1111111111111111, \"#46039f\"], [0.2222222222222222, \"#7201a8\"], [0.3333333333333333, \"#9c179e\"], [0.4444444444444444, \"#bd3786\"], [0.5555555555555556, \"#d8576b\"], [0.6666666666666666, \"#ed7953\"], [0.7777777777777778, \"#fb9f3a\"], [0.8888888888888888, \"#fdca26\"], [1.0, \"#f0f921\"]], \"type\": \"surface\"}], \"table\": [{\"cells\": {\"fill\": {\"color\": \"#EBF0F8\"}, \"line\": {\"color\": \"white\"}}, \"header\": {\"fill\": {\"color\": \"#C8D4E3\"}, \"line\": {\"color\": \"white\"}}, \"type\": \"table\"}]}, \"layout\": {\"annotationdefaults\": {\"arrowcolor\": \"#2a3f5f\", \"arrowhead\": 0, \"arrowwidth\": 1}, \"autotypenumbers\": \"strict\", \"coloraxis\": {\"colorbar\": {\"outlinewidth\": 0, \"ticks\": \"\"}}, \"colorscale\": {\"diverging\": [[0, \"#8e0152\"], [0.1, \"#c51b7d\"], [0.2, \"#de77ae\"], [0.3, \"#f1b6da\"], [0.4, \"#fde0ef\"], [0.5, \"#f7f7f7\"], [0.6, \"#e6f5d0\"], [0.7, \"#b8e186\"], [0.8, \"#7fbc41\"], [0.9, \"#4d9221\"], [1, \"#276419\"]], \"sequential\": [[0.0, \"#0d0887\"], [0.1111111111111111, \"#46039f\"], [0.2222222222222222, \"#7201a8\"], [0.3333333333333333, \"#9c179e\"], [0.4444444444444444, \"#bd3786\"], [0.5555555555555556, \"#d8576b\"], [0.6666666666666666, \"#ed7953\"], [0.7777777777777778, \"#fb9f3a\"], [0.8888888888888888, \"#fdca26\"], [1.0, \"#f0f921\"]], \"sequentialminus\": [[0.0, \"#0d0887\"], [0.1111111111111111, \"#46039f\"], [0.2222222222222222, \"#7201a8\"], [0.3333333333333333, \"#9c179e\"], [0.4444444444444444, \"#bd3786\"], [0.5555555555555556, \"#d8576b\"], [0.6666666666666666, \"#ed7953\"], [0.7777777777777778, \"#fb9f3a\"], [0.8888888888888888, \"#fdca26\"], [1.0, \"#f0f921\"]]}, \"colorway\": [\"#636efa\", \"#EF553B\", \"#00cc96\", \"#ab63fa\", \"#FFA15A\", \"#19d3f3\", \"#FF6692\", \"#B6E880\", \"#FF97FF\", \"#FECB52\"], \"font\": {\"color\": \"#2a3f5f\"}, \"geo\": {\"bgcolor\": \"white\", \"lakecolor\": \"white\", \"landcolor\": \"#E5ECF6\", \"showlakes\": true, \"showland\": true, \"subunitcolor\": \"white\"}, \"hoverlabel\": {\"align\": \"left\"}, \"hovermode\": \"closest\", \"mapbox\": {\"style\": \"light\"}, \"paper_bgcolor\": \"white\", \"plot_bgcolor\": \"#E5ECF6\", \"polar\": {\"angularaxis\": {\"gridcolor\": \"white\", \"linecolor\": \"white\", \"ticks\": \"\"}, \"bgcolor\": \"#E5ECF6\", \"radialaxis\": {\"gridcolor\": \"white\", \"linecolor\": \"white\", \"ticks\": \"\"}}, \"scene\": {\"xaxis\": {\"backgroundcolor\": \"#E5ECF6\", \"gridcolor\": \"white\", \"gridwidth\": 2, \"linecolor\": \"white\", \"showbackground\": true, \"ticks\": \"\", \"zerolinecolor\": \"white\"}, \"yaxis\": {\"backgroundcolor\": \"#E5ECF6\", \"gridcolor\": \"white\", \"gridwidth\": 2, \"linecolor\": \"white\", \"showbackground\": true, \"ticks\": \"\", \"zerolinecolor\": \"white\"}, \"zaxis\": {\"backgroundcolor\": \"#E5ECF6\", \"gridcolor\": \"white\", \"gridwidth\": 2, \"linecolor\": \"white\", \"showbackground\": true, \"ticks\": \"\", \"zerolinecolor\": \"white\"}}, \"shapedefaults\": {\"line\": {\"color\": \"#2a3f5f\"}}, \"ternary\": {\"aaxis\": {\"gridcolor\": \"white\", \"linecolor\": \"white\", \"ticks\": \"\"}, \"baxis\": {\"gridcolor\": \"white\", \"linecolor\": \"white\", \"ticks\": \"\"}, \"bgcolor\": \"#E5ECF6\", \"caxis\": {\"gridcolor\": \"white\", \"linecolor\": \"white\", \"ticks\": \"\"}}, \"title\": {\"x\": 0.05}, \"xaxis\": {\"automargin\": true, \"gridcolor\": \"white\", \"linecolor\": \"white\", \"ticks\": \"\", \"title\": {\"standoff\": 15}, \"zerolinecolor\": \"white\", \"zerolinewidth\": 2}, \"yaxis\": {\"automargin\": true, \"gridcolor\": \"white\", \"linecolor\": \"white\", \"ticks\": \"\", \"title\": {\"standoff\": 15}, \"zerolinecolor\": \"white\", \"zerolinewidth\": 2}}}, \"title\": {\"text\": \"<b> 27\\ubc88\\uc758 \\uc804\\uc7c1\\uc758 \\uc804\\uc7c1\\uaddc\\ubaa8\\uc640 \\uc8fc\\uc2dd\\ubcc0\\ub3d9\\uc810\\uc218\"}},                        {\"responsive\": true}                    ).then(function(){\n",
       "                            \n",
       "var gd = document.getElementById('247bae3b-9429-4a6b-b2e3-cb548e148393');\n",
       "var x = new MutationObserver(function (mutations, observer) {{\n",
       "        var display = window.getComputedStyle(gd).display;\n",
       "        if (!display || display === 'none') {{\n",
       "            console.log([gd, 'removed!']);\n",
       "            Plotly.purge(gd);\n",
       "            observer.disconnect();\n",
       "        }}\n",
       "}});\n",
       "\n",
       "// Listen for the removal of the full notebook cells\n",
       "var notebookContainer = gd.closest('#notebook-container');\n",
       "if (notebookContainer) {{\n",
       "    x.observe(notebookContainer, {childList: true});\n",
       "}}\n",
       "\n",
       "// Listen for the clearing of the current output cell\n",
       "var outputEl = gd.closest('.output');\n",
       "if (outputEl) {{\n",
       "    x.observe(outputEl, {childList: true});\n",
       "}}\n",
       "\n",
       "                        })                };                });            </script>        </div>"
      ]
     },
     "metadata": {},
     "output_type": "display_data"
    }
   ],
   "source": [
    "fig = go.Figure()\n",
    "fig.add_trace(go.Bar(y=ls_war_X2['War_volume'], name='전쟁규모', x = ls_war_X2['War_name']))\n",
    "fig.add_trace(go.Bar(y=ls_war_X2['Abs_sum']*10, name='주식변동점수(X10)', x = ls_war_X2['War_name']))\n",
    "fig.update_layout(title='<b> 27번의 전쟁의 전쟁규모와 주식변동점수')\n",
    "fig.show();"
   ]
  },
  {
   "cell_type": "markdown",
   "metadata": {},
   "source": [
    "## 전쟁 종류에 따라서 전쟁규모순위와  주식변동점수의 순위 또한 다르다."
   ]
  },
  {
   "cell_type": "code",
   "execution_count": 19,
   "metadata": {},
   "outputs": [
    {
     "data": {
      "application/vnd.plotly.v1+json": {
       "config": {
        "plotlyServerURL": "https://plot.ly"
       },
       "data": [
        {
         "name": "전쟁규모",
         "type": "bar",
         "x": [
          "테러",
          "테러",
          "테러",
          "테러",
          "민족",
          "내란",
          "내란",
          "테러",
          "테러",
          "내란",
          "마약",
          "해적",
          "테러",
          "내란",
          "내란",
          "해적",
          "마약",
          "내란",
          "내란",
          "내란",
          "테러",
          "내란",
          "내란",
          "테러",
          "내란",
          "테러",
          "내란",
          "민족"
         ],
         "y": [
          1000000,
          115800,
          500000,
          1000000,
          17000,
          32000,
          3650,
          55000,
          748000,
          10500,
          360000,
          35250,
          5325,
          2500,
          41600,
          10000,
          1500,
          37000,
          144600,
          13500,
          24764,
          770000,
          400000,
          472260,
          156000,
          7500,
          188900,
          10000
         ]
        },
        {
         "name": "평균변화율(X10)",
         "type": "bar",
         "x": [
          "테러",
          "테러",
          "테러",
          "테러",
          "민족",
          "내란",
          "내란",
          "테러",
          "테러",
          "내란",
          "마약",
          "해적",
          "테러",
          "내란",
          "내란",
          "해적",
          "마약",
          "내란",
          "내란",
          "내란",
          "테러",
          "내란",
          "내란",
          "테러",
          "내란",
          "테러",
          "내란",
          "민족"
         ],
         "y": [
          451390,
          145160,
          269920,
          94180,
          170260,
          870290,
          172720,
          330240,
          281360,
          197320,
          207380,
          383220,
          225920,
          280040,
          488180,
          0,
          294880,
          246950,
          516820,
          225420,
          527650,
          200010,
          316660,
          183420,
          529340,
          0,
          0,
          0
         ]
        }
       ],
       "layout": {
        "template": {
         "data": {
          "bar": [
           {
            "error_x": {
             "color": "#2a3f5f"
            },
            "error_y": {
             "color": "#2a3f5f"
            },
            "marker": {
             "line": {
              "color": "#E5ECF6",
              "width": 0.5
             }
            },
            "type": "bar"
           }
          ],
          "barpolar": [
           {
            "marker": {
             "line": {
              "color": "#E5ECF6",
              "width": 0.5
             }
            },
            "type": "barpolar"
           }
          ],
          "carpet": [
           {
            "aaxis": {
             "endlinecolor": "#2a3f5f",
             "gridcolor": "white",
             "linecolor": "white",
             "minorgridcolor": "white",
             "startlinecolor": "#2a3f5f"
            },
            "baxis": {
             "endlinecolor": "#2a3f5f",
             "gridcolor": "white",
             "linecolor": "white",
             "minorgridcolor": "white",
             "startlinecolor": "#2a3f5f"
            },
            "type": "carpet"
           }
          ],
          "choropleth": [
           {
            "colorbar": {
             "outlinewidth": 0,
             "ticks": ""
            },
            "type": "choropleth"
           }
          ],
          "contour": [
           {
            "colorbar": {
             "outlinewidth": 0,
             "ticks": ""
            },
            "colorscale": [
             [
              0,
              "#0d0887"
             ],
             [
              0.1111111111111111,
              "#46039f"
             ],
             [
              0.2222222222222222,
              "#7201a8"
             ],
             [
              0.3333333333333333,
              "#9c179e"
             ],
             [
              0.4444444444444444,
              "#bd3786"
             ],
             [
              0.5555555555555556,
              "#d8576b"
             ],
             [
              0.6666666666666666,
              "#ed7953"
             ],
             [
              0.7777777777777778,
              "#fb9f3a"
             ],
             [
              0.8888888888888888,
              "#fdca26"
             ],
             [
              1,
              "#f0f921"
             ]
            ],
            "type": "contour"
           }
          ],
          "contourcarpet": [
           {
            "colorbar": {
             "outlinewidth": 0,
             "ticks": ""
            },
            "type": "contourcarpet"
           }
          ],
          "heatmap": [
           {
            "colorbar": {
             "outlinewidth": 0,
             "ticks": ""
            },
            "colorscale": [
             [
              0,
              "#0d0887"
             ],
             [
              0.1111111111111111,
              "#46039f"
             ],
             [
              0.2222222222222222,
              "#7201a8"
             ],
             [
              0.3333333333333333,
              "#9c179e"
             ],
             [
              0.4444444444444444,
              "#bd3786"
             ],
             [
              0.5555555555555556,
              "#d8576b"
             ],
             [
              0.6666666666666666,
              "#ed7953"
             ],
             [
              0.7777777777777778,
              "#fb9f3a"
             ],
             [
              0.8888888888888888,
              "#fdca26"
             ],
             [
              1,
              "#f0f921"
             ]
            ],
            "type": "heatmap"
           }
          ],
          "heatmapgl": [
           {
            "colorbar": {
             "outlinewidth": 0,
             "ticks": ""
            },
            "colorscale": [
             [
              0,
              "#0d0887"
             ],
             [
              0.1111111111111111,
              "#46039f"
             ],
             [
              0.2222222222222222,
              "#7201a8"
             ],
             [
              0.3333333333333333,
              "#9c179e"
             ],
             [
              0.4444444444444444,
              "#bd3786"
             ],
             [
              0.5555555555555556,
              "#d8576b"
             ],
             [
              0.6666666666666666,
              "#ed7953"
             ],
             [
              0.7777777777777778,
              "#fb9f3a"
             ],
             [
              0.8888888888888888,
              "#fdca26"
             ],
             [
              1,
              "#f0f921"
             ]
            ],
            "type": "heatmapgl"
           }
          ],
          "histogram": [
           {
            "marker": {
             "colorbar": {
              "outlinewidth": 0,
              "ticks": ""
             }
            },
            "type": "histogram"
           }
          ],
          "histogram2d": [
           {
            "colorbar": {
             "outlinewidth": 0,
             "ticks": ""
            },
            "colorscale": [
             [
              0,
              "#0d0887"
             ],
             [
              0.1111111111111111,
              "#46039f"
             ],
             [
              0.2222222222222222,
              "#7201a8"
             ],
             [
              0.3333333333333333,
              "#9c179e"
             ],
             [
              0.4444444444444444,
              "#bd3786"
             ],
             [
              0.5555555555555556,
              "#d8576b"
             ],
             [
              0.6666666666666666,
              "#ed7953"
             ],
             [
              0.7777777777777778,
              "#fb9f3a"
             ],
             [
              0.8888888888888888,
              "#fdca26"
             ],
             [
              1,
              "#f0f921"
             ]
            ],
            "type": "histogram2d"
           }
          ],
          "histogram2dcontour": [
           {
            "colorbar": {
             "outlinewidth": 0,
             "ticks": ""
            },
            "colorscale": [
             [
              0,
              "#0d0887"
             ],
             [
              0.1111111111111111,
              "#46039f"
             ],
             [
              0.2222222222222222,
              "#7201a8"
             ],
             [
              0.3333333333333333,
              "#9c179e"
             ],
             [
              0.4444444444444444,
              "#bd3786"
             ],
             [
              0.5555555555555556,
              "#d8576b"
             ],
             [
              0.6666666666666666,
              "#ed7953"
             ],
             [
              0.7777777777777778,
              "#fb9f3a"
             ],
             [
              0.8888888888888888,
              "#fdca26"
             ],
             [
              1,
              "#f0f921"
             ]
            ],
            "type": "histogram2dcontour"
           }
          ],
          "mesh3d": [
           {
            "colorbar": {
             "outlinewidth": 0,
             "ticks": ""
            },
            "type": "mesh3d"
           }
          ],
          "parcoords": [
           {
            "line": {
             "colorbar": {
              "outlinewidth": 0,
              "ticks": ""
             }
            },
            "type": "parcoords"
           }
          ],
          "pie": [
           {
            "automargin": true,
            "type": "pie"
           }
          ],
          "scatter": [
           {
            "marker": {
             "colorbar": {
              "outlinewidth": 0,
              "ticks": ""
             }
            },
            "type": "scatter"
           }
          ],
          "scatter3d": [
           {
            "line": {
             "colorbar": {
              "outlinewidth": 0,
              "ticks": ""
             }
            },
            "marker": {
             "colorbar": {
              "outlinewidth": 0,
              "ticks": ""
             }
            },
            "type": "scatter3d"
           }
          ],
          "scattercarpet": [
           {
            "marker": {
             "colorbar": {
              "outlinewidth": 0,
              "ticks": ""
             }
            },
            "type": "scattercarpet"
           }
          ],
          "scattergeo": [
           {
            "marker": {
             "colorbar": {
              "outlinewidth": 0,
              "ticks": ""
             }
            },
            "type": "scattergeo"
           }
          ],
          "scattergl": [
           {
            "marker": {
             "colorbar": {
              "outlinewidth": 0,
              "ticks": ""
             }
            },
            "type": "scattergl"
           }
          ],
          "scattermapbox": [
           {
            "marker": {
             "colorbar": {
              "outlinewidth": 0,
              "ticks": ""
             }
            },
            "type": "scattermapbox"
           }
          ],
          "scatterpolar": [
           {
            "marker": {
             "colorbar": {
              "outlinewidth": 0,
              "ticks": ""
             }
            },
            "type": "scatterpolar"
           }
          ],
          "scatterpolargl": [
           {
            "marker": {
             "colorbar": {
              "outlinewidth": 0,
              "ticks": ""
             }
            },
            "type": "scatterpolargl"
           }
          ],
          "scatterternary": [
           {
            "marker": {
             "colorbar": {
              "outlinewidth": 0,
              "ticks": ""
             }
            },
            "type": "scatterternary"
           }
          ],
          "surface": [
           {
            "colorbar": {
             "outlinewidth": 0,
             "ticks": ""
            },
            "colorscale": [
             [
              0,
              "#0d0887"
             ],
             [
              0.1111111111111111,
              "#46039f"
             ],
             [
              0.2222222222222222,
              "#7201a8"
             ],
             [
              0.3333333333333333,
              "#9c179e"
             ],
             [
              0.4444444444444444,
              "#bd3786"
             ],
             [
              0.5555555555555556,
              "#d8576b"
             ],
             [
              0.6666666666666666,
              "#ed7953"
             ],
             [
              0.7777777777777778,
              "#fb9f3a"
             ],
             [
              0.8888888888888888,
              "#fdca26"
             ],
             [
              1,
              "#f0f921"
             ]
            ],
            "type": "surface"
           }
          ],
          "table": [
           {
            "cells": {
             "fill": {
              "color": "#EBF0F8"
             },
             "line": {
              "color": "white"
             }
            },
            "header": {
             "fill": {
              "color": "#C8D4E3"
             },
             "line": {
              "color": "white"
             }
            },
            "type": "table"
           }
          ]
         },
         "layout": {
          "annotationdefaults": {
           "arrowcolor": "#2a3f5f",
           "arrowhead": 0,
           "arrowwidth": 1
          },
          "autotypenumbers": "strict",
          "coloraxis": {
           "colorbar": {
            "outlinewidth": 0,
            "ticks": ""
           }
          },
          "colorscale": {
           "diverging": [
            [
             0,
             "#8e0152"
            ],
            [
             0.1,
             "#c51b7d"
            ],
            [
             0.2,
             "#de77ae"
            ],
            [
             0.3,
             "#f1b6da"
            ],
            [
             0.4,
             "#fde0ef"
            ],
            [
             0.5,
             "#f7f7f7"
            ],
            [
             0.6,
             "#e6f5d0"
            ],
            [
             0.7,
             "#b8e186"
            ],
            [
             0.8,
             "#7fbc41"
            ],
            [
             0.9,
             "#4d9221"
            ],
            [
             1,
             "#276419"
            ]
           ],
           "sequential": [
            [
             0,
             "#0d0887"
            ],
            [
             0.1111111111111111,
             "#46039f"
            ],
            [
             0.2222222222222222,
             "#7201a8"
            ],
            [
             0.3333333333333333,
             "#9c179e"
            ],
            [
             0.4444444444444444,
             "#bd3786"
            ],
            [
             0.5555555555555556,
             "#d8576b"
            ],
            [
             0.6666666666666666,
             "#ed7953"
            ],
            [
             0.7777777777777778,
             "#fb9f3a"
            ],
            [
             0.8888888888888888,
             "#fdca26"
            ],
            [
             1,
             "#f0f921"
            ]
           ],
           "sequentialminus": [
            [
             0,
             "#0d0887"
            ],
            [
             0.1111111111111111,
             "#46039f"
            ],
            [
             0.2222222222222222,
             "#7201a8"
            ],
            [
             0.3333333333333333,
             "#9c179e"
            ],
            [
             0.4444444444444444,
             "#bd3786"
            ],
            [
             0.5555555555555556,
             "#d8576b"
            ],
            [
             0.6666666666666666,
             "#ed7953"
            ],
            [
             0.7777777777777778,
             "#fb9f3a"
            ],
            [
             0.8888888888888888,
             "#fdca26"
            ],
            [
             1,
             "#f0f921"
            ]
           ]
          },
          "colorway": [
           "#636efa",
           "#EF553B",
           "#00cc96",
           "#ab63fa",
           "#FFA15A",
           "#19d3f3",
           "#FF6692",
           "#B6E880",
           "#FF97FF",
           "#FECB52"
          ],
          "font": {
           "color": "#2a3f5f"
          },
          "geo": {
           "bgcolor": "white",
           "lakecolor": "white",
           "landcolor": "#E5ECF6",
           "showlakes": true,
           "showland": true,
           "subunitcolor": "white"
          },
          "hoverlabel": {
           "align": "left"
          },
          "hovermode": "closest",
          "mapbox": {
           "style": "light"
          },
          "paper_bgcolor": "white",
          "plot_bgcolor": "#E5ECF6",
          "polar": {
           "angularaxis": {
            "gridcolor": "white",
            "linecolor": "white",
            "ticks": ""
           },
           "bgcolor": "#E5ECF6",
           "radialaxis": {
            "gridcolor": "white",
            "linecolor": "white",
            "ticks": ""
           }
          },
          "scene": {
           "xaxis": {
            "backgroundcolor": "#E5ECF6",
            "gridcolor": "white",
            "gridwidth": 2,
            "linecolor": "white",
            "showbackground": true,
            "ticks": "",
            "zerolinecolor": "white"
           },
           "yaxis": {
            "backgroundcolor": "#E5ECF6",
            "gridcolor": "white",
            "gridwidth": 2,
            "linecolor": "white",
            "showbackground": true,
            "ticks": "",
            "zerolinecolor": "white"
           },
           "zaxis": {
            "backgroundcolor": "#E5ECF6",
            "gridcolor": "white",
            "gridwidth": 2,
            "linecolor": "white",
            "showbackground": true,
            "ticks": "",
            "zerolinecolor": "white"
           }
          },
          "shapedefaults": {
           "line": {
            "color": "#2a3f5f"
           }
          },
          "ternary": {
           "aaxis": {
            "gridcolor": "white",
            "linecolor": "white",
            "ticks": ""
           },
           "baxis": {
            "gridcolor": "white",
            "linecolor": "white",
            "ticks": ""
           },
           "bgcolor": "#E5ECF6",
           "caxis": {
            "gridcolor": "white",
            "linecolor": "white",
            "ticks": ""
           }
          },
          "title": {
           "x": 0.05
          },
          "xaxis": {
           "automargin": true,
           "gridcolor": "white",
           "linecolor": "white",
           "ticks": "",
           "title": {
            "standoff": 15
           },
           "zerolinecolor": "white",
           "zerolinewidth": 2
          },
          "yaxis": {
           "automargin": true,
           "gridcolor": "white",
           "linecolor": "white",
           "ticks": "",
           "title": {
            "standoff": 15
           },
           "zerolinecolor": "white",
           "zerolinewidth": 2
          }
         }
        },
        "title": {
         "text": "<b> 5가지 갈등종류 : 테러, 민족, 내란, 마약, 해적"
        }
       }
      },
      "text/html": [
       "<div>                            <div id=\"cd232f0b-894c-4806-a271-0cfb41c0d0c7\" class=\"plotly-graph-div\" style=\"height:525px; width:100%;\"></div>            <script type=\"text/javascript\">                require([\"plotly\"], function(Plotly) {                    window.PLOTLYENV=window.PLOTLYENV || {};                                    if (document.getElementById(\"cd232f0b-894c-4806-a271-0cfb41c0d0c7\")) {                    Plotly.newPlot(                        \"cd232f0b-894c-4806-a271-0cfb41c0d0c7\",                        [{\"name\": \"\\uc804\\uc7c1\\uaddc\\ubaa8\", \"type\": \"bar\", \"x\": [\"\\ud14c\\ub7ec\", \"\\ud14c\\ub7ec\", \"\\ud14c\\ub7ec\", \"\\ud14c\\ub7ec\", \"\\ubbfc\\uc871\", \"\\ub0b4\\ub780\", \"\\ub0b4\\ub780\", \"\\ud14c\\ub7ec\", \"\\ud14c\\ub7ec\", \"\\ub0b4\\ub780\", \"\\ub9c8\\uc57d\", \"\\ud574\\uc801\", \"\\ud14c\\ub7ec\", \"\\ub0b4\\ub780\", \"\\ub0b4\\ub780\", \"\\ud574\\uc801\", \"\\ub9c8\\uc57d\", \"\\ub0b4\\ub780\", \"\\ub0b4\\ub780\", \"\\ub0b4\\ub780\", \"\\ud14c\\ub7ec\", \"\\ub0b4\\ub780\", \"\\ub0b4\\ub780\", \"\\ud14c\\ub7ec\", \"\\ub0b4\\ub780\", \"\\ud14c\\ub7ec\", \"\\ub0b4\\ub780\", \"\\ubbfc\\uc871\"], \"y\": [1000000, 115800, 500000, 1000000, 17000, 32000, 3650, 55000, 748000, 10500, 360000, 35250, 5325, 2500, 41600, 10000, 1500, 37000, 144600, 13500, 24764, 770000, 400000, 472260, 156000, 7500, 188900, 10000]}, {\"name\": \"\\ud3c9\\uade0\\ubcc0\\ud654\\uc728(X10)\", \"type\": \"bar\", \"x\": [\"\\ud14c\\ub7ec\", \"\\ud14c\\ub7ec\", \"\\ud14c\\ub7ec\", \"\\ud14c\\ub7ec\", \"\\ubbfc\\uc871\", \"\\ub0b4\\ub780\", \"\\ub0b4\\ub780\", \"\\ud14c\\ub7ec\", \"\\ud14c\\ub7ec\", \"\\ub0b4\\ub780\", \"\\ub9c8\\uc57d\", \"\\ud574\\uc801\", \"\\ud14c\\ub7ec\", \"\\ub0b4\\ub780\", \"\\ub0b4\\ub780\", \"\\ud574\\uc801\", \"\\ub9c8\\uc57d\", \"\\ub0b4\\ub780\", \"\\ub0b4\\ub780\", \"\\ub0b4\\ub780\", \"\\ud14c\\ub7ec\", \"\\ub0b4\\ub780\", \"\\ub0b4\\ub780\", \"\\ud14c\\ub7ec\", \"\\ub0b4\\ub780\", \"\\ud14c\\ub7ec\", \"\\ub0b4\\ub780\", \"\\ubbfc\\uc871\"], \"y\": [451390, 145160, 269920, 94180, 170260, 870290, 172720, 330240, 281360, 197320, 207380, 383220, 225920, 280040, 488180, 0, 294880, 246950, 516820, 225420, 527650, 200010, 316660, 183420, 529340, 0, 0, 0]}],                        {\"template\": {\"data\": {\"bar\": [{\"error_x\": {\"color\": \"#2a3f5f\"}, \"error_y\": {\"color\": \"#2a3f5f\"}, \"marker\": {\"line\": {\"color\": \"#E5ECF6\", \"width\": 0.5}}, \"type\": \"bar\"}], \"barpolar\": [{\"marker\": {\"line\": {\"color\": \"#E5ECF6\", \"width\": 0.5}}, \"type\": \"barpolar\"}], \"carpet\": [{\"aaxis\": {\"endlinecolor\": \"#2a3f5f\", \"gridcolor\": \"white\", \"linecolor\": \"white\", \"minorgridcolor\": \"white\", \"startlinecolor\": \"#2a3f5f\"}, \"baxis\": {\"endlinecolor\": \"#2a3f5f\", \"gridcolor\": \"white\", \"linecolor\": \"white\", \"minorgridcolor\": \"white\", \"startlinecolor\": \"#2a3f5f\"}, \"type\": \"carpet\"}], \"choropleth\": [{\"colorbar\": {\"outlinewidth\": 0, \"ticks\": \"\"}, \"type\": \"choropleth\"}], \"contour\": [{\"colorbar\": {\"outlinewidth\": 0, \"ticks\": \"\"}, \"colorscale\": [[0.0, \"#0d0887\"], [0.1111111111111111, \"#46039f\"], [0.2222222222222222, \"#7201a8\"], [0.3333333333333333, \"#9c179e\"], [0.4444444444444444, \"#bd3786\"], [0.5555555555555556, \"#d8576b\"], [0.6666666666666666, \"#ed7953\"], [0.7777777777777778, \"#fb9f3a\"], [0.8888888888888888, \"#fdca26\"], [1.0, \"#f0f921\"]], \"type\": \"contour\"}], \"contourcarpet\": [{\"colorbar\": {\"outlinewidth\": 0, \"ticks\": \"\"}, \"type\": \"contourcarpet\"}], \"heatmap\": [{\"colorbar\": {\"outlinewidth\": 0, \"ticks\": \"\"}, \"colorscale\": [[0.0, \"#0d0887\"], [0.1111111111111111, \"#46039f\"], [0.2222222222222222, \"#7201a8\"], [0.3333333333333333, \"#9c179e\"], [0.4444444444444444, \"#bd3786\"], [0.5555555555555556, \"#d8576b\"], [0.6666666666666666, \"#ed7953\"], [0.7777777777777778, \"#fb9f3a\"], [0.8888888888888888, \"#fdca26\"], [1.0, \"#f0f921\"]], \"type\": \"heatmap\"}], \"heatmapgl\": [{\"colorbar\": {\"outlinewidth\": 0, \"ticks\": \"\"}, \"colorscale\": [[0.0, \"#0d0887\"], [0.1111111111111111, \"#46039f\"], [0.2222222222222222, \"#7201a8\"], [0.3333333333333333, \"#9c179e\"], [0.4444444444444444, \"#bd3786\"], [0.5555555555555556, \"#d8576b\"], [0.6666666666666666, \"#ed7953\"], [0.7777777777777778, \"#fb9f3a\"], [0.8888888888888888, \"#fdca26\"], [1.0, \"#f0f921\"]], \"type\": \"heatmapgl\"}], \"histogram\": [{\"marker\": {\"colorbar\": {\"outlinewidth\": 0, \"ticks\": \"\"}}, \"type\": \"histogram\"}], \"histogram2d\": [{\"colorbar\": {\"outlinewidth\": 0, \"ticks\": \"\"}, \"colorscale\": [[0.0, \"#0d0887\"], [0.1111111111111111, \"#46039f\"], [0.2222222222222222, \"#7201a8\"], [0.3333333333333333, \"#9c179e\"], [0.4444444444444444, \"#bd3786\"], [0.5555555555555556, \"#d8576b\"], [0.6666666666666666, \"#ed7953\"], [0.7777777777777778, \"#fb9f3a\"], [0.8888888888888888, \"#fdca26\"], [1.0, \"#f0f921\"]], \"type\": \"histogram2d\"}], \"histogram2dcontour\": [{\"colorbar\": {\"outlinewidth\": 0, \"ticks\": \"\"}, \"colorscale\": [[0.0, \"#0d0887\"], [0.1111111111111111, \"#46039f\"], [0.2222222222222222, \"#7201a8\"], [0.3333333333333333, \"#9c179e\"], [0.4444444444444444, \"#bd3786\"], [0.5555555555555556, \"#d8576b\"], [0.6666666666666666, \"#ed7953\"], [0.7777777777777778, \"#fb9f3a\"], [0.8888888888888888, \"#fdca26\"], [1.0, \"#f0f921\"]], \"type\": \"histogram2dcontour\"}], \"mesh3d\": [{\"colorbar\": {\"outlinewidth\": 0, \"ticks\": \"\"}, \"type\": \"mesh3d\"}], \"parcoords\": [{\"line\": {\"colorbar\": {\"outlinewidth\": 0, \"ticks\": \"\"}}, \"type\": \"parcoords\"}], \"pie\": [{\"automargin\": true, \"type\": \"pie\"}], \"scatter\": [{\"marker\": {\"colorbar\": {\"outlinewidth\": 0, \"ticks\": \"\"}}, \"type\": \"scatter\"}], \"scatter3d\": [{\"line\": {\"colorbar\": {\"outlinewidth\": 0, \"ticks\": \"\"}}, \"marker\": {\"colorbar\": {\"outlinewidth\": 0, \"ticks\": \"\"}}, \"type\": \"scatter3d\"}], \"scattercarpet\": [{\"marker\": {\"colorbar\": {\"outlinewidth\": 0, \"ticks\": \"\"}}, \"type\": \"scattercarpet\"}], \"scattergeo\": [{\"marker\": {\"colorbar\": {\"outlinewidth\": 0, \"ticks\": \"\"}}, \"type\": \"scattergeo\"}], \"scattergl\": [{\"marker\": {\"colorbar\": {\"outlinewidth\": 0, \"ticks\": \"\"}}, \"type\": \"scattergl\"}], \"scattermapbox\": [{\"marker\": {\"colorbar\": {\"outlinewidth\": 0, \"ticks\": \"\"}}, \"type\": \"scattermapbox\"}], \"scatterpolar\": [{\"marker\": {\"colorbar\": {\"outlinewidth\": 0, \"ticks\": \"\"}}, \"type\": \"scatterpolar\"}], \"scatterpolargl\": [{\"marker\": {\"colorbar\": {\"outlinewidth\": 0, \"ticks\": \"\"}}, \"type\": \"scatterpolargl\"}], \"scatterternary\": [{\"marker\": {\"colorbar\": {\"outlinewidth\": 0, \"ticks\": \"\"}}, \"type\": \"scatterternary\"}], \"surface\": [{\"colorbar\": {\"outlinewidth\": 0, \"ticks\": \"\"}, \"colorscale\": [[0.0, \"#0d0887\"], [0.1111111111111111, \"#46039f\"], [0.2222222222222222, \"#7201a8\"], [0.3333333333333333, \"#9c179e\"], [0.4444444444444444, \"#bd3786\"], [0.5555555555555556, \"#d8576b\"], [0.6666666666666666, \"#ed7953\"], [0.7777777777777778, \"#fb9f3a\"], [0.8888888888888888, \"#fdca26\"], [1.0, \"#f0f921\"]], \"type\": \"surface\"}], \"table\": [{\"cells\": {\"fill\": {\"color\": \"#EBF0F8\"}, \"line\": {\"color\": \"white\"}}, \"header\": {\"fill\": {\"color\": \"#C8D4E3\"}, \"line\": {\"color\": \"white\"}}, \"type\": \"table\"}]}, \"layout\": {\"annotationdefaults\": {\"arrowcolor\": \"#2a3f5f\", \"arrowhead\": 0, \"arrowwidth\": 1}, \"autotypenumbers\": \"strict\", \"coloraxis\": {\"colorbar\": {\"outlinewidth\": 0, \"ticks\": \"\"}}, \"colorscale\": {\"diverging\": [[0, \"#8e0152\"], [0.1, \"#c51b7d\"], [0.2, \"#de77ae\"], [0.3, \"#f1b6da\"], [0.4, \"#fde0ef\"], [0.5, \"#f7f7f7\"], [0.6, \"#e6f5d0\"], [0.7, \"#b8e186\"], [0.8, \"#7fbc41\"], [0.9, \"#4d9221\"], [1, \"#276419\"]], \"sequential\": [[0.0, \"#0d0887\"], [0.1111111111111111, \"#46039f\"], [0.2222222222222222, \"#7201a8\"], [0.3333333333333333, \"#9c179e\"], [0.4444444444444444, \"#bd3786\"], [0.5555555555555556, \"#d8576b\"], [0.6666666666666666, \"#ed7953\"], [0.7777777777777778, \"#fb9f3a\"], [0.8888888888888888, \"#fdca26\"], [1.0, \"#f0f921\"]], \"sequentialminus\": [[0.0, \"#0d0887\"], [0.1111111111111111, \"#46039f\"], [0.2222222222222222, \"#7201a8\"], [0.3333333333333333, \"#9c179e\"], [0.4444444444444444, \"#bd3786\"], [0.5555555555555556, \"#d8576b\"], [0.6666666666666666, \"#ed7953\"], [0.7777777777777778, \"#fb9f3a\"], [0.8888888888888888, \"#fdca26\"], [1.0, \"#f0f921\"]]}, \"colorway\": [\"#636efa\", \"#EF553B\", \"#00cc96\", \"#ab63fa\", \"#FFA15A\", \"#19d3f3\", \"#FF6692\", \"#B6E880\", \"#FF97FF\", \"#FECB52\"], \"font\": {\"color\": \"#2a3f5f\"}, \"geo\": {\"bgcolor\": \"white\", \"lakecolor\": \"white\", \"landcolor\": \"#E5ECF6\", \"showlakes\": true, \"showland\": true, \"subunitcolor\": \"white\"}, \"hoverlabel\": {\"align\": \"left\"}, \"hovermode\": \"closest\", \"mapbox\": {\"style\": \"light\"}, \"paper_bgcolor\": \"white\", \"plot_bgcolor\": \"#E5ECF6\", \"polar\": {\"angularaxis\": {\"gridcolor\": \"white\", \"linecolor\": \"white\", \"ticks\": \"\"}, \"bgcolor\": \"#E5ECF6\", \"radialaxis\": {\"gridcolor\": \"white\", \"linecolor\": \"white\", \"ticks\": \"\"}}, \"scene\": {\"xaxis\": {\"backgroundcolor\": \"#E5ECF6\", \"gridcolor\": \"white\", \"gridwidth\": 2, \"linecolor\": \"white\", \"showbackground\": true, \"ticks\": \"\", \"zerolinecolor\": \"white\"}, \"yaxis\": {\"backgroundcolor\": \"#E5ECF6\", \"gridcolor\": \"white\", \"gridwidth\": 2, \"linecolor\": \"white\", \"showbackground\": true, \"ticks\": \"\", \"zerolinecolor\": \"white\"}, \"zaxis\": {\"backgroundcolor\": \"#E5ECF6\", \"gridcolor\": \"white\", \"gridwidth\": 2, \"linecolor\": \"white\", \"showbackground\": true, \"ticks\": \"\", \"zerolinecolor\": \"white\"}}, \"shapedefaults\": {\"line\": {\"color\": \"#2a3f5f\"}}, \"ternary\": {\"aaxis\": {\"gridcolor\": \"white\", \"linecolor\": \"white\", \"ticks\": \"\"}, \"baxis\": {\"gridcolor\": \"white\", \"linecolor\": \"white\", \"ticks\": \"\"}, \"bgcolor\": \"#E5ECF6\", \"caxis\": {\"gridcolor\": \"white\", \"linecolor\": \"white\", \"ticks\": \"\"}}, \"title\": {\"x\": 0.05}, \"xaxis\": {\"automargin\": true, \"gridcolor\": \"white\", \"linecolor\": \"white\", \"ticks\": \"\", \"title\": {\"standoff\": 15}, \"zerolinecolor\": \"white\", \"zerolinewidth\": 2}, \"yaxis\": {\"automargin\": true, \"gridcolor\": \"white\", \"linecolor\": \"white\", \"ticks\": \"\", \"title\": {\"standoff\": 15}, \"zerolinecolor\": \"white\", \"zerolinewidth\": 2}}}, \"title\": {\"text\": \"<b> 5\\uac00\\uc9c0 \\uac08\\ub4f1\\uc885\\ub958 : \\ud14c\\ub7ec, \\ubbfc\\uc871, \\ub0b4\\ub780, \\ub9c8\\uc57d, \\ud574\\uc801\"}},                        {\"responsive\": true}                    ).then(function(){\n",
       "                            \n",
       "var gd = document.getElementById('cd232f0b-894c-4806-a271-0cfb41c0d0c7');\n",
       "var x = new MutationObserver(function (mutations, observer) {{\n",
       "        var display = window.getComputedStyle(gd).display;\n",
       "        if (!display || display === 'none') {{\n",
       "            console.log([gd, 'removed!']);\n",
       "            Plotly.purge(gd);\n",
       "            observer.disconnect();\n",
       "        }}\n",
       "}});\n",
       "\n",
       "// Listen for the removal of the full notebook cells\n",
       "var notebookContainer = gd.closest('#notebook-container');\n",
       "if (notebookContainer) {{\n",
       "    x.observe(notebookContainer, {childList: true});\n",
       "}}\n",
       "\n",
       "// Listen for the clearing of the current output cell\n",
       "var outputEl = gd.closest('.output');\n",
       "if (outputEl) {{\n",
       "    x.observe(outputEl, {childList: true});\n",
       "}}\n",
       "\n",
       "                        })                };                });            </script>        </div>"
      ]
     },
     "metadata": {},
     "output_type": "display_data"
    }
   ],
   "source": [
    "fig = go.Figure()\n",
    "fig.add_trace(go.Bar(y=ls_war_X2['War_volume'], x = ls_war_X2['War_kind'], name='전쟁규모'))\n",
    "fig.add_trace(go.Bar(y=ls_war_X2['Abs_sum']*10, x = ls_war_X2['War_kind'], name='평균변화율(X10)'))\n",
    "fig.update_layout(title='<b> 5가지 갈등종류 : 테러, 민족, 내란, 마약, 해적')\n",
    "fig.show();"
   ]
  },
  {
   "cell_type": "markdown",
   "metadata": {},
   "source": [
    "## 갈등종류에 따른 전쟁규모 TOP2"
   ]
  },
  {
   "cell_type": "code",
   "execution_count": 22,
   "metadata": {},
   "outputs": [
    {
     "data": {
      "application/vnd.plotly.v1+json": {
       "config": {
        "plotlyServerURL": "https://plot.ly"
       },
       "data": [
        {
         "name": "테러",
         "type": "bar",
         "x": [
          "테러와의전쟁",
          "영원한자유작전-필리핀",
          "영원한자유작전-아프리카의뿔",
          "이라크전쟁",
          "파타-하마스 분쟁",
          "이라크내전",
          "영원한자유작전-트랜스사하라",
          "북부말리전쟁",
          "ISIL에대한국제군사개입",
          "마라위위기"
         ],
         "y": [
          1000000,
          115800,
          500000,
          1000000,
          17000,
          32000,
          3650,
          55000,
          748000,
          10500,
          360000,
          35250,
          5325,
          2500,
          41600,
          10000,
          1500,
          37000,
          144600,
          13500,
          24764,
          770000,
          400000,
          472260,
          156000,
          7500,
          188900,
          10000
         ]
        },
        {
         "name": "내란",
         "type": "bar",
         "x": [
          "예멘의 Houthi 반란",
          "파라과이인민군반란",
          "2006년레바논전쟁",
          "2008 안주안침공",
          "소말리아내전",
          "리비아내전",
          "시리아내전",
          "레바논에서의시리아내전파급",
          "이라크 내전",
          "리비아 내전",
          "예멘내전",
          "이라크반란"
         ],
         "y": [
          1000000,
          115800,
          500000,
          1000000,
          17000,
          32000,
          3650,
          55000,
          748000,
          10500,
          360000,
          35250,
          5325,
          2500,
          41600,
          10000,
          1500,
          37000,
          144600,
          13500,
          24764,
          770000,
          400000,
          472260,
          156000,
          7500,
          188900,
          10000
         ]
        }
       ],
       "layout": {
        "template": {
         "data": {
          "bar": [
           {
            "error_x": {
             "color": "#2a3f5f"
            },
            "error_y": {
             "color": "#2a3f5f"
            },
            "marker": {
             "line": {
              "color": "#E5ECF6",
              "width": 0.5
             }
            },
            "type": "bar"
           }
          ],
          "barpolar": [
           {
            "marker": {
             "line": {
              "color": "#E5ECF6",
              "width": 0.5
             }
            },
            "type": "barpolar"
           }
          ],
          "carpet": [
           {
            "aaxis": {
             "endlinecolor": "#2a3f5f",
             "gridcolor": "white",
             "linecolor": "white",
             "minorgridcolor": "white",
             "startlinecolor": "#2a3f5f"
            },
            "baxis": {
             "endlinecolor": "#2a3f5f",
             "gridcolor": "white",
             "linecolor": "white",
             "minorgridcolor": "white",
             "startlinecolor": "#2a3f5f"
            },
            "type": "carpet"
           }
          ],
          "choropleth": [
           {
            "colorbar": {
             "outlinewidth": 0,
             "ticks": ""
            },
            "type": "choropleth"
           }
          ],
          "contour": [
           {
            "colorbar": {
             "outlinewidth": 0,
             "ticks": ""
            },
            "colorscale": [
             [
              0,
              "#0d0887"
             ],
             [
              0.1111111111111111,
              "#46039f"
             ],
             [
              0.2222222222222222,
              "#7201a8"
             ],
             [
              0.3333333333333333,
              "#9c179e"
             ],
             [
              0.4444444444444444,
              "#bd3786"
             ],
             [
              0.5555555555555556,
              "#d8576b"
             ],
             [
              0.6666666666666666,
              "#ed7953"
             ],
             [
              0.7777777777777778,
              "#fb9f3a"
             ],
             [
              0.8888888888888888,
              "#fdca26"
             ],
             [
              1,
              "#f0f921"
             ]
            ],
            "type": "contour"
           }
          ],
          "contourcarpet": [
           {
            "colorbar": {
             "outlinewidth": 0,
             "ticks": ""
            },
            "type": "contourcarpet"
           }
          ],
          "heatmap": [
           {
            "colorbar": {
             "outlinewidth": 0,
             "ticks": ""
            },
            "colorscale": [
             [
              0,
              "#0d0887"
             ],
             [
              0.1111111111111111,
              "#46039f"
             ],
             [
              0.2222222222222222,
              "#7201a8"
             ],
             [
              0.3333333333333333,
              "#9c179e"
             ],
             [
              0.4444444444444444,
              "#bd3786"
             ],
             [
              0.5555555555555556,
              "#d8576b"
             ],
             [
              0.6666666666666666,
              "#ed7953"
             ],
             [
              0.7777777777777778,
              "#fb9f3a"
             ],
             [
              0.8888888888888888,
              "#fdca26"
             ],
             [
              1,
              "#f0f921"
             ]
            ],
            "type": "heatmap"
           }
          ],
          "heatmapgl": [
           {
            "colorbar": {
             "outlinewidth": 0,
             "ticks": ""
            },
            "colorscale": [
             [
              0,
              "#0d0887"
             ],
             [
              0.1111111111111111,
              "#46039f"
             ],
             [
              0.2222222222222222,
              "#7201a8"
             ],
             [
              0.3333333333333333,
              "#9c179e"
             ],
             [
              0.4444444444444444,
              "#bd3786"
             ],
             [
              0.5555555555555556,
              "#d8576b"
             ],
             [
              0.6666666666666666,
              "#ed7953"
             ],
             [
              0.7777777777777778,
              "#fb9f3a"
             ],
             [
              0.8888888888888888,
              "#fdca26"
             ],
             [
              1,
              "#f0f921"
             ]
            ],
            "type": "heatmapgl"
           }
          ],
          "histogram": [
           {
            "marker": {
             "colorbar": {
              "outlinewidth": 0,
              "ticks": ""
             }
            },
            "type": "histogram"
           }
          ],
          "histogram2d": [
           {
            "colorbar": {
             "outlinewidth": 0,
             "ticks": ""
            },
            "colorscale": [
             [
              0,
              "#0d0887"
             ],
             [
              0.1111111111111111,
              "#46039f"
             ],
             [
              0.2222222222222222,
              "#7201a8"
             ],
             [
              0.3333333333333333,
              "#9c179e"
             ],
             [
              0.4444444444444444,
              "#bd3786"
             ],
             [
              0.5555555555555556,
              "#d8576b"
             ],
             [
              0.6666666666666666,
              "#ed7953"
             ],
             [
              0.7777777777777778,
              "#fb9f3a"
             ],
             [
              0.8888888888888888,
              "#fdca26"
             ],
             [
              1,
              "#f0f921"
             ]
            ],
            "type": "histogram2d"
           }
          ],
          "histogram2dcontour": [
           {
            "colorbar": {
             "outlinewidth": 0,
             "ticks": ""
            },
            "colorscale": [
             [
              0,
              "#0d0887"
             ],
             [
              0.1111111111111111,
              "#46039f"
             ],
             [
              0.2222222222222222,
              "#7201a8"
             ],
             [
              0.3333333333333333,
              "#9c179e"
             ],
             [
              0.4444444444444444,
              "#bd3786"
             ],
             [
              0.5555555555555556,
              "#d8576b"
             ],
             [
              0.6666666666666666,
              "#ed7953"
             ],
             [
              0.7777777777777778,
              "#fb9f3a"
             ],
             [
              0.8888888888888888,
              "#fdca26"
             ],
             [
              1,
              "#f0f921"
             ]
            ],
            "type": "histogram2dcontour"
           }
          ],
          "mesh3d": [
           {
            "colorbar": {
             "outlinewidth": 0,
             "ticks": ""
            },
            "type": "mesh3d"
           }
          ],
          "parcoords": [
           {
            "line": {
             "colorbar": {
              "outlinewidth": 0,
              "ticks": ""
             }
            },
            "type": "parcoords"
           }
          ],
          "pie": [
           {
            "automargin": true,
            "type": "pie"
           }
          ],
          "scatter": [
           {
            "marker": {
             "colorbar": {
              "outlinewidth": 0,
              "ticks": ""
             }
            },
            "type": "scatter"
           }
          ],
          "scatter3d": [
           {
            "line": {
             "colorbar": {
              "outlinewidth": 0,
              "ticks": ""
             }
            },
            "marker": {
             "colorbar": {
              "outlinewidth": 0,
              "ticks": ""
             }
            },
            "type": "scatter3d"
           }
          ],
          "scattercarpet": [
           {
            "marker": {
             "colorbar": {
              "outlinewidth": 0,
              "ticks": ""
             }
            },
            "type": "scattercarpet"
           }
          ],
          "scattergeo": [
           {
            "marker": {
             "colorbar": {
              "outlinewidth": 0,
              "ticks": ""
             }
            },
            "type": "scattergeo"
           }
          ],
          "scattergl": [
           {
            "marker": {
             "colorbar": {
              "outlinewidth": 0,
              "ticks": ""
             }
            },
            "type": "scattergl"
           }
          ],
          "scattermapbox": [
           {
            "marker": {
             "colorbar": {
              "outlinewidth": 0,
              "ticks": ""
             }
            },
            "type": "scattermapbox"
           }
          ],
          "scatterpolar": [
           {
            "marker": {
             "colorbar": {
              "outlinewidth": 0,
              "ticks": ""
             }
            },
            "type": "scatterpolar"
           }
          ],
          "scatterpolargl": [
           {
            "marker": {
             "colorbar": {
              "outlinewidth": 0,
              "ticks": ""
             }
            },
            "type": "scatterpolargl"
           }
          ],
          "scatterternary": [
           {
            "marker": {
             "colorbar": {
              "outlinewidth": 0,
              "ticks": ""
             }
            },
            "type": "scatterternary"
           }
          ],
          "surface": [
           {
            "colorbar": {
             "outlinewidth": 0,
             "ticks": ""
            },
            "colorscale": [
             [
              0,
              "#0d0887"
             ],
             [
              0.1111111111111111,
              "#46039f"
             ],
             [
              0.2222222222222222,
              "#7201a8"
             ],
             [
              0.3333333333333333,
              "#9c179e"
             ],
             [
              0.4444444444444444,
              "#bd3786"
             ],
             [
              0.5555555555555556,
              "#d8576b"
             ],
             [
              0.6666666666666666,
              "#ed7953"
             ],
             [
              0.7777777777777778,
              "#fb9f3a"
             ],
             [
              0.8888888888888888,
              "#fdca26"
             ],
             [
              1,
              "#f0f921"
             ]
            ],
            "type": "surface"
           }
          ],
          "table": [
           {
            "cells": {
             "fill": {
              "color": "#EBF0F8"
             },
             "line": {
              "color": "white"
             }
            },
            "header": {
             "fill": {
              "color": "#C8D4E3"
             },
             "line": {
              "color": "white"
             }
            },
            "type": "table"
           }
          ]
         },
         "layout": {
          "annotationdefaults": {
           "arrowcolor": "#2a3f5f",
           "arrowhead": 0,
           "arrowwidth": 1
          },
          "autotypenumbers": "strict",
          "coloraxis": {
           "colorbar": {
            "outlinewidth": 0,
            "ticks": ""
           }
          },
          "colorscale": {
           "diverging": [
            [
             0,
             "#8e0152"
            ],
            [
             0.1,
             "#c51b7d"
            ],
            [
             0.2,
             "#de77ae"
            ],
            [
             0.3,
             "#f1b6da"
            ],
            [
             0.4,
             "#fde0ef"
            ],
            [
             0.5,
             "#f7f7f7"
            ],
            [
             0.6,
             "#e6f5d0"
            ],
            [
             0.7,
             "#b8e186"
            ],
            [
             0.8,
             "#7fbc41"
            ],
            [
             0.9,
             "#4d9221"
            ],
            [
             1,
             "#276419"
            ]
           ],
           "sequential": [
            [
             0,
             "#0d0887"
            ],
            [
             0.1111111111111111,
             "#46039f"
            ],
            [
             0.2222222222222222,
             "#7201a8"
            ],
            [
             0.3333333333333333,
             "#9c179e"
            ],
            [
             0.4444444444444444,
             "#bd3786"
            ],
            [
             0.5555555555555556,
             "#d8576b"
            ],
            [
             0.6666666666666666,
             "#ed7953"
            ],
            [
             0.7777777777777778,
             "#fb9f3a"
            ],
            [
             0.8888888888888888,
             "#fdca26"
            ],
            [
             1,
             "#f0f921"
            ]
           ],
           "sequentialminus": [
            [
             0,
             "#0d0887"
            ],
            [
             0.1111111111111111,
             "#46039f"
            ],
            [
             0.2222222222222222,
             "#7201a8"
            ],
            [
             0.3333333333333333,
             "#9c179e"
            ],
            [
             0.4444444444444444,
             "#bd3786"
            ],
            [
             0.5555555555555556,
             "#d8576b"
            ],
            [
             0.6666666666666666,
             "#ed7953"
            ],
            [
             0.7777777777777778,
             "#fb9f3a"
            ],
            [
             0.8888888888888888,
             "#fdca26"
            ],
            [
             1,
             "#f0f921"
            ]
           ]
          },
          "colorway": [
           "#636efa",
           "#EF553B",
           "#00cc96",
           "#ab63fa",
           "#FFA15A",
           "#19d3f3",
           "#FF6692",
           "#B6E880",
           "#FF97FF",
           "#FECB52"
          ],
          "font": {
           "color": "#2a3f5f"
          },
          "geo": {
           "bgcolor": "white",
           "lakecolor": "white",
           "landcolor": "#E5ECF6",
           "showlakes": true,
           "showland": true,
           "subunitcolor": "white"
          },
          "hoverlabel": {
           "align": "left"
          },
          "hovermode": "closest",
          "mapbox": {
           "style": "light"
          },
          "paper_bgcolor": "white",
          "plot_bgcolor": "#E5ECF6",
          "polar": {
           "angularaxis": {
            "gridcolor": "white",
            "linecolor": "white",
            "ticks": ""
           },
           "bgcolor": "#E5ECF6",
           "radialaxis": {
            "gridcolor": "white",
            "linecolor": "white",
            "ticks": ""
           }
          },
          "scene": {
           "xaxis": {
            "backgroundcolor": "#E5ECF6",
            "gridcolor": "white",
            "gridwidth": 2,
            "linecolor": "white",
            "showbackground": true,
            "ticks": "",
            "zerolinecolor": "white"
           },
           "yaxis": {
            "backgroundcolor": "#E5ECF6",
            "gridcolor": "white",
            "gridwidth": 2,
            "linecolor": "white",
            "showbackground": true,
            "ticks": "",
            "zerolinecolor": "white"
           },
           "zaxis": {
            "backgroundcolor": "#E5ECF6",
            "gridcolor": "white",
            "gridwidth": 2,
            "linecolor": "white",
            "showbackground": true,
            "ticks": "",
            "zerolinecolor": "white"
           }
          },
          "shapedefaults": {
           "line": {
            "color": "#2a3f5f"
           }
          },
          "ternary": {
           "aaxis": {
            "gridcolor": "white",
            "linecolor": "white",
            "ticks": ""
           },
           "baxis": {
            "gridcolor": "white",
            "linecolor": "white",
            "ticks": ""
           },
           "bgcolor": "#E5ECF6",
           "caxis": {
            "gridcolor": "white",
            "linecolor": "white",
            "ticks": ""
           }
          },
          "title": {
           "x": 0.05
          },
          "xaxis": {
           "automargin": true,
           "gridcolor": "white",
           "linecolor": "white",
           "ticks": "",
           "title": {
            "standoff": 15
           },
           "zerolinecolor": "white",
           "zerolinewidth": 2
          },
          "yaxis": {
           "automargin": true,
           "gridcolor": "white",
           "linecolor": "white",
           "ticks": "",
           "title": {
            "standoff": 15
           },
           "zerolinecolor": "white",
           "zerolinewidth": 2
          }
         }
        },
        "title": {
         "text": "<b> 갈등종류에 따른 전쟁규모 TOP2"
        }
       }
      },
      "text/html": [
       "<div>                            <div id=\"2577e849-de79-422f-92bd-c5342106e73c\" class=\"plotly-graph-div\" style=\"height:525px; width:100%;\"></div>            <script type=\"text/javascript\">                require([\"plotly\"], function(Plotly) {                    window.PLOTLYENV=window.PLOTLYENV || {};                                    if (document.getElementById(\"2577e849-de79-422f-92bd-c5342106e73c\")) {                    Plotly.newPlot(                        \"2577e849-de79-422f-92bd-c5342106e73c\",                        [{\"name\": \"\\ud14c\\ub7ec\", \"type\": \"bar\", \"x\": [\"\\ud14c\\ub7ec\\uc640\\uc758\\uc804\\uc7c1\", \"\\uc601\\uc6d0\\ud55c\\uc790\\uc720\\uc791\\uc804-\\ud544\\ub9ac\\ud540\", \"\\uc601\\uc6d0\\ud55c\\uc790\\uc720\\uc791\\uc804-\\uc544\\ud504\\ub9ac\\uce74\\uc758\\ubfd4\", \"\\uc774\\ub77c\\ud06c\\uc804\\uc7c1\", \"\\ud30c\\ud0c0-\\ud558\\ub9c8\\uc2a4 \\ubd84\\uc7c1\", \"\\uc774\\ub77c\\ud06c\\ub0b4\\uc804\", \"\\uc601\\uc6d0\\ud55c\\uc790\\uc720\\uc791\\uc804-\\ud2b8\\ub79c\\uc2a4\\uc0ac\\ud558\\ub77c\", \"\\ubd81\\ubd80\\ub9d0\\ub9ac\\uc804\\uc7c1\", \"ISIL\\uc5d0\\ub300\\ud55c\\uad6d\\uc81c\\uad70\\uc0ac\\uac1c\\uc785\", \"\\ub9c8\\ub77c\\uc704\\uc704\\uae30\"], \"y\": [1000000, 115800, 500000, 1000000, 17000, 32000, 3650, 55000, 748000, 10500, 360000, 35250, 5325, 2500, 41600, 10000, 1500, 37000, 144600, 13500, 24764, 770000, 400000, 472260, 156000, 7500, 188900, 10000]}, {\"name\": \"\\ub0b4\\ub780\", \"type\": \"bar\", \"x\": [\"\\uc608\\uba58\\uc758 Houthi \\ubc18\\ub780\", \"\\ud30c\\ub77c\\uacfc\\uc774\\uc778\\ubbfc\\uad70\\ubc18\\ub780\", \"2006\\ub144\\ub808\\ubc14\\ub17c\\uc804\\uc7c1\", \"2008 \\uc548\\uc8fc\\uc548\\uce68\\uacf5\", \"\\uc18c\\ub9d0\\ub9ac\\uc544\\ub0b4\\uc804\", \"\\ub9ac\\ube44\\uc544\\ub0b4\\uc804\", \"\\uc2dc\\ub9ac\\uc544\\ub0b4\\uc804\", \"\\ub808\\ubc14\\ub17c\\uc5d0\\uc11c\\uc758\\uc2dc\\ub9ac\\uc544\\ub0b4\\uc804\\ud30c\\uae09\", \"\\uc774\\ub77c\\ud06c \\ub0b4\\uc804\", \"\\ub9ac\\ube44\\uc544 \\ub0b4\\uc804\", \"\\uc608\\uba58\\ub0b4\\uc804\", \"\\uc774\\ub77c\\ud06c\\ubc18\\ub780\"], \"y\": [1000000, 115800, 500000, 1000000, 17000, 32000, 3650, 55000, 748000, 10500, 360000, 35250, 5325, 2500, 41600, 10000, 1500, 37000, 144600, 13500, 24764, 770000, 400000, 472260, 156000, 7500, 188900, 10000]}],                        {\"template\": {\"data\": {\"bar\": [{\"error_x\": {\"color\": \"#2a3f5f\"}, \"error_y\": {\"color\": \"#2a3f5f\"}, \"marker\": {\"line\": {\"color\": \"#E5ECF6\", \"width\": 0.5}}, \"type\": \"bar\"}], \"barpolar\": [{\"marker\": {\"line\": {\"color\": \"#E5ECF6\", \"width\": 0.5}}, \"type\": \"barpolar\"}], \"carpet\": [{\"aaxis\": {\"endlinecolor\": \"#2a3f5f\", \"gridcolor\": \"white\", \"linecolor\": \"white\", \"minorgridcolor\": \"white\", \"startlinecolor\": \"#2a3f5f\"}, \"baxis\": {\"endlinecolor\": \"#2a3f5f\", \"gridcolor\": \"white\", \"linecolor\": \"white\", \"minorgridcolor\": \"white\", \"startlinecolor\": \"#2a3f5f\"}, \"type\": \"carpet\"}], \"choropleth\": [{\"colorbar\": {\"outlinewidth\": 0, \"ticks\": \"\"}, \"type\": \"choropleth\"}], \"contour\": [{\"colorbar\": {\"outlinewidth\": 0, \"ticks\": \"\"}, \"colorscale\": [[0.0, \"#0d0887\"], [0.1111111111111111, \"#46039f\"], [0.2222222222222222, \"#7201a8\"], [0.3333333333333333, \"#9c179e\"], [0.4444444444444444, \"#bd3786\"], [0.5555555555555556, \"#d8576b\"], [0.6666666666666666, \"#ed7953\"], [0.7777777777777778, \"#fb9f3a\"], [0.8888888888888888, \"#fdca26\"], [1.0, \"#f0f921\"]], \"type\": \"contour\"}], \"contourcarpet\": [{\"colorbar\": {\"outlinewidth\": 0, \"ticks\": \"\"}, \"type\": \"contourcarpet\"}], \"heatmap\": [{\"colorbar\": {\"outlinewidth\": 0, \"ticks\": \"\"}, \"colorscale\": [[0.0, \"#0d0887\"], [0.1111111111111111, \"#46039f\"], [0.2222222222222222, \"#7201a8\"], [0.3333333333333333, \"#9c179e\"], [0.4444444444444444, \"#bd3786\"], [0.5555555555555556, \"#d8576b\"], [0.6666666666666666, \"#ed7953\"], [0.7777777777777778, \"#fb9f3a\"], [0.8888888888888888, \"#fdca26\"], [1.0, \"#f0f921\"]], \"type\": \"heatmap\"}], \"heatmapgl\": [{\"colorbar\": {\"outlinewidth\": 0, \"ticks\": \"\"}, \"colorscale\": [[0.0, \"#0d0887\"], [0.1111111111111111, \"#46039f\"], [0.2222222222222222, \"#7201a8\"], [0.3333333333333333, \"#9c179e\"], [0.4444444444444444, \"#bd3786\"], [0.5555555555555556, \"#d8576b\"], [0.6666666666666666, \"#ed7953\"], [0.7777777777777778, \"#fb9f3a\"], [0.8888888888888888, \"#fdca26\"], [1.0, \"#f0f921\"]], \"type\": \"heatmapgl\"}], \"histogram\": [{\"marker\": {\"colorbar\": {\"outlinewidth\": 0, \"ticks\": \"\"}}, \"type\": \"histogram\"}], \"histogram2d\": [{\"colorbar\": {\"outlinewidth\": 0, \"ticks\": \"\"}, \"colorscale\": [[0.0, \"#0d0887\"], [0.1111111111111111, \"#46039f\"], [0.2222222222222222, \"#7201a8\"], [0.3333333333333333, \"#9c179e\"], [0.4444444444444444, \"#bd3786\"], [0.5555555555555556, \"#d8576b\"], [0.6666666666666666, \"#ed7953\"], [0.7777777777777778, \"#fb9f3a\"], [0.8888888888888888, \"#fdca26\"], [1.0, \"#f0f921\"]], \"type\": \"histogram2d\"}], \"histogram2dcontour\": [{\"colorbar\": {\"outlinewidth\": 0, \"ticks\": \"\"}, \"colorscale\": [[0.0, \"#0d0887\"], [0.1111111111111111, \"#46039f\"], [0.2222222222222222, \"#7201a8\"], [0.3333333333333333, \"#9c179e\"], [0.4444444444444444, \"#bd3786\"], [0.5555555555555556, \"#d8576b\"], [0.6666666666666666, \"#ed7953\"], [0.7777777777777778, \"#fb9f3a\"], [0.8888888888888888, \"#fdca26\"], [1.0, \"#f0f921\"]], \"type\": \"histogram2dcontour\"}], \"mesh3d\": [{\"colorbar\": {\"outlinewidth\": 0, \"ticks\": \"\"}, \"type\": \"mesh3d\"}], \"parcoords\": [{\"line\": {\"colorbar\": {\"outlinewidth\": 0, \"ticks\": \"\"}}, \"type\": \"parcoords\"}], \"pie\": [{\"automargin\": true, \"type\": \"pie\"}], \"scatter\": [{\"marker\": {\"colorbar\": {\"outlinewidth\": 0, \"ticks\": \"\"}}, \"type\": \"scatter\"}], \"scatter3d\": [{\"line\": {\"colorbar\": {\"outlinewidth\": 0, \"ticks\": \"\"}}, \"marker\": {\"colorbar\": {\"outlinewidth\": 0, \"ticks\": \"\"}}, \"type\": \"scatter3d\"}], \"scattercarpet\": [{\"marker\": {\"colorbar\": {\"outlinewidth\": 0, \"ticks\": \"\"}}, \"type\": \"scattercarpet\"}], \"scattergeo\": [{\"marker\": {\"colorbar\": {\"outlinewidth\": 0, \"ticks\": \"\"}}, \"type\": \"scattergeo\"}], \"scattergl\": [{\"marker\": {\"colorbar\": {\"outlinewidth\": 0, \"ticks\": \"\"}}, \"type\": \"scattergl\"}], \"scattermapbox\": [{\"marker\": {\"colorbar\": {\"outlinewidth\": 0, \"ticks\": \"\"}}, \"type\": \"scattermapbox\"}], \"scatterpolar\": [{\"marker\": {\"colorbar\": {\"outlinewidth\": 0, \"ticks\": \"\"}}, \"type\": \"scatterpolar\"}], \"scatterpolargl\": [{\"marker\": {\"colorbar\": {\"outlinewidth\": 0, \"ticks\": \"\"}}, \"type\": \"scatterpolargl\"}], \"scatterternary\": [{\"marker\": {\"colorbar\": {\"outlinewidth\": 0, \"ticks\": \"\"}}, \"type\": \"scatterternary\"}], \"surface\": [{\"colorbar\": {\"outlinewidth\": 0, \"ticks\": \"\"}, \"colorscale\": [[0.0, \"#0d0887\"], [0.1111111111111111, \"#46039f\"], [0.2222222222222222, \"#7201a8\"], [0.3333333333333333, \"#9c179e\"], [0.4444444444444444, \"#bd3786\"], [0.5555555555555556, \"#d8576b\"], [0.6666666666666666, \"#ed7953\"], [0.7777777777777778, \"#fb9f3a\"], [0.8888888888888888, \"#fdca26\"], [1.0, \"#f0f921\"]], \"type\": \"surface\"}], \"table\": [{\"cells\": {\"fill\": {\"color\": \"#EBF0F8\"}, \"line\": {\"color\": \"white\"}}, \"header\": {\"fill\": {\"color\": \"#C8D4E3\"}, \"line\": {\"color\": \"white\"}}, \"type\": \"table\"}]}, \"layout\": {\"annotationdefaults\": {\"arrowcolor\": \"#2a3f5f\", \"arrowhead\": 0, \"arrowwidth\": 1}, \"autotypenumbers\": \"strict\", \"coloraxis\": {\"colorbar\": {\"outlinewidth\": 0, \"ticks\": \"\"}}, \"colorscale\": {\"diverging\": [[0, \"#8e0152\"], [0.1, \"#c51b7d\"], [0.2, \"#de77ae\"], [0.3, \"#f1b6da\"], [0.4, \"#fde0ef\"], [0.5, \"#f7f7f7\"], [0.6, \"#e6f5d0\"], [0.7, \"#b8e186\"], [0.8, \"#7fbc41\"], [0.9, \"#4d9221\"], [1, \"#276419\"]], \"sequential\": [[0.0, \"#0d0887\"], [0.1111111111111111, \"#46039f\"], [0.2222222222222222, \"#7201a8\"], [0.3333333333333333, \"#9c179e\"], [0.4444444444444444, \"#bd3786\"], [0.5555555555555556, \"#d8576b\"], [0.6666666666666666, \"#ed7953\"], [0.7777777777777778, \"#fb9f3a\"], [0.8888888888888888, \"#fdca26\"], [1.0, \"#f0f921\"]], \"sequentialminus\": [[0.0, \"#0d0887\"], [0.1111111111111111, \"#46039f\"], [0.2222222222222222, \"#7201a8\"], [0.3333333333333333, \"#9c179e\"], [0.4444444444444444, \"#bd3786\"], [0.5555555555555556, \"#d8576b\"], [0.6666666666666666, \"#ed7953\"], [0.7777777777777778, \"#fb9f3a\"], [0.8888888888888888, \"#fdca26\"], [1.0, \"#f0f921\"]]}, \"colorway\": [\"#636efa\", \"#EF553B\", \"#00cc96\", \"#ab63fa\", \"#FFA15A\", \"#19d3f3\", \"#FF6692\", \"#B6E880\", \"#FF97FF\", \"#FECB52\"], \"font\": {\"color\": \"#2a3f5f\"}, \"geo\": {\"bgcolor\": \"white\", \"lakecolor\": \"white\", \"landcolor\": \"#E5ECF6\", \"showlakes\": true, \"showland\": true, \"subunitcolor\": \"white\"}, \"hoverlabel\": {\"align\": \"left\"}, \"hovermode\": \"closest\", \"mapbox\": {\"style\": \"light\"}, \"paper_bgcolor\": \"white\", \"plot_bgcolor\": \"#E5ECF6\", \"polar\": {\"angularaxis\": {\"gridcolor\": \"white\", \"linecolor\": \"white\", \"ticks\": \"\"}, \"bgcolor\": \"#E5ECF6\", \"radialaxis\": {\"gridcolor\": \"white\", \"linecolor\": \"white\", \"ticks\": \"\"}}, \"scene\": {\"xaxis\": {\"backgroundcolor\": \"#E5ECF6\", \"gridcolor\": \"white\", \"gridwidth\": 2, \"linecolor\": \"white\", \"showbackground\": true, \"ticks\": \"\", \"zerolinecolor\": \"white\"}, \"yaxis\": {\"backgroundcolor\": \"#E5ECF6\", \"gridcolor\": \"white\", \"gridwidth\": 2, \"linecolor\": \"white\", \"showbackground\": true, \"ticks\": \"\", \"zerolinecolor\": \"white\"}, \"zaxis\": {\"backgroundcolor\": \"#E5ECF6\", \"gridcolor\": \"white\", \"gridwidth\": 2, \"linecolor\": \"white\", \"showbackground\": true, \"ticks\": \"\", \"zerolinecolor\": \"white\"}}, \"shapedefaults\": {\"line\": {\"color\": \"#2a3f5f\"}}, \"ternary\": {\"aaxis\": {\"gridcolor\": \"white\", \"linecolor\": \"white\", \"ticks\": \"\"}, \"baxis\": {\"gridcolor\": \"white\", \"linecolor\": \"white\", \"ticks\": \"\"}, \"bgcolor\": \"#E5ECF6\", \"caxis\": {\"gridcolor\": \"white\", \"linecolor\": \"white\", \"ticks\": \"\"}}, \"title\": {\"x\": 0.05}, \"xaxis\": {\"automargin\": true, \"gridcolor\": \"white\", \"linecolor\": \"white\", \"ticks\": \"\", \"title\": {\"standoff\": 15}, \"zerolinecolor\": \"white\", \"zerolinewidth\": 2}, \"yaxis\": {\"automargin\": true, \"gridcolor\": \"white\", \"linecolor\": \"white\", \"ticks\": \"\", \"title\": {\"standoff\": 15}, \"zerolinecolor\": \"white\", \"zerolinewidth\": 2}}}, \"title\": {\"text\": \"<b> \\uac08\\ub4f1\\uc885\\ub958\\uc5d0 \\ub530\\ub978 \\uc804\\uc7c1\\uaddc\\ubaa8 TOP2\"}},                        {\"responsive\": true}                    ).then(function(){\n",
       "                            \n",
       "var gd = document.getElementById('2577e849-de79-422f-92bd-c5342106e73c');\n",
       "var x = new MutationObserver(function (mutations, observer) {{\n",
       "        var display = window.getComputedStyle(gd).display;\n",
       "        if (!display || display === 'none') {{\n",
       "            console.log([gd, 'removed!']);\n",
       "            Plotly.purge(gd);\n",
       "            observer.disconnect();\n",
       "        }}\n",
       "}});\n",
       "\n",
       "// Listen for the removal of the full notebook cells\n",
       "var notebookContainer = gd.closest('#notebook-container');\n",
       "if (notebookContainer) {{\n",
       "    x.observe(notebookContainer, {childList: true});\n",
       "}}\n",
       "\n",
       "// Listen for the clearing of the current output cell\n",
       "var outputEl = gd.closest('.output');\n",
       "if (outputEl) {{\n",
       "    x.observe(outputEl, {childList: true});\n",
       "}}\n",
       "\n",
       "                        })                };                });            </script>        </div>"
      ]
     },
     "metadata": {},
     "output_type": "display_data"
    }
   ],
   "source": [
    "fig = go.Figure()\n",
    "fig.add_trace(go.Bar(y=ls_war_X2['War_volume'], x = ls_war_X2[ls_war_X2['War_kind'] =='테러']['War_name'], name='테러'))\n",
    "fig.add_trace(go.Bar(y=ls_war_X2['War_volume'], x = ls_war_X2[ls_war_X2['War_kind'] =='내란']['War_name'], name='내란'))\n",
    "fig.update_layout(title='<b> 갈등종류에 따른 전쟁규모 TOP2')\n",
    "fig.show();"
   ]
  },
  {
   "cell_type": "markdown",
   "metadata": {},
   "source": [
    "## 참전국가수는 전쟁규모 및 평균변화율의 순위에 영향은 미치지 못한다."
   ]
  },
  {
   "cell_type": "code",
   "execution_count": 27,
   "metadata": {},
   "outputs": [
    {
     "data": {
      "application/vnd.plotly.v1+json": {
       "config": {
        "plotlyServerURL": "https://plot.ly"
       },
       "data": [
        {
         "type": "bar",
         "x": [
          48,
          2,
          38,
          41,
          3,
          7,
          3,
          3,
          5,
          2,
          4,
          8,
          17,
          7,
          11,
          19,
          2,
          21,
          13,
          19,
          57,
          22,
          19,
          41,
          19,
          5,
          13,
          13
         ],
         "y": [
          451390,
          145160,
          269920,
          94180,
          170260,
          870290,
          172720,
          330240,
          281360,
          197320,
          207380,
          383220,
          225920,
          280040,
          488180,
          0,
          294880,
          246950,
          516820,
          225420,
          527650,
          200010,
          316660,
          183420,
          529340,
          0,
          0,
          0
         ]
        },
        {
         "type": "bar",
         "x": [
          48,
          2,
          38,
          41,
          3,
          7,
          3,
          3,
          5,
          2,
          4,
          8,
          17,
          7,
          11,
          19,
          2,
          21,
          13,
          19,
          57,
          22,
          19,
          41,
          19,
          5,
          13,
          13
         ],
         "y": [
          1000000,
          115800,
          500000,
          1000000,
          17000,
          32000,
          3650,
          55000,
          748000,
          10500,
          360000,
          35250,
          5325,
          2500,
          41600,
          10000,
          1500,
          37000,
          144600,
          13500,
          24764,
          770000,
          400000,
          472260,
          156000,
          7500,
          188900,
          10000
         ]
        }
       ],
       "layout": {
        "template": {
         "data": {
          "bar": [
           {
            "error_x": {
             "color": "#2a3f5f"
            },
            "error_y": {
             "color": "#2a3f5f"
            },
            "marker": {
             "line": {
              "color": "#E5ECF6",
              "width": 0.5
             }
            },
            "type": "bar"
           }
          ],
          "barpolar": [
           {
            "marker": {
             "line": {
              "color": "#E5ECF6",
              "width": 0.5
             }
            },
            "type": "barpolar"
           }
          ],
          "carpet": [
           {
            "aaxis": {
             "endlinecolor": "#2a3f5f",
             "gridcolor": "white",
             "linecolor": "white",
             "minorgridcolor": "white",
             "startlinecolor": "#2a3f5f"
            },
            "baxis": {
             "endlinecolor": "#2a3f5f",
             "gridcolor": "white",
             "linecolor": "white",
             "minorgridcolor": "white",
             "startlinecolor": "#2a3f5f"
            },
            "type": "carpet"
           }
          ],
          "choropleth": [
           {
            "colorbar": {
             "outlinewidth": 0,
             "ticks": ""
            },
            "type": "choropleth"
           }
          ],
          "contour": [
           {
            "colorbar": {
             "outlinewidth": 0,
             "ticks": ""
            },
            "colorscale": [
             [
              0,
              "#0d0887"
             ],
             [
              0.1111111111111111,
              "#46039f"
             ],
             [
              0.2222222222222222,
              "#7201a8"
             ],
             [
              0.3333333333333333,
              "#9c179e"
             ],
             [
              0.4444444444444444,
              "#bd3786"
             ],
             [
              0.5555555555555556,
              "#d8576b"
             ],
             [
              0.6666666666666666,
              "#ed7953"
             ],
             [
              0.7777777777777778,
              "#fb9f3a"
             ],
             [
              0.8888888888888888,
              "#fdca26"
             ],
             [
              1,
              "#f0f921"
             ]
            ],
            "type": "contour"
           }
          ],
          "contourcarpet": [
           {
            "colorbar": {
             "outlinewidth": 0,
             "ticks": ""
            },
            "type": "contourcarpet"
           }
          ],
          "heatmap": [
           {
            "colorbar": {
             "outlinewidth": 0,
             "ticks": ""
            },
            "colorscale": [
             [
              0,
              "#0d0887"
             ],
             [
              0.1111111111111111,
              "#46039f"
             ],
             [
              0.2222222222222222,
              "#7201a8"
             ],
             [
              0.3333333333333333,
              "#9c179e"
             ],
             [
              0.4444444444444444,
              "#bd3786"
             ],
             [
              0.5555555555555556,
              "#d8576b"
             ],
             [
              0.6666666666666666,
              "#ed7953"
             ],
             [
              0.7777777777777778,
              "#fb9f3a"
             ],
             [
              0.8888888888888888,
              "#fdca26"
             ],
             [
              1,
              "#f0f921"
             ]
            ],
            "type": "heatmap"
           }
          ],
          "heatmapgl": [
           {
            "colorbar": {
             "outlinewidth": 0,
             "ticks": ""
            },
            "colorscale": [
             [
              0,
              "#0d0887"
             ],
             [
              0.1111111111111111,
              "#46039f"
             ],
             [
              0.2222222222222222,
              "#7201a8"
             ],
             [
              0.3333333333333333,
              "#9c179e"
             ],
             [
              0.4444444444444444,
              "#bd3786"
             ],
             [
              0.5555555555555556,
              "#d8576b"
             ],
             [
              0.6666666666666666,
              "#ed7953"
             ],
             [
              0.7777777777777778,
              "#fb9f3a"
             ],
             [
              0.8888888888888888,
              "#fdca26"
             ],
             [
              1,
              "#f0f921"
             ]
            ],
            "type": "heatmapgl"
           }
          ],
          "histogram": [
           {
            "marker": {
             "colorbar": {
              "outlinewidth": 0,
              "ticks": ""
             }
            },
            "type": "histogram"
           }
          ],
          "histogram2d": [
           {
            "colorbar": {
             "outlinewidth": 0,
             "ticks": ""
            },
            "colorscale": [
             [
              0,
              "#0d0887"
             ],
             [
              0.1111111111111111,
              "#46039f"
             ],
             [
              0.2222222222222222,
              "#7201a8"
             ],
             [
              0.3333333333333333,
              "#9c179e"
             ],
             [
              0.4444444444444444,
              "#bd3786"
             ],
             [
              0.5555555555555556,
              "#d8576b"
             ],
             [
              0.6666666666666666,
              "#ed7953"
             ],
             [
              0.7777777777777778,
              "#fb9f3a"
             ],
             [
              0.8888888888888888,
              "#fdca26"
             ],
             [
              1,
              "#f0f921"
             ]
            ],
            "type": "histogram2d"
           }
          ],
          "histogram2dcontour": [
           {
            "colorbar": {
             "outlinewidth": 0,
             "ticks": ""
            },
            "colorscale": [
             [
              0,
              "#0d0887"
             ],
             [
              0.1111111111111111,
              "#46039f"
             ],
             [
              0.2222222222222222,
              "#7201a8"
             ],
             [
              0.3333333333333333,
              "#9c179e"
             ],
             [
              0.4444444444444444,
              "#bd3786"
             ],
             [
              0.5555555555555556,
              "#d8576b"
             ],
             [
              0.6666666666666666,
              "#ed7953"
             ],
             [
              0.7777777777777778,
              "#fb9f3a"
             ],
             [
              0.8888888888888888,
              "#fdca26"
             ],
             [
              1,
              "#f0f921"
             ]
            ],
            "type": "histogram2dcontour"
           }
          ],
          "mesh3d": [
           {
            "colorbar": {
             "outlinewidth": 0,
             "ticks": ""
            },
            "type": "mesh3d"
           }
          ],
          "parcoords": [
           {
            "line": {
             "colorbar": {
              "outlinewidth": 0,
              "ticks": ""
             }
            },
            "type": "parcoords"
           }
          ],
          "pie": [
           {
            "automargin": true,
            "type": "pie"
           }
          ],
          "scatter": [
           {
            "marker": {
             "colorbar": {
              "outlinewidth": 0,
              "ticks": ""
             }
            },
            "type": "scatter"
           }
          ],
          "scatter3d": [
           {
            "line": {
             "colorbar": {
              "outlinewidth": 0,
              "ticks": ""
             }
            },
            "marker": {
             "colorbar": {
              "outlinewidth": 0,
              "ticks": ""
             }
            },
            "type": "scatter3d"
           }
          ],
          "scattercarpet": [
           {
            "marker": {
             "colorbar": {
              "outlinewidth": 0,
              "ticks": ""
             }
            },
            "type": "scattercarpet"
           }
          ],
          "scattergeo": [
           {
            "marker": {
             "colorbar": {
              "outlinewidth": 0,
              "ticks": ""
             }
            },
            "type": "scattergeo"
           }
          ],
          "scattergl": [
           {
            "marker": {
             "colorbar": {
              "outlinewidth": 0,
              "ticks": ""
             }
            },
            "type": "scattergl"
           }
          ],
          "scattermapbox": [
           {
            "marker": {
             "colorbar": {
              "outlinewidth": 0,
              "ticks": ""
             }
            },
            "type": "scattermapbox"
           }
          ],
          "scatterpolar": [
           {
            "marker": {
             "colorbar": {
              "outlinewidth": 0,
              "ticks": ""
             }
            },
            "type": "scatterpolar"
           }
          ],
          "scatterpolargl": [
           {
            "marker": {
             "colorbar": {
              "outlinewidth": 0,
              "ticks": ""
             }
            },
            "type": "scatterpolargl"
           }
          ],
          "scatterternary": [
           {
            "marker": {
             "colorbar": {
              "outlinewidth": 0,
              "ticks": ""
             }
            },
            "type": "scatterternary"
           }
          ],
          "surface": [
           {
            "colorbar": {
             "outlinewidth": 0,
             "ticks": ""
            },
            "colorscale": [
             [
              0,
              "#0d0887"
             ],
             [
              0.1111111111111111,
              "#46039f"
             ],
             [
              0.2222222222222222,
              "#7201a8"
             ],
             [
              0.3333333333333333,
              "#9c179e"
             ],
             [
              0.4444444444444444,
              "#bd3786"
             ],
             [
              0.5555555555555556,
              "#d8576b"
             ],
             [
              0.6666666666666666,
              "#ed7953"
             ],
             [
              0.7777777777777778,
              "#fb9f3a"
             ],
             [
              0.8888888888888888,
              "#fdca26"
             ],
             [
              1,
              "#f0f921"
             ]
            ],
            "type": "surface"
           }
          ],
          "table": [
           {
            "cells": {
             "fill": {
              "color": "#EBF0F8"
             },
             "line": {
              "color": "white"
             }
            },
            "header": {
             "fill": {
              "color": "#C8D4E3"
             },
             "line": {
              "color": "white"
             }
            },
            "type": "table"
           }
          ]
         },
         "layout": {
          "annotationdefaults": {
           "arrowcolor": "#2a3f5f",
           "arrowhead": 0,
           "arrowwidth": 1
          },
          "autotypenumbers": "strict",
          "coloraxis": {
           "colorbar": {
            "outlinewidth": 0,
            "ticks": ""
           }
          },
          "colorscale": {
           "diverging": [
            [
             0,
             "#8e0152"
            ],
            [
             0.1,
             "#c51b7d"
            ],
            [
             0.2,
             "#de77ae"
            ],
            [
             0.3,
             "#f1b6da"
            ],
            [
             0.4,
             "#fde0ef"
            ],
            [
             0.5,
             "#f7f7f7"
            ],
            [
             0.6,
             "#e6f5d0"
            ],
            [
             0.7,
             "#b8e186"
            ],
            [
             0.8,
             "#7fbc41"
            ],
            [
             0.9,
             "#4d9221"
            ],
            [
             1,
             "#276419"
            ]
           ],
           "sequential": [
            [
             0,
             "#0d0887"
            ],
            [
             0.1111111111111111,
             "#46039f"
            ],
            [
             0.2222222222222222,
             "#7201a8"
            ],
            [
             0.3333333333333333,
             "#9c179e"
            ],
            [
             0.4444444444444444,
             "#bd3786"
            ],
            [
             0.5555555555555556,
             "#d8576b"
            ],
            [
             0.6666666666666666,
             "#ed7953"
            ],
            [
             0.7777777777777778,
             "#fb9f3a"
            ],
            [
             0.8888888888888888,
             "#fdca26"
            ],
            [
             1,
             "#f0f921"
            ]
           ],
           "sequentialminus": [
            [
             0,
             "#0d0887"
            ],
            [
             0.1111111111111111,
             "#46039f"
            ],
            [
             0.2222222222222222,
             "#7201a8"
            ],
            [
             0.3333333333333333,
             "#9c179e"
            ],
            [
             0.4444444444444444,
             "#bd3786"
            ],
            [
             0.5555555555555556,
             "#d8576b"
            ],
            [
             0.6666666666666666,
             "#ed7953"
            ],
            [
             0.7777777777777778,
             "#fb9f3a"
            ],
            [
             0.8888888888888888,
             "#fdca26"
            ],
            [
             1,
             "#f0f921"
            ]
           ]
          },
          "colorway": [
           "#636efa",
           "#EF553B",
           "#00cc96",
           "#ab63fa",
           "#FFA15A",
           "#19d3f3",
           "#FF6692",
           "#B6E880",
           "#FF97FF",
           "#FECB52"
          ],
          "font": {
           "color": "#2a3f5f"
          },
          "geo": {
           "bgcolor": "white",
           "lakecolor": "white",
           "landcolor": "#E5ECF6",
           "showlakes": true,
           "showland": true,
           "subunitcolor": "white"
          },
          "hoverlabel": {
           "align": "left"
          },
          "hovermode": "closest",
          "mapbox": {
           "style": "light"
          },
          "paper_bgcolor": "white",
          "plot_bgcolor": "#E5ECF6",
          "polar": {
           "angularaxis": {
            "gridcolor": "white",
            "linecolor": "white",
            "ticks": ""
           },
           "bgcolor": "#E5ECF6",
           "radialaxis": {
            "gridcolor": "white",
            "linecolor": "white",
            "ticks": ""
           }
          },
          "scene": {
           "xaxis": {
            "backgroundcolor": "#E5ECF6",
            "gridcolor": "white",
            "gridwidth": 2,
            "linecolor": "white",
            "showbackground": true,
            "ticks": "",
            "zerolinecolor": "white"
           },
           "yaxis": {
            "backgroundcolor": "#E5ECF6",
            "gridcolor": "white",
            "gridwidth": 2,
            "linecolor": "white",
            "showbackground": true,
            "ticks": "",
            "zerolinecolor": "white"
           },
           "zaxis": {
            "backgroundcolor": "#E5ECF6",
            "gridcolor": "white",
            "gridwidth": 2,
            "linecolor": "white",
            "showbackground": true,
            "ticks": "",
            "zerolinecolor": "white"
           }
          },
          "shapedefaults": {
           "line": {
            "color": "#2a3f5f"
           }
          },
          "ternary": {
           "aaxis": {
            "gridcolor": "white",
            "linecolor": "white",
            "ticks": ""
           },
           "baxis": {
            "gridcolor": "white",
            "linecolor": "white",
            "ticks": ""
           },
           "bgcolor": "#E5ECF6",
           "caxis": {
            "gridcolor": "white",
            "linecolor": "white",
            "ticks": ""
           }
          },
          "title": {
           "x": 0.05
          },
          "xaxis": {
           "automargin": true,
           "gridcolor": "white",
           "linecolor": "white",
           "ticks": "",
           "title": {
            "standoff": 15
           },
           "zerolinecolor": "white",
           "zerolinewidth": 2
          },
          "yaxis": {
           "automargin": true,
           "gridcolor": "white",
           "linecolor": "white",
           "ticks": "",
           "title": {
            "standoff": 15
           },
           "zerolinecolor": "white",
           "zerolinewidth": 2
          }
         }
        },
        "title": {
         "text": "<b> 참여 국가수에 대한 평균변화율"
        }
       }
      },
      "text/html": [
       "<div>                            <div id=\"c00ad6c7-4c66-495c-9feb-10fe9f551ede\" class=\"plotly-graph-div\" style=\"height:525px; width:100%;\"></div>            <script type=\"text/javascript\">                require([\"plotly\"], function(Plotly) {                    window.PLOTLYENV=window.PLOTLYENV || {};                                    if (document.getElementById(\"c00ad6c7-4c66-495c-9feb-10fe9f551ede\")) {                    Plotly.newPlot(                        \"c00ad6c7-4c66-495c-9feb-10fe9f551ede\",                        [{\"type\": \"bar\", \"x\": [48, 2, 38, 41, 3, 7, 3, 3, 5, 2, 4, 8, 17, 7, 11, 19, 2, 21, 13, 19, 57, 22, 19, 41, 19, 5, 13, 13], \"y\": [451390, 145160, 269920, 94180, 170260, 870290, 172720, 330240, 281360, 197320, 207380, 383220, 225920, 280040, 488180, 0, 294880, 246950, 516820, 225420, 527650, 200010, 316660, 183420, 529340, 0, 0, 0]}, {\"type\": \"bar\", \"x\": [48, 2, 38, 41, 3, 7, 3, 3, 5, 2, 4, 8, 17, 7, 11, 19, 2, 21, 13, 19, 57, 22, 19, 41, 19, 5, 13, 13], \"y\": [1000000, 115800, 500000, 1000000, 17000, 32000, 3650, 55000, 748000, 10500, 360000, 35250, 5325, 2500, 41600, 10000, 1500, 37000, 144600, 13500, 24764, 770000, 400000, 472260, 156000, 7500, 188900, 10000]}],                        {\"template\": {\"data\": {\"bar\": [{\"error_x\": {\"color\": \"#2a3f5f\"}, \"error_y\": {\"color\": \"#2a3f5f\"}, \"marker\": {\"line\": {\"color\": \"#E5ECF6\", \"width\": 0.5}}, \"type\": \"bar\"}], \"barpolar\": [{\"marker\": {\"line\": {\"color\": \"#E5ECF6\", \"width\": 0.5}}, \"type\": \"barpolar\"}], \"carpet\": [{\"aaxis\": {\"endlinecolor\": \"#2a3f5f\", \"gridcolor\": \"white\", \"linecolor\": \"white\", \"minorgridcolor\": \"white\", \"startlinecolor\": \"#2a3f5f\"}, \"baxis\": {\"endlinecolor\": \"#2a3f5f\", \"gridcolor\": \"white\", \"linecolor\": \"white\", \"minorgridcolor\": \"white\", \"startlinecolor\": \"#2a3f5f\"}, \"type\": \"carpet\"}], \"choropleth\": [{\"colorbar\": {\"outlinewidth\": 0, \"ticks\": \"\"}, \"type\": \"choropleth\"}], \"contour\": [{\"colorbar\": {\"outlinewidth\": 0, \"ticks\": \"\"}, \"colorscale\": [[0.0, \"#0d0887\"], [0.1111111111111111, \"#46039f\"], [0.2222222222222222, \"#7201a8\"], [0.3333333333333333, \"#9c179e\"], [0.4444444444444444, \"#bd3786\"], [0.5555555555555556, \"#d8576b\"], [0.6666666666666666, \"#ed7953\"], [0.7777777777777778, \"#fb9f3a\"], [0.8888888888888888, \"#fdca26\"], [1.0, \"#f0f921\"]], \"type\": \"contour\"}], \"contourcarpet\": [{\"colorbar\": {\"outlinewidth\": 0, \"ticks\": \"\"}, \"type\": \"contourcarpet\"}], \"heatmap\": [{\"colorbar\": {\"outlinewidth\": 0, \"ticks\": \"\"}, \"colorscale\": [[0.0, \"#0d0887\"], [0.1111111111111111, \"#46039f\"], [0.2222222222222222, \"#7201a8\"], [0.3333333333333333, \"#9c179e\"], [0.4444444444444444, \"#bd3786\"], [0.5555555555555556, \"#d8576b\"], [0.6666666666666666, \"#ed7953\"], [0.7777777777777778, \"#fb9f3a\"], [0.8888888888888888, \"#fdca26\"], [1.0, \"#f0f921\"]], \"type\": \"heatmap\"}], \"heatmapgl\": [{\"colorbar\": {\"outlinewidth\": 0, \"ticks\": \"\"}, \"colorscale\": [[0.0, \"#0d0887\"], [0.1111111111111111, \"#46039f\"], [0.2222222222222222, \"#7201a8\"], [0.3333333333333333, \"#9c179e\"], [0.4444444444444444, \"#bd3786\"], [0.5555555555555556, \"#d8576b\"], [0.6666666666666666, \"#ed7953\"], [0.7777777777777778, \"#fb9f3a\"], [0.8888888888888888, \"#fdca26\"], [1.0, \"#f0f921\"]], \"type\": \"heatmapgl\"}], \"histogram\": [{\"marker\": {\"colorbar\": {\"outlinewidth\": 0, \"ticks\": \"\"}}, \"type\": \"histogram\"}], \"histogram2d\": [{\"colorbar\": {\"outlinewidth\": 0, \"ticks\": \"\"}, \"colorscale\": [[0.0, \"#0d0887\"], [0.1111111111111111, \"#46039f\"], [0.2222222222222222, \"#7201a8\"], [0.3333333333333333, \"#9c179e\"], [0.4444444444444444, \"#bd3786\"], [0.5555555555555556, \"#d8576b\"], [0.6666666666666666, \"#ed7953\"], [0.7777777777777778, \"#fb9f3a\"], [0.8888888888888888, \"#fdca26\"], [1.0, \"#f0f921\"]], \"type\": \"histogram2d\"}], \"histogram2dcontour\": [{\"colorbar\": {\"outlinewidth\": 0, \"ticks\": \"\"}, \"colorscale\": [[0.0, \"#0d0887\"], [0.1111111111111111, \"#46039f\"], [0.2222222222222222, \"#7201a8\"], [0.3333333333333333, \"#9c179e\"], [0.4444444444444444, \"#bd3786\"], [0.5555555555555556, \"#d8576b\"], [0.6666666666666666, \"#ed7953\"], [0.7777777777777778, \"#fb9f3a\"], [0.8888888888888888, \"#fdca26\"], [1.0, \"#f0f921\"]], \"type\": \"histogram2dcontour\"}], \"mesh3d\": [{\"colorbar\": {\"outlinewidth\": 0, \"ticks\": \"\"}, \"type\": \"mesh3d\"}], \"parcoords\": [{\"line\": {\"colorbar\": {\"outlinewidth\": 0, \"ticks\": \"\"}}, \"type\": \"parcoords\"}], \"pie\": [{\"automargin\": true, \"type\": \"pie\"}], \"scatter\": [{\"marker\": {\"colorbar\": {\"outlinewidth\": 0, \"ticks\": \"\"}}, \"type\": \"scatter\"}], \"scatter3d\": [{\"line\": {\"colorbar\": {\"outlinewidth\": 0, \"ticks\": \"\"}}, \"marker\": {\"colorbar\": {\"outlinewidth\": 0, \"ticks\": \"\"}}, \"type\": \"scatter3d\"}], \"scattercarpet\": [{\"marker\": {\"colorbar\": {\"outlinewidth\": 0, \"ticks\": \"\"}}, \"type\": \"scattercarpet\"}], \"scattergeo\": [{\"marker\": {\"colorbar\": {\"outlinewidth\": 0, \"ticks\": \"\"}}, \"type\": \"scattergeo\"}], \"scattergl\": [{\"marker\": {\"colorbar\": {\"outlinewidth\": 0, \"ticks\": \"\"}}, \"type\": \"scattergl\"}], \"scattermapbox\": [{\"marker\": {\"colorbar\": {\"outlinewidth\": 0, \"ticks\": \"\"}}, \"type\": \"scattermapbox\"}], \"scatterpolar\": [{\"marker\": {\"colorbar\": {\"outlinewidth\": 0, \"ticks\": \"\"}}, \"type\": \"scatterpolar\"}], \"scatterpolargl\": [{\"marker\": {\"colorbar\": {\"outlinewidth\": 0, \"ticks\": \"\"}}, \"type\": \"scatterpolargl\"}], \"scatterternary\": [{\"marker\": {\"colorbar\": {\"outlinewidth\": 0, \"ticks\": \"\"}}, \"type\": \"scatterternary\"}], \"surface\": [{\"colorbar\": {\"outlinewidth\": 0, \"ticks\": \"\"}, \"colorscale\": [[0.0, \"#0d0887\"], [0.1111111111111111, \"#46039f\"], [0.2222222222222222, \"#7201a8\"], [0.3333333333333333, \"#9c179e\"], [0.4444444444444444, \"#bd3786\"], [0.5555555555555556, \"#d8576b\"], [0.6666666666666666, \"#ed7953\"], [0.7777777777777778, \"#fb9f3a\"], [0.8888888888888888, \"#fdca26\"], [1.0, \"#f0f921\"]], \"type\": \"surface\"}], \"table\": [{\"cells\": {\"fill\": {\"color\": \"#EBF0F8\"}, \"line\": {\"color\": \"white\"}}, \"header\": {\"fill\": {\"color\": \"#C8D4E3\"}, \"line\": {\"color\": \"white\"}}, \"type\": \"table\"}]}, \"layout\": {\"annotationdefaults\": {\"arrowcolor\": \"#2a3f5f\", \"arrowhead\": 0, \"arrowwidth\": 1}, \"autotypenumbers\": \"strict\", \"coloraxis\": {\"colorbar\": {\"outlinewidth\": 0, \"ticks\": \"\"}}, \"colorscale\": {\"diverging\": [[0, \"#8e0152\"], [0.1, \"#c51b7d\"], [0.2, \"#de77ae\"], [0.3, \"#f1b6da\"], [0.4, \"#fde0ef\"], [0.5, \"#f7f7f7\"], [0.6, \"#e6f5d0\"], [0.7, \"#b8e186\"], [0.8, \"#7fbc41\"], [0.9, \"#4d9221\"], [1, \"#276419\"]], \"sequential\": [[0.0, \"#0d0887\"], [0.1111111111111111, \"#46039f\"], [0.2222222222222222, \"#7201a8\"], [0.3333333333333333, \"#9c179e\"], [0.4444444444444444, \"#bd3786\"], [0.5555555555555556, \"#d8576b\"], [0.6666666666666666, \"#ed7953\"], [0.7777777777777778, \"#fb9f3a\"], [0.8888888888888888, \"#fdca26\"], [1.0, \"#f0f921\"]], \"sequentialminus\": [[0.0, \"#0d0887\"], [0.1111111111111111, \"#46039f\"], [0.2222222222222222, \"#7201a8\"], [0.3333333333333333, \"#9c179e\"], [0.4444444444444444, \"#bd3786\"], [0.5555555555555556, \"#d8576b\"], [0.6666666666666666, \"#ed7953\"], [0.7777777777777778, \"#fb9f3a\"], [0.8888888888888888, \"#fdca26\"], [1.0, \"#f0f921\"]]}, \"colorway\": [\"#636efa\", \"#EF553B\", \"#00cc96\", \"#ab63fa\", \"#FFA15A\", \"#19d3f3\", \"#FF6692\", \"#B6E880\", \"#FF97FF\", \"#FECB52\"], \"font\": {\"color\": \"#2a3f5f\"}, \"geo\": {\"bgcolor\": \"white\", \"lakecolor\": \"white\", \"landcolor\": \"#E5ECF6\", \"showlakes\": true, \"showland\": true, \"subunitcolor\": \"white\"}, \"hoverlabel\": {\"align\": \"left\"}, \"hovermode\": \"closest\", \"mapbox\": {\"style\": \"light\"}, \"paper_bgcolor\": \"white\", \"plot_bgcolor\": \"#E5ECF6\", \"polar\": {\"angularaxis\": {\"gridcolor\": \"white\", \"linecolor\": \"white\", \"ticks\": \"\"}, \"bgcolor\": \"#E5ECF6\", \"radialaxis\": {\"gridcolor\": \"white\", \"linecolor\": \"white\", \"ticks\": \"\"}}, \"scene\": {\"xaxis\": {\"backgroundcolor\": \"#E5ECF6\", \"gridcolor\": \"white\", \"gridwidth\": 2, \"linecolor\": \"white\", \"showbackground\": true, \"ticks\": \"\", \"zerolinecolor\": \"white\"}, \"yaxis\": {\"backgroundcolor\": \"#E5ECF6\", \"gridcolor\": \"white\", \"gridwidth\": 2, \"linecolor\": \"white\", \"showbackground\": true, \"ticks\": \"\", \"zerolinecolor\": \"white\"}, \"zaxis\": {\"backgroundcolor\": \"#E5ECF6\", \"gridcolor\": \"white\", \"gridwidth\": 2, \"linecolor\": \"white\", \"showbackground\": true, \"ticks\": \"\", \"zerolinecolor\": \"white\"}}, \"shapedefaults\": {\"line\": {\"color\": \"#2a3f5f\"}}, \"ternary\": {\"aaxis\": {\"gridcolor\": \"white\", \"linecolor\": \"white\", \"ticks\": \"\"}, \"baxis\": {\"gridcolor\": \"white\", \"linecolor\": \"white\", \"ticks\": \"\"}, \"bgcolor\": \"#E5ECF6\", \"caxis\": {\"gridcolor\": \"white\", \"linecolor\": \"white\", \"ticks\": \"\"}}, \"title\": {\"x\": 0.05}, \"xaxis\": {\"automargin\": true, \"gridcolor\": \"white\", \"linecolor\": \"white\", \"ticks\": \"\", \"title\": {\"standoff\": 15}, \"zerolinecolor\": \"white\", \"zerolinewidth\": 2}, \"yaxis\": {\"automargin\": true, \"gridcolor\": \"white\", \"linecolor\": \"white\", \"ticks\": \"\", \"title\": {\"standoff\": 15}, \"zerolinecolor\": \"white\", \"zerolinewidth\": 2}}}, \"title\": {\"text\": \"<b> \\ucc38\\uc5ec \\uad6d\\uac00\\uc218\\uc5d0 \\ub300\\ud55c \\ud3c9\\uade0\\ubcc0\\ud654\\uc728\"}},                        {\"responsive\": true}                    ).then(function(){\n",
       "                            \n",
       "var gd = document.getElementById('c00ad6c7-4c66-495c-9feb-10fe9f551ede');\n",
       "var x = new MutationObserver(function (mutations, observer) {{\n",
       "        var display = window.getComputedStyle(gd).display;\n",
       "        if (!display || display === 'none') {{\n",
       "            console.log([gd, 'removed!']);\n",
       "            Plotly.purge(gd);\n",
       "            observer.disconnect();\n",
       "        }}\n",
       "}});\n",
       "\n",
       "// Listen for the removal of the full notebook cells\n",
       "var notebookContainer = gd.closest('#notebook-container');\n",
       "if (notebookContainer) {{\n",
       "    x.observe(notebookContainer, {childList: true});\n",
       "}}\n",
       "\n",
       "// Listen for the clearing of the current output cell\n",
       "var outputEl = gd.closest('.output');\n",
       "if (outputEl) {{\n",
       "    x.observe(outputEl, {childList: true});\n",
       "}}\n",
       "\n",
       "                        })                };                });            </script>        </div>"
      ]
     },
     "metadata": {},
     "output_type": "display_data"
    }
   ],
   "source": [
    "fig = go.Figure()\n",
    "fig.add_trace(go.Bar(y=ls_war_X2['Abs_sum']*10, x = ls_war_X2['Count_country']))\n",
    "fig.add_trace(go.Bar(y=ls_war_X2['War_volume'], x = ls_war_X2['Count_country']))\n",
    "fig.update_layout(title='<b> 참여 국가수에 대한 평균변화율')\n",
    "fig.show();"
   ]
  },
  {
   "cell_type": "markdown",
   "metadata": {},
   "source": [
    "## Symblo industry 전체 리스트 정보"
   ]
  },
  {
   "cell_type": "code",
   "execution_count": 28,
   "metadata": {},
   "outputs": [
    {
     "data": {
      "text/html": [
       "<div>\n",
       "<style scoped>\n",
       "    .dataframe tbody tr th:only-of-type {\n",
       "        vertical-align: middle;\n",
       "    }\n",
       "\n",
       "    .dataframe tbody tr th {\n",
       "        vertical-align: top;\n",
       "    }\n",
       "\n",
       "    .dataframe thead th {\n",
       "        text-align: right;\n",
       "    }\n",
       "</style>\n",
       "<table border=\"1\" class=\"dataframe\">\n",
       "  <thead>\n",
       "    <tr style=\"text-align: right;\">\n",
       "      <th></th>\n",
       "      <th>Industry</th>\n",
       "      <th>IndustryCode</th>\n",
       "    </tr>\n",
       "  </thead>\n",
       "  <tbody>\n",
       "    <tr>\n",
       "      <th>0</th>\n",
       "      <td>건설 장비 및대형차, 기차, 배</td>\n",
       "      <td>521020</td>\n",
       "    </tr>\n",
       "    <tr>\n",
       "      <th>1</th>\n",
       "      <td>다양한 소매업</td>\n",
       "      <td>533010</td>\n",
       "    </tr>\n",
       "    <tr>\n",
       "      <th>2</th>\n",
       "      <td>레저 상품</td>\n",
       "      <td>532050</td>\n",
       "    </tr>\n",
       "    <tr>\n",
       "      <th>3</th>\n",
       "      <td>미디어 및 출판</td>\n",
       "      <td>533020</td>\n",
       "    </tr>\n",
       "    <tr>\n",
       "      <th>4</th>\n",
       "      <td>반도체 및 반도체 장비</td>\n",
       "      <td>571010</td>\n",
       "    </tr>\n",
       "    <tr>\n",
       "      <th>5</th>\n",
       "      <td>생명과학 및 메디컬 리서치</td>\n",
       "      <td>562020</td>\n",
       "    </tr>\n",
       "    <tr>\n",
       "      <th>6</th>\n",
       "      <td>섬유 및 의류</td>\n",
       "      <td>532020</td>\n",
       "    </tr>\n",
       "    <tr>\n",
       "      <th>7</th>\n",
       "      <td>소프트웨어 및 IT 서비스</td>\n",
       "      <td>572010</td>\n",
       "    </tr>\n",
       "    <tr>\n",
       "      <th>8</th>\n",
       "      <td>식품 및 담배</td>\n",
       "      <td>541020</td>\n",
       "    </tr>\n",
       "    <tr>\n",
       "      <th>9</th>\n",
       "      <td>식품 및 약품소매</td>\n",
       "      <td>543010</td>\n",
       "    </tr>\n",
       "    <tr>\n",
       "      <th>10</th>\n",
       "      <td>은행</td>\n",
       "      <td>551010</td>\n",
       "    </tr>\n",
       "    <tr>\n",
       "      <th>11</th>\n",
       "      <td>음료</td>\n",
       "      <td>541010</td>\n",
       "    </tr>\n",
       "    <tr>\n",
       "      <th>12</th>\n",
       "      <td>자동차 및 자동차 부품</td>\n",
       "      <td>531010</td>\n",
       "    </tr>\n",
       "    <tr>\n",
       "      <th>13</th>\n",
       "      <td>전기 유틸리티</td>\n",
       "      <td>591010</td>\n",
       "    </tr>\n",
       "    <tr>\n",
       "      <th>14</th>\n",
       "      <td>전문 및 상업 서비스</td>\n",
       "      <td>522030</td>\n",
       "    </tr>\n",
       "    <tr>\n",
       "      <th>15</th>\n",
       "      <td>전문품 상점</td>\n",
       "      <td>534030</td>\n",
       "    </tr>\n",
       "    <tr>\n",
       "      <th>16</th>\n",
       "      <td>제약</td>\n",
       "      <td>562010</td>\n",
       "    </tr>\n",
       "    <tr>\n",
       "      <th>17</th>\n",
       "      <td>주택 및 상업용 리츠</td>\n",
       "      <td>601020</td>\n",
       "    </tr>\n",
       "    <tr>\n",
       "      <th>18</th>\n",
       "      <td>커뮤니케이션 및 네트워킹</td>\n",
       "      <td>571020</td>\n",
       "    </tr>\n",
       "    <tr>\n",
       "      <th>19</th>\n",
       "      <td>컴퓨터, 전화 및 가전제품</td>\n",
       "      <td>571060</td>\n",
       "    </tr>\n",
       "    <tr>\n",
       "      <th>20</th>\n",
       "      <td>통신 서비스</td>\n",
       "      <td>574010</td>\n",
       "    </tr>\n",
       "    <tr>\n",
       "      <th>21</th>\n",
       "      <td>투자은행 및 서비스</td>\n",
       "      <td>551020</td>\n",
       "    </tr>\n",
       "    <tr>\n",
       "      <th>22</th>\n",
       "      <td>헬스케어 장비 및 용품</td>\n",
       "      <td>561010</td>\n",
       "    </tr>\n",
       "    <tr>\n",
       "      <th>23</th>\n",
       "      <td>호텔 및 엔터테인먼트</td>\n",
       "      <td>533010</td>\n",
       "    </tr>\n",
       "    <tr>\n",
       "      <th>24</th>\n",
       "      <td>화물 및 물류 서비스</td>\n",
       "      <td>524050</td>\n",
       "    </tr>\n",
       "  </tbody>\n",
       "</table>\n",
       "</div>"
      ],
      "text/plain": [
       "             Industry  IndustryCode\n",
       "0   건설 장비 및대형차, 기차, 배        521020\n",
       "1             다양한 소매업        533010\n",
       "2               레저 상품        532050\n",
       "3            미디어 및 출판        533020\n",
       "4        반도체 및 반도체 장비        571010\n",
       "5      생명과학 및 메디컬 리서치        562020\n",
       "6             섬유 및 의류        532020\n",
       "7      소프트웨어 및 IT 서비스        572010\n",
       "8             식품 및 담배        541020\n",
       "9           식품 및 약품소매        543010\n",
       "10                 은행        551010\n",
       "11                 음료        541010\n",
       "12       자동차 및 자동차 부품        531010\n",
       "13            전기 유틸리티        591010\n",
       "14        전문 및 상업 서비스        522030\n",
       "15             전문품 상점        534030\n",
       "16                제약         562010\n",
       "17        주택 및 상업용 리츠        601020\n",
       "18      커뮤니케이션 및 네트워킹        571020\n",
       "19     컴퓨터, 전화 및 가전제품        571060\n",
       "20             통신 서비스        574010\n",
       "21         투자은행 및 서비스        551020\n",
       "22       헬스케어 장비 및 용품        561010\n",
       "23        호텔 및 엔터테인먼트        533010\n",
       "24        화물 및 물류 서비스        524050"
      ]
     },
     "execution_count": 28,
     "metadata": {},
     "output_type": "execute_result"
    }
   ],
   "source": [
    "industry = pd.read_csv(\"./datas/SYMB_Industry.csv\")\n",
    "industry"
   ]
  },
  {
   "cell_type": "code",
   "execution_count": 33,
   "metadata": {},
   "outputs": [
    {
     "data": {
      "text/html": [
       "<div>\n",
       "<style scoped>\n",
       "    .dataframe tbody tr th:only-of-type {\n",
       "        vertical-align: middle;\n",
       "    }\n",
       "\n",
       "    .dataframe tbody tr th {\n",
       "        vertical-align: top;\n",
       "    }\n",
       "\n",
       "    .dataframe thead th {\n",
       "        text-align: right;\n",
       "    }\n",
       "</style>\n",
       "<table border=\"1\" class=\"dataframe\">\n",
       "  <thead>\n",
       "    <tr style=\"text-align: right;\">\n",
       "      <th></th>\n",
       "      <th>Change</th>\n",
       "      <th>Symbol</th>\n",
       "      <th>Industry</th>\n",
       "      <th>Change_idx</th>\n",
       "      <th>ABS_idx</th>\n",
       "      <th>Avg_change</th>\n",
       "      <th>Start_date</th>\n",
       "      <th>War_genre</th>\n",
       "      <th>War_name</th>\n",
       "      <th>War_volume</th>\n",
       "      <th>Count_country</th>\n",
       "    </tr>\n",
       "  </thead>\n",
       "  <tbody>\n",
       "    <tr>\n",
       "      <th>0</th>\n",
       "      <td>-0.0323</td>\n",
       "      <td>AAPL</td>\n",
       "      <td>컴퓨터, 전화 및 가전제품</td>\n",
       "      <td>269.0</td>\n",
       "      <td>269.0</td>\n",
       "      <td>-0.012</td>\n",
       "      <td>2001-09-11</td>\n",
       "      <td>테러</td>\n",
       "      <td>테러와의전쟁</td>\n",
       "      <td>1000000</td>\n",
       "      <td>48</td>\n",
       "    </tr>\n",
       "    <tr>\n",
       "      <th>1</th>\n",
       "      <td>0.0263</td>\n",
       "      <td>AAPL</td>\n",
       "      <td>컴퓨터, 전화 및 가전제품</td>\n",
       "      <td>-175.0</td>\n",
       "      <td>175.0</td>\n",
       "      <td>-0.015</td>\n",
       "      <td>2002-01-15</td>\n",
       "      <td>테러</td>\n",
       "      <td>영원한자유작전-필리핀</td>\n",
       "      <td>115800</td>\n",
       "      <td>2</td>\n",
       "    </tr>\n",
       "    <tr>\n",
       "      <th>2</th>\n",
       "      <td>0.0000</td>\n",
       "      <td>AAPL</td>\n",
       "      <td>컴퓨터, 전화 및 가전제품</td>\n",
       "      <td>0.0</td>\n",
       "      <td>0.0</td>\n",
       "      <td>-0.007</td>\n",
       "      <td>2002-10-07</td>\n",
       "      <td>테러</td>\n",
       "      <td>영원한자유작전-아프리카의뿔</td>\n",
       "      <td>500000</td>\n",
       "      <td>38</td>\n",
       "    </tr>\n",
       "    <tr>\n",
       "      <th>3</th>\n",
       "      <td>0.0000</td>\n",
       "      <td>AAPL</td>\n",
       "      <td>컴퓨터, 전화 및 가전제품</td>\n",
       "      <td>0.0</td>\n",
       "      <td>0.0</td>\n",
       "      <td>0.016</td>\n",
       "      <td>2003-03-20</td>\n",
       "      <td>테러</td>\n",
       "      <td>이라크전쟁</td>\n",
       "      <td>1000000</td>\n",
       "      <td>41</td>\n",
       "    </tr>\n",
       "    <tr>\n",
       "      <th>4</th>\n",
       "      <td>0.0000</td>\n",
       "      <td>AAPL</td>\n",
       "      <td>컴퓨터, 전화 및 가전제품</td>\n",
       "      <td>0.0</td>\n",
       "      <td>0.0</td>\n",
       "      <td>0.009</td>\n",
       "      <td>2004-04-01</td>\n",
       "      <td>민족</td>\n",
       "      <td>이란-PJAK충돌</td>\n",
       "      <td>17000</td>\n",
       "      <td>3</td>\n",
       "    </tr>\n",
       "    <tr>\n",
       "      <th>...</th>\n",
       "      <td>...</td>\n",
       "      <td>...</td>\n",
       "      <td>...</td>\n",
       "      <td>...</td>\n",
       "      <td>...</td>\n",
       "      <td>...</td>\n",
       "      <td>...</td>\n",
       "      <td>...</td>\n",
       "      <td>...</td>\n",
       "      <td>...</td>\n",
       "      <td>...</td>\n",
       "    </tr>\n",
       "    <tr>\n",
       "      <th>1013</th>\n",
       "      <td>0.0012</td>\n",
       "      <td>GOOG</td>\n",
       "      <td>소프트웨어 및 IT서비스</td>\n",
       "      <td>30.0</td>\n",
       "      <td>30.0</td>\n",
       "      <td>0.004</td>\n",
       "      <td>2014-05-16</td>\n",
       "      <td>내란</td>\n",
       "      <td>리비아 내전</td>\n",
       "      <td>400000</td>\n",
       "      <td>19</td>\n",
       "    </tr>\n",
       "    <tr>\n",
       "      <th>1014</th>\n",
       "      <td>0.0007</td>\n",
       "      <td>GOOG</td>\n",
       "      <td>소프트웨어 및 IT서비스</td>\n",
       "      <td>-70.0</td>\n",
       "      <td>70.0</td>\n",
       "      <td>-0.001</td>\n",
       "      <td>2014-06-13</td>\n",
       "      <td>테러</td>\n",
       "      <td>ISIL에대한국제군사개입</td>\n",
       "      <td>472260</td>\n",
       "      <td>41</td>\n",
       "    </tr>\n",
       "    <tr>\n",
       "      <th>1015</th>\n",
       "      <td>0.0120</td>\n",
       "      <td>GOOG</td>\n",
       "      <td>소프트웨어 및 IT서비스</td>\n",
       "      <td>-200.0</td>\n",
       "      <td>200.0</td>\n",
       "      <td>-0.006</td>\n",
       "      <td>2014-09-16</td>\n",
       "      <td>내란</td>\n",
       "      <td>예멘내전</td>\n",
       "      <td>156000</td>\n",
       "      <td>19</td>\n",
       "    </tr>\n",
       "    <tr>\n",
       "      <th>1016</th>\n",
       "      <td>-0.0426</td>\n",
       "      <td>BABA</td>\n",
       "      <td>소프트웨어 및 IT서비스</td>\n",
       "      <td>1065.0</td>\n",
       "      <td>1065.0</td>\n",
       "      <td>-0.004</td>\n",
       "      <td>2014-09-16</td>\n",
       "      <td>내란</td>\n",
       "      <td>예멘내전</td>\n",
       "      <td>156000</td>\n",
       "      <td>19</td>\n",
       "    </tr>\n",
       "    <tr>\n",
       "      <th>1017</th>\n",
       "      <td>-0.0025</td>\n",
       "      <td>PYPL</td>\n",
       "      <td>소프트웨어 및 IT서비스</td>\n",
       "      <td>62.0</td>\n",
       "      <td>62.0</td>\n",
       "      <td>-0.004</td>\n",
       "      <td>2014-09-16</td>\n",
       "      <td>내란</td>\n",
       "      <td>예멘내전</td>\n",
       "      <td>156000</td>\n",
       "      <td>19</td>\n",
       "    </tr>\n",
       "  </tbody>\n",
       "</table>\n",
       "<p>1018 rows × 11 columns</p>\n",
       "</div>"
      ],
      "text/plain": [
       "      Change Symbol        Industry  Change_idx  ABS_idx  Avg_change  \\\n",
       "0    -0.0323   AAPL  컴퓨터, 전화 및 가전제품       269.0    269.0      -0.012   \n",
       "1     0.0263   AAPL  컴퓨터, 전화 및 가전제품      -175.0    175.0      -0.015   \n",
       "2     0.0000   AAPL  컴퓨터, 전화 및 가전제품         0.0      0.0      -0.007   \n",
       "3     0.0000   AAPL  컴퓨터, 전화 및 가전제품         0.0      0.0       0.016   \n",
       "4     0.0000   AAPL  컴퓨터, 전화 및 가전제품         0.0      0.0       0.009   \n",
       "...      ...    ...             ...         ...      ...         ...   \n",
       "1013  0.0012   GOOG   소프트웨어 및 IT서비스        30.0     30.0       0.004   \n",
       "1014  0.0007   GOOG   소프트웨어 및 IT서비스       -70.0     70.0      -0.001   \n",
       "1015  0.0120   GOOG   소프트웨어 및 IT서비스      -200.0    200.0      -0.006   \n",
       "1016 -0.0426   BABA   소프트웨어 및 IT서비스      1065.0   1065.0      -0.004   \n",
       "1017 -0.0025   PYPL   소프트웨어 및 IT서비스        62.0     62.0      -0.004   \n",
       "\n",
       "     Start_date War_genre        War_name  War_volume  Count_country  \n",
       "0    2001-09-11        테러          테러와의전쟁     1000000             48  \n",
       "1    2002-01-15        테러     영원한자유작전-필리핀      115800              2  \n",
       "2    2002-10-07        테러  영원한자유작전-아프리카의뿔      500000             38  \n",
       "3    2003-03-20        테러           이라크전쟁     1000000             41  \n",
       "4    2004-04-01        민족       이란-PJAK충돌       17000              3  \n",
       "...         ...       ...             ...         ...            ...  \n",
       "1013 2014-05-16        내란          리비아 내전      400000             19  \n",
       "1014 2014-06-13        테러   ISIL에대한국제군사개입      472260             41  \n",
       "1015 2014-09-16        내란            예멘내전      156000             19  \n",
       "1016 2014-09-16        내란            예멘내전      156000             19  \n",
       "1017 2014-09-16        내란            예멘내전      156000             19  \n",
       "\n",
       "[1018 rows x 11 columns]"
      ]
     },
     "execution_count": 33,
     "metadata": {},
     "output_type": "execute_result"
    }
   ],
   "source": [
    "df_final = pd.read_excel(\"./datas/final_X.xls\",'final_X')\n",
    "df_final = df_final.drop([\"Unnamed: 0\"], axis=1)\n",
    "df_final"
   ]
  },
  {
   "cell_type": "code",
   "execution_count": null,
   "metadata": {},
   "outputs": [],
   "source": [
    "#### (그래프)전쟁별 참전국수"
   ]
  },
  {
   "cell_type": "code",
   "execution_count": 32,
   "metadata": {},
   "outputs": [
    {
     "data": {
      "image/png": "[encoded data removed]",
      "text/plain": [
       "<Figure size 1440x360 with 1 Axes>"
      ]
     },
     "metadata": {
      "needs_background": "light"
     },
     "output_type": "display_data"
    }
   ],
   "source": [
    "plt.figure(figsize=(20,5))\n",
    "X = ls_war_X2[\"War_id\"]\n",
    "y_1 = ls_war_X2[\"Count_country\"]\n",
    "plt.plot(X, y_1)\n",
    "plt.show()"
   ]
  },
  {
   "cell_type": "code",
   "execution_count": 34,
   "metadata": {},
   "outputs": [],
   "source": [
    "#### (그래프)전쟁별 전쟁규모"
   ]
  },
  {
   "cell_type": "code",
   "execution_count": 35,
   "metadata": {},
   "outputs": [
    {
     "data": {
      "image/png": "[encoded data removed]",
      "text/plain": [
       "<Figure size 1440x360 with 1 Axes>"
      ]
     },
     "metadata": {
      "needs_background": "light"
     },
     "output_type": "display_data"
    }
   ],
   "source": [
    "plt.figure(figsize=(20,5))\n",
    "X = ls_war_X2[\"War_id\"]\n",
    "y_2 = ls_war_X2[\"War_volume\"]\n",
    "plt.plot(X, y_2)\n",
    "plt.show()"
   ]
  },
  {
   "cell_type": "code",
   "execution_count": 36,
   "metadata": {},
   "outputs": [],
   "source": [
    "### (1)-1 전쟁종류(민족간전쟁/해적/마약/테러)별 전쟁수 count"
   ]
  },
  {
   "cell_type": "code",
   "execution_count": 42,
   "metadata": {},
   "outputs": [
    {
     "data": {
      "text/html": [
       "<div>\n",
       "<style scoped>\n",
       "    .dataframe tbody tr th:only-of-type {\n",
       "        vertical-align: middle;\n",
       "    }\n",
       "\n",
       "    .dataframe tbody tr th {\n",
       "        vertical-align: top;\n",
       "    }\n",
       "\n",
       "    .dataframe thead th {\n",
       "        text-align: right;\n",
       "    }\n",
       "</style>\n",
       "<table border=\"1\" class=\"dataframe\">\n",
       "  <thead>\n",
       "    <tr style=\"text-align: right;\">\n",
       "      <th></th>\n",
       "      <th>발발시점</th>\n",
       "      <th>갈등이름</th>\n",
       "      <th>갈등종류</th>\n",
       "      <th>전쟁규모</th>\n",
       "      <th>참전국수</th>\n",
       "      <th>Count</th>\n",
       "      <th>War_volume</th>\n",
       "    </tr>\n",
       "  </thead>\n",
       "  <tbody>\n",
       "    <tr>\n",
       "      <th>0</th>\n",
       "      <td>2001-09-11</td>\n",
       "      <td>테러와의전쟁</td>\n",
       "      <td>테러</td>\n",
       "      <td>1000000</td>\n",
       "      <td>48</td>\n",
       "      <td>1</td>\n",
       "      <td>48</td>\n",
       "    </tr>\n",
       "    <tr>\n",
       "      <th>1</th>\n",
       "      <td>2002-01-15</td>\n",
       "      <td>영원한자유작전-필리핀</td>\n",
       "      <td>테러</td>\n",
       "      <td>115800</td>\n",
       "      <td>2</td>\n",
       "      <td>1</td>\n",
       "      <td>2</td>\n",
       "    </tr>\n",
       "    <tr>\n",
       "      <th>2</th>\n",
       "      <td>2002-10-07</td>\n",
       "      <td>영원한자유작전-아프리카의뿔</td>\n",
       "      <td>테러</td>\n",
       "      <td>500000</td>\n",
       "      <td>38</td>\n",
       "      <td>1</td>\n",
       "      <td>38</td>\n",
       "    </tr>\n",
       "    <tr>\n",
       "      <th>3</th>\n",
       "      <td>2003-03-20</td>\n",
       "      <td>이라크전쟁</td>\n",
       "      <td>테러</td>\n",
       "      <td>1000000</td>\n",
       "      <td>41</td>\n",
       "      <td>1</td>\n",
       "      <td>41</td>\n",
       "    </tr>\n",
       "    <tr>\n",
       "      <th>4</th>\n",
       "      <td>2004-04-01</td>\n",
       "      <td>이란-PJAK충돌</td>\n",
       "      <td>민족</td>\n",
       "      <td>17000</td>\n",
       "      <td>3</td>\n",
       "      <td>1</td>\n",
       "      <td>3</td>\n",
       "    </tr>\n",
       "  </tbody>\n",
       "</table>\n",
       "</div>"
      ],
      "text/plain": [
       "        발발시점            갈등이름 갈등종류     전쟁규모  참전국수  Count  War_volume\n",
       "0 2001-09-11          테러와의전쟁   테러  1000000    48      1          48\n",
       "1 2002-01-15     영원한자유작전-필리핀   테러   115800     2      1           2\n",
       "2 2002-10-07  영원한자유작전-아프리카의뿔   테러   500000    38      1          38\n",
       "3 2003-03-20           이라크전쟁   테러  1000000    41      1          41\n",
       "4 2004-04-01       이란-PJAK충돌   민족    17000     3      1           3"
      ]
     },
     "execution_count": 42,
     "metadata": {},
     "output_type": "execute_result"
    }
   ],
   "source": [
    "ls_war_X2 = pd.read_excel(\"datas/ls_war.xls\", \"sheet\")\n",
    "ls_war_X2 = ls_war_X2.drop([\"Unnamed: 0\",\"전쟁수\"], axis=1)\n",
    "ls_war_X2[\"Count\"] = 1\n",
    "ls_war_X2[\"War_volume\"] = ls_war[\"참전국수\"]\n",
    "ls_war_X2.head()"
   ]
  },
  {
   "cell_type": "code",
   "execution_count": 43,
   "metadata": {},
   "outputs": [
    {
     "data": {
      "text/html": [
       "<div>\n",
       "<style scoped>\n",
       "    .dataframe tbody tr th:only-of-type {\n",
       "        vertical-align: middle;\n",
       "    }\n",
       "\n",
       "    .dataframe tbody tr th {\n",
       "        vertical-align: top;\n",
       "    }\n",
       "\n",
       "    .dataframe thead th {\n",
       "        text-align: right;\n",
       "    }\n",
       "</style>\n",
       "<table border=\"1\" class=\"dataframe\">\n",
       "  <thead>\n",
       "    <tr style=\"text-align: right;\">\n",
       "      <th></th>\n",
       "      <th>Count</th>\n",
       "      <th>War_genre</th>\n",
       "    </tr>\n",
       "    <tr>\n",
       "      <th>갈등종류</th>\n",
       "      <th></th>\n",
       "      <th></th>\n",
       "    </tr>\n",
       "  </thead>\n",
       "  <tbody>\n",
       "    <tr>\n",
       "      <th>내란</th>\n",
       "      <td>12</td>\n",
       "      <td>내란</td>\n",
       "    </tr>\n",
       "    <tr>\n",
       "      <th>마약</th>\n",
       "      <td>2</td>\n",
       "      <td>마약</td>\n",
       "    </tr>\n",
       "    <tr>\n",
       "      <th>민족</th>\n",
       "      <td>2</td>\n",
       "      <td>민족</td>\n",
       "    </tr>\n",
       "    <tr>\n",
       "      <th>테러</th>\n",
       "      <td>10</td>\n",
       "      <td>테러</td>\n",
       "    </tr>\n",
       "    <tr>\n",
       "      <th>해적</th>\n",
       "      <td>2</td>\n",
       "      <td>해적</td>\n",
       "    </tr>\n",
       "  </tbody>\n",
       "</table>\n",
       "</div>"
      ],
      "text/plain": [
       "      Count War_genre\n",
       "갈등종류                 \n",
       "내란       12        내란\n",
       "마약        2        마약\n",
       "민족        2        민족\n",
       "테러       10        테러\n",
       "해적        2        해적"
      ]
     },
     "execution_count": 43,
     "metadata": {},
     "output_type": "execute_result"
    }
   ],
   "source": [
    "war_genre = ls_war_X2.pivot_table(\"Count\",\"갈등종류\", aggfunc=np.sum, fill_value=0)\n",
    "war_genre[\"War_genre\"]= war_genre.index\n",
    "war_genre"
   ]
  },
  {
   "cell_type": "code",
   "execution_count": 44,
   "metadata": {},
   "outputs": [],
   "source": [
    "#### (그래프) 2000년이후 갈등종류별 전쟁수"
   ]
  },
  {
   "cell_type": "code",
   "execution_count": 45,
   "metadata": {},
   "outputs": [
    {
     "data": {
      "image/png": "[encoded data removed]",
      "text/plain": [
       "<Figure size 1440x360 with 1 Axes>"
      ]
     },
     "metadata": {
      "needs_background": "light"
     },
     "output_type": "display_data"
    }
   ],
   "source": [
    "plt.figure(figsize=(20,5))\n",
    "X = war_genre[\"War_genre\"]\n",
    "y = war_genre[\"Count\"]\n",
    "plt.bar(X, y, width=0.4)\n",
    "plt.show()"
   ]
  },
  {
   "cell_type": "code",
   "execution_count": 46,
   "metadata": {},
   "outputs": [],
   "source": [
    "### (1)-2 전쟁참전국수별 (0~20, 21~40, 41개국이상) 전쟁수 count"
   ]
  },
  {
   "cell_type": "code",
   "execution_count": 48,
   "metadata": {},
   "outputs": [
    {
     "data": {
      "text/html": [
       "<div>\n",
       "<style scoped>\n",
       "    .dataframe tbody tr th:only-of-type {\n",
       "        vertical-align: middle;\n",
       "    }\n",
       "\n",
       "    .dataframe tbody tr th {\n",
       "        vertical-align: top;\n",
       "    }\n",
       "\n",
       "    .dataframe thead th {\n",
       "        text-align: right;\n",
       "    }\n",
       "</style>\n",
       "<table border=\"1\" class=\"dataframe\">\n",
       "  <thead>\n",
       "    <tr style=\"text-align: right;\">\n",
       "      <th></th>\n",
       "      <th>발발시점</th>\n",
       "      <th>갈등이름</th>\n",
       "      <th>갈등종류</th>\n",
       "      <th>전쟁규모</th>\n",
       "      <th>참전국수</th>\n",
       "      <th>Count</th>\n",
       "      <th>War_volume</th>\n",
       "    </tr>\n",
       "  </thead>\n",
       "  <tbody>\n",
       "    <tr>\n",
       "      <th>1</th>\n",
       "      <td>2002-01-15</td>\n",
       "      <td>영원한자유작전-필리핀</td>\n",
       "      <td>테러</td>\n",
       "      <td>115800</td>\n",
       "      <td>2</td>\n",
       "      <td>1</td>\n",
       "      <td>2</td>\n",
       "    </tr>\n",
       "    <tr>\n",
       "      <th>4</th>\n",
       "      <td>2004-04-01</td>\n",
       "      <td>이란-PJAK충돌</td>\n",
       "      <td>민족</td>\n",
       "      <td>17000</td>\n",
       "      <td>3</td>\n",
       "      <td>1</td>\n",
       "      <td>3</td>\n",
       "    </tr>\n",
       "    <tr>\n",
       "      <th>5</th>\n",
       "      <td>2004-04-18</td>\n",
       "      <td>예멘의 Houthi 반란</td>\n",
       "      <td>내란</td>\n",
       "      <td>32000</td>\n",
       "      <td>7</td>\n",
       "      <td>1</td>\n",
       "      <td>7</td>\n",
       "    </tr>\n",
       "    <tr>\n",
       "      <th>6</th>\n",
       "      <td>2005-08-27</td>\n",
       "      <td>파라과이인민군반란</td>\n",
       "      <td>내란</td>\n",
       "      <td>3650</td>\n",
       "      <td>3</td>\n",
       "      <td>1</td>\n",
       "      <td>3</td>\n",
       "    </tr>\n",
       "    <tr>\n",
       "      <th>7</th>\n",
       "      <td>2006-01-25</td>\n",
       "      <td>파타-하마스 분쟁</td>\n",
       "      <td>테러</td>\n",
       "      <td>55000</td>\n",
       "      <td>3</td>\n",
       "      <td>1</td>\n",
       "      <td>3</td>\n",
       "    </tr>\n",
       "    <tr>\n",
       "      <th>8</th>\n",
       "      <td>2006-06-12</td>\n",
       "      <td>2006년레바논전쟁</td>\n",
       "      <td>테러</td>\n",
       "      <td>10500</td>\n",
       "      <td>2</td>\n",
       "      <td>1</td>\n",
       "      <td>2</td>\n",
       "    </tr>\n",
       "    <tr>\n",
       "      <th>9</th>\n",
       "      <td>2006-02-22</td>\n",
       "      <td>이라크내전</td>\n",
       "      <td>내란</td>\n",
       "      <td>748000</td>\n",
       "      <td>5</td>\n",
       "      <td>1</td>\n",
       "      <td>5</td>\n",
       "    </tr>\n",
       "    <tr>\n",
       "      <th>10</th>\n",
       "      <td>2006-12-11</td>\n",
       "      <td>멕시코마약전쟁</td>\n",
       "      <td>마약</td>\n",
       "      <td>360000</td>\n",
       "      <td>4</td>\n",
       "      <td>1</td>\n",
       "      <td>4</td>\n",
       "    </tr>\n",
       "    <tr>\n",
       "      <th>11</th>\n",
       "      <td>2006-12-30</td>\n",
       "      <td>소말리아전쟁</td>\n",
       "      <td>해적</td>\n",
       "      <td>35250</td>\n",
       "      <td>8</td>\n",
       "      <td>1</td>\n",
       "      <td>8</td>\n",
       "    </tr>\n",
       "    <tr>\n",
       "      <th>13</th>\n",
       "      <td>2008-03-25</td>\n",
       "      <td>2008 안주안침공</td>\n",
       "      <td>내란</td>\n",
       "      <td>2500</td>\n",
       "      <td>7</td>\n",
       "      <td>1</td>\n",
       "      <td>7</td>\n",
       "    </tr>\n",
       "    <tr>\n",
       "      <th>16</th>\n",
       "      <td>2010-05-23</td>\n",
       "      <td>킹스톤불안</td>\n",
       "      <td>마약</td>\n",
       "      <td>1500</td>\n",
       "      <td>2</td>\n",
       "      <td>1</td>\n",
       "      <td>2</td>\n",
       "    </tr>\n",
       "    <tr>\n",
       "      <th>25</th>\n",
       "      <td>2017-05-23</td>\n",
       "      <td>마라위위기</td>\n",
       "      <td>테러</td>\n",
       "      <td>7500</td>\n",
       "      <td>5</td>\n",
       "      <td>1</td>\n",
       "      <td>5</td>\n",
       "    </tr>\n",
       "  </tbody>\n",
       "</table>\n",
       "</div>"
      ],
      "text/plain": [
       "         발발시점           갈등이름 갈등종류    전쟁규모  참전국수  Count  War_volume\n",
       "1  2002-01-15    영원한자유작전-필리핀   테러  115800     2      1           2\n",
       "4  2004-04-01      이란-PJAK충돌   민족   17000     3      1           3\n",
       "5  2004-04-18  예멘의 Houthi 반란   내란   32000     7      1           7\n",
       "6  2005-08-27      파라과이인민군반란   내란    3650     3      1           3\n",
       "7  2006-01-25      파타-하마스 분쟁   테러   55000     3      1           3\n",
       "8  2006-06-12     2006년레바논전쟁   테러   10500     2      1           2\n",
       "9  2006-02-22          이라크내전   내란  748000     5      1           5\n",
       "10 2006-12-11        멕시코마약전쟁   마약  360000     4      1           4\n",
       "11 2006-12-30         소말리아전쟁   해적   35250     8      1           8\n",
       "13 2008-03-25     2008 안주안침공   내란    2500     7      1           7\n",
       "16 2010-05-23          킹스톤불안   마약    1500     2      1           2\n",
       "25 2017-05-23          마라위위기   테러    7500     5      1           5"
      ]
     },
     "execution_count": 48,
     "metadata": {},
     "output_type": "execute_result"
    }
   ],
   "source": [
    " # 10개국 미만 참전 \"소규모\"\n",
    "a= ls_war_X2[ls_war_X2[\"참전국수\"]<=10]\n",
    "a"
   ]
  },
  {
   "cell_type": "code",
   "execution_count": 50,
   "metadata": {},
   "outputs": [
    {
     "data": {
      "text/html": [
       "<div>\n",
       "<style scoped>\n",
       "    .dataframe tbody tr th:only-of-type {\n",
       "        vertical-align: middle;\n",
       "    }\n",
       "\n",
       "    .dataframe tbody tr th {\n",
       "        vertical-align: top;\n",
       "    }\n",
       "\n",
       "    .dataframe thead th {\n",
       "        text-align: right;\n",
       "    }\n",
       "</style>\n",
       "<table border=\"1\" class=\"dataframe\">\n",
       "  <thead>\n",
       "    <tr style=\"text-align: right;\">\n",
       "      <th></th>\n",
       "      <th>발발시점</th>\n",
       "      <th>갈등이름</th>\n",
       "      <th>갈등종류</th>\n",
       "      <th>전쟁규모</th>\n",
       "      <th>참전국수</th>\n",
       "      <th>Count</th>\n",
       "      <th>War_Scale</th>\n",
       "    </tr>\n",
       "  </thead>\n",
       "  <tbody>\n",
       "    <tr>\n",
       "      <th>12</th>\n",
       "      <td>2007-02-06</td>\n",
       "      <td>영원한자유작전-트랜스사하라</td>\n",
       "      <td>테러</td>\n",
       "      <td>5325</td>\n",
       "      <td>17</td>\n",
       "      <td>1</td>\n",
       "      <td>17</td>\n",
       "    </tr>\n",
       "    <tr>\n",
       "      <th>14</th>\n",
       "      <td>2009-07-26</td>\n",
       "      <td>보코하람반란</td>\n",
       "      <td>내란</td>\n",
       "      <td>10000</td>\n",
       "      <td>19</td>\n",
       "      <td>1</td>\n",
       "      <td>19</td>\n",
       "    </tr>\n",
       "    <tr>\n",
       "      <th>15</th>\n",
       "      <td>2009-01-31</td>\n",
       "      <td>소말리아내전</td>\n",
       "      <td>해적</td>\n",
       "      <td>41600</td>\n",
       "      <td>11</td>\n",
       "      <td>1</td>\n",
       "      <td>11</td>\n",
       "    </tr>\n",
       "    <tr>\n",
       "      <th>18</th>\n",
       "      <td>2011-03-15</td>\n",
       "      <td>시리아내전</td>\n",
       "      <td>내란</td>\n",
       "      <td>144600</td>\n",
       "      <td>13</td>\n",
       "      <td>1</td>\n",
       "      <td>13</td>\n",
       "    </tr>\n",
       "    <tr>\n",
       "      <th>19</th>\n",
       "      <td>2011-06-17</td>\n",
       "      <td>레바논에서의시리아내전파급</td>\n",
       "      <td>내란</td>\n",
       "      <td>13500</td>\n",
       "      <td>19</td>\n",
       "      <td>1</td>\n",
       "      <td>19</td>\n",
       "    </tr>\n",
       "    <tr>\n",
       "      <th>22</th>\n",
       "      <td>2014-05-16</td>\n",
       "      <td>리비아 내전</td>\n",
       "      <td>내란</td>\n",
       "      <td>400000</td>\n",
       "      <td>19</td>\n",
       "      <td>1</td>\n",
       "      <td>19</td>\n",
       "    </tr>\n",
       "    <tr>\n",
       "      <th>24</th>\n",
       "      <td>2014-09-16</td>\n",
       "      <td>예멘내전</td>\n",
       "      <td>내란</td>\n",
       "      <td>156000</td>\n",
       "      <td>19</td>\n",
       "      <td>1</td>\n",
       "      <td>19</td>\n",
       "    </tr>\n",
       "    <tr>\n",
       "      <th>26</th>\n",
       "      <td>2017-12-09</td>\n",
       "      <td>이라크반란</td>\n",
       "      <td>내란</td>\n",
       "      <td>188900</td>\n",
       "      <td>13</td>\n",
       "      <td>1</td>\n",
       "      <td>13</td>\n",
       "    </tr>\n",
       "    <tr>\n",
       "      <th>27</th>\n",
       "      <td>2019-05-05</td>\n",
       "      <td>2019-20 페르시아만위기</td>\n",
       "      <td>민족</td>\n",
       "      <td>10000</td>\n",
       "      <td>13</td>\n",
       "      <td>1</td>\n",
       "      <td>13</td>\n",
       "    </tr>\n",
       "  </tbody>\n",
       "</table>\n",
       "</div>"
      ],
      "text/plain": [
       "         발발시점             갈등이름 갈등종류    전쟁규모  참전국수  Count  War_Scale\n",
       "12 2007-02-06   영원한자유작전-트랜스사하라   테러    5325    17      1         17\n",
       "14 2009-07-26           보코하람반란   내란   10000    19      1         19\n",
       "15 2009-01-31           소말리아내전   해적   41600    11      1         11\n",
       "18 2011-03-15            시리아내전   내란  144600    13      1         13\n",
       "19 2011-06-17    레바논에서의시리아내전파급   내란   13500    19      1         19\n",
       "22 2014-05-16           리비아 내전   내란  400000    19      1         19\n",
       "24 2014-09-16             예멘내전   내란  156000    19      1         19\n",
       "26 2017-12-09            이라크반란   내란  188900    13      1         13\n",
       "27 2019-05-05  2019-20 페르시아만위기   민족   10000    13      1         13"
      ]
     },
     "execution_count": 50,
     "metadata": {},
     "output_type": "execute_result"
    }
   ],
   "source": [
    "# 11~20개국 참전 \"중간규모\"\n",
    "b= ls_war[(ls_war_X2[\"참전국수\"] > 10)&(ls_war_X2[\"참전국수\"] <= 20)] \n",
    "b"
   ]
  },
  {
   "cell_type": "code",
   "execution_count": 51,
   "metadata": {},
   "outputs": [
    {
     "data": {
      "text/html": [
       "<div>\n",
       "<style scoped>\n",
       "    .dataframe tbody tr th:only-of-type {\n",
       "        vertical-align: middle;\n",
       "    }\n",
       "\n",
       "    .dataframe tbody tr th {\n",
       "        vertical-align: top;\n",
       "    }\n",
       "\n",
       "    .dataframe thead th {\n",
       "        text-align: right;\n",
       "    }\n",
       "</style>\n",
       "<table border=\"1\" class=\"dataframe\">\n",
       "  <thead>\n",
       "    <tr style=\"text-align: right;\">\n",
       "      <th></th>\n",
       "      <th>발발시점</th>\n",
       "      <th>갈등이름</th>\n",
       "      <th>갈등종류</th>\n",
       "      <th>전쟁규모</th>\n",
       "      <th>참전국수</th>\n",
       "      <th>Count</th>\n",
       "      <th>War_Scale</th>\n",
       "    </tr>\n",
       "  </thead>\n",
       "  <tbody>\n",
       "    <tr>\n",
       "      <th>0</th>\n",
       "      <td>2001-09-11</td>\n",
       "      <td>테러와의전쟁</td>\n",
       "      <td>테러</td>\n",
       "      <td>1000000</td>\n",
       "      <td>48</td>\n",
       "      <td>1</td>\n",
       "      <td>48</td>\n",
       "    </tr>\n",
       "    <tr>\n",
       "      <th>2</th>\n",
       "      <td>2002-10-07</td>\n",
       "      <td>영원한자유작전-아프리카의뿔</td>\n",
       "      <td>테러</td>\n",
       "      <td>500000</td>\n",
       "      <td>38</td>\n",
       "      <td>1</td>\n",
       "      <td>38</td>\n",
       "    </tr>\n",
       "    <tr>\n",
       "      <th>3</th>\n",
       "      <td>2003-03-20</td>\n",
       "      <td>이라크전쟁</td>\n",
       "      <td>테러</td>\n",
       "      <td>1000000</td>\n",
       "      <td>41</td>\n",
       "      <td>1</td>\n",
       "      <td>41</td>\n",
       "    </tr>\n",
       "    <tr>\n",
       "      <th>17</th>\n",
       "      <td>2011-02-15</td>\n",
       "      <td>리비아내전</td>\n",
       "      <td>내란</td>\n",
       "      <td>37000</td>\n",
       "      <td>21</td>\n",
       "      <td>1</td>\n",
       "      <td>21</td>\n",
       "    </tr>\n",
       "    <tr>\n",
       "      <th>20</th>\n",
       "      <td>2012-01-16</td>\n",
       "      <td>북부말리전쟁</td>\n",
       "      <td>테러</td>\n",
       "      <td>24764</td>\n",
       "      <td>57</td>\n",
       "      <td>1</td>\n",
       "      <td>57</td>\n",
       "    </tr>\n",
       "    <tr>\n",
       "      <th>21</th>\n",
       "      <td>2013-12-30</td>\n",
       "      <td>이라크 내전</td>\n",
       "      <td>내란</td>\n",
       "      <td>770000</td>\n",
       "      <td>22</td>\n",
       "      <td>1</td>\n",
       "      <td>22</td>\n",
       "    </tr>\n",
       "    <tr>\n",
       "      <th>23</th>\n",
       "      <td>2014-06-13</td>\n",
       "      <td>ISIL에대한국제군사개입</td>\n",
       "      <td>테러</td>\n",
       "      <td>472260</td>\n",
       "      <td>41</td>\n",
       "      <td>1</td>\n",
       "      <td>41</td>\n",
       "    </tr>\n",
       "  </tbody>\n",
       "</table>\n",
       "</div>"
      ],
      "text/plain": [
       "         발발시점            갈등이름 갈등종류     전쟁규모  참전국수  Count  War_Scale\n",
       "0  2001-09-11          테러와의전쟁   테러  1000000    48      1         48\n",
       "2  2002-10-07  영원한자유작전-아프리카의뿔   테러   500000    38      1         38\n",
       "3  2003-03-20           이라크전쟁   테러  1000000    41      1         41\n",
       "17 2011-02-15           리비아내전   내란    37000    21      1         21\n",
       "20 2012-01-16          북부말리전쟁   테러    24764    57      1         57\n",
       "21 2013-12-30          이라크 내전   내란   770000    22      1         22\n",
       "23 2014-06-13   ISIL에대한국제군사개입   테러   472260    41      1         41"
      ]
     },
     "execution_count": 51,
     "metadata": {},
     "output_type": "execute_result"
    }
   ],
   "source": [
    " # 20개국 초과 참전 \"대규모\"\n",
    "c= ls_war[(ls_war[\"참전국수\"] > 20)]\n",
    "c"
   ]
  },
  {
   "cell_type": "code",
   "execution_count": 52,
   "metadata": {},
   "outputs": [],
   "source": [
    "#### (그래프) 2000년이후 전쟁의 참전국 규모에 따른 전쟁수(소,중,대)"
   ]
  },
  {
   "cell_type": "code",
   "execution_count": null,
   "metadata": {},
   "outputs": [],
   "source": []
  },
  {
   "cell_type": "code",
   "execution_count": null,
   "metadata": {},
   "outputs": [],
   "source": [
    "### (1)-3 전쟁규모별 (병력수 1k이하, 10k미만, 10k이상) 전쟁수 count"
   ]
  },
  {
   "cell_type": "code",
   "execution_count": 54,
   "metadata": {},
   "outputs": [
    {
     "data": {
      "text/html": [
       "<div>\n",
       "<style scoped>\n",
       "    .dataframe tbody tr th:only-of-type {\n",
       "        vertical-align: middle;\n",
       "    }\n",
       "\n",
       "    .dataframe tbody tr th {\n",
       "        vertical-align: top;\n",
       "    }\n",
       "\n",
       "    .dataframe thead th {\n",
       "        text-align: right;\n",
       "    }\n",
       "</style>\n",
       "<table border=\"1\" class=\"dataframe\">\n",
       "  <thead>\n",
       "    <tr style=\"text-align: right;\">\n",
       "      <th></th>\n",
       "      <th>발발시점</th>\n",
       "      <th>갈등이름</th>\n",
       "      <th>갈등종류</th>\n",
       "      <th>전쟁규모</th>\n",
       "      <th>참전국수</th>\n",
       "      <th>Count</th>\n",
       "      <th>War_Scale</th>\n",
       "    </tr>\n",
       "  </thead>\n",
       "  <tbody>\n",
       "    <tr>\n",
       "      <th>4</th>\n",
       "      <td>2004-04-01</td>\n",
       "      <td>이란-PJAK충돌</td>\n",
       "      <td>민족</td>\n",
       "      <td>17000</td>\n",
       "      <td>3</td>\n",
       "      <td>1</td>\n",
       "      <td>3</td>\n",
       "    </tr>\n",
       "    <tr>\n",
       "      <th>6</th>\n",
       "      <td>2005-08-27</td>\n",
       "      <td>파라과이인민군반란</td>\n",
       "      <td>내란</td>\n",
       "      <td>3650</td>\n",
       "      <td>3</td>\n",
       "      <td>1</td>\n",
       "      <td>3</td>\n",
       "    </tr>\n",
       "    <tr>\n",
       "      <th>8</th>\n",
       "      <td>2006-06-12</td>\n",
       "      <td>2006년레바논전쟁</td>\n",
       "      <td>테러</td>\n",
       "      <td>10500</td>\n",
       "      <td>2</td>\n",
       "      <td>1</td>\n",
       "      <td>2</td>\n",
       "    </tr>\n",
       "    <tr>\n",
       "      <th>12</th>\n",
       "      <td>2007-02-06</td>\n",
       "      <td>영원한자유작전-트랜스사하라</td>\n",
       "      <td>테러</td>\n",
       "      <td>5325</td>\n",
       "      <td>17</td>\n",
       "      <td>1</td>\n",
       "      <td>17</td>\n",
       "    </tr>\n",
       "    <tr>\n",
       "      <th>13</th>\n",
       "      <td>2008-03-25</td>\n",
       "      <td>2008 안주안침공</td>\n",
       "      <td>내란</td>\n",
       "      <td>2500</td>\n",
       "      <td>7</td>\n",
       "      <td>1</td>\n",
       "      <td>7</td>\n",
       "    </tr>\n",
       "    <tr>\n",
       "      <th>14</th>\n",
       "      <td>2009-07-26</td>\n",
       "      <td>보코하람반란</td>\n",
       "      <td>내란</td>\n",
       "      <td>10000</td>\n",
       "      <td>19</td>\n",
       "      <td>1</td>\n",
       "      <td>19</td>\n",
       "    </tr>\n",
       "    <tr>\n",
       "      <th>16</th>\n",
       "      <td>2010-05-23</td>\n",
       "      <td>킹스톤불안</td>\n",
       "      <td>마약</td>\n",
       "      <td>1500</td>\n",
       "      <td>2</td>\n",
       "      <td>1</td>\n",
       "      <td>2</td>\n",
       "    </tr>\n",
       "    <tr>\n",
       "      <th>19</th>\n",
       "      <td>2011-06-17</td>\n",
       "      <td>레바논에서의시리아내전파급</td>\n",
       "      <td>내란</td>\n",
       "      <td>13500</td>\n",
       "      <td>19</td>\n",
       "      <td>1</td>\n",
       "      <td>19</td>\n",
       "    </tr>\n",
       "    <tr>\n",
       "      <th>20</th>\n",
       "      <td>2012-01-16</td>\n",
       "      <td>북부말리전쟁</td>\n",
       "      <td>테러</td>\n",
       "      <td>24764</td>\n",
       "      <td>57</td>\n",
       "      <td>1</td>\n",
       "      <td>57</td>\n",
       "    </tr>\n",
       "    <tr>\n",
       "      <th>25</th>\n",
       "      <td>2017-05-23</td>\n",
       "      <td>마라위위기</td>\n",
       "      <td>테러</td>\n",
       "      <td>7500</td>\n",
       "      <td>5</td>\n",
       "      <td>1</td>\n",
       "      <td>5</td>\n",
       "    </tr>\n",
       "    <tr>\n",
       "      <th>27</th>\n",
       "      <td>2019-05-05</td>\n",
       "      <td>2019-20 페르시아만위기</td>\n",
       "      <td>민족</td>\n",
       "      <td>10000</td>\n",
       "      <td>13</td>\n",
       "      <td>1</td>\n",
       "      <td>13</td>\n",
       "    </tr>\n",
       "  </tbody>\n",
       "</table>\n",
       "</div>"
      ],
      "text/plain": [
       "         발발시점             갈등이름 갈등종류   전쟁규모  참전국수  Count  War_Scale\n",
       "4  2004-04-01        이란-PJAK충돌   민족  17000     3      1          3\n",
       "6  2005-08-27        파라과이인민군반란   내란   3650     3      1          3\n",
       "8  2006-06-12       2006년레바논전쟁   테러  10500     2      1          2\n",
       "12 2007-02-06   영원한자유작전-트랜스사하라   테러   5325    17      1         17\n",
       "13 2008-03-25       2008 안주안침공   내란   2500     7      1          7\n",
       "14 2009-07-26           보코하람반란   내란  10000    19      1         19\n",
       "16 2010-05-23            킹스톤불안   마약   1500     2      1          2\n",
       "19 2011-06-17    레바논에서의시리아내전파급   내란  13500    19      1         19\n",
       "20 2012-01-16           북부말리전쟁   테러  24764    57      1         57\n",
       "25 2017-05-23            마라위위기   테러   7500     5      1          5\n",
       "27 2019-05-05  2019-20 페르시아만위기   민족  10000    13      1         13"
      ]
     },
     "execution_count": 54,
     "metadata": {},
     "output_type": "execute_result"
    }
   ],
   "source": [
    "# 병력 3만미만 참전 \"S1\"\n",
    "a_1= ls_war[ls_war_X2[\"전쟁규모\"]<30*1000]\n",
    "a_1"
   ]
  },
  {
   "cell_type": "code",
   "execution_count": 55,
   "metadata": {},
   "outputs": [
    {
     "data": {
      "text/html": [
       "<div>\n",
       "<style scoped>\n",
       "    .dataframe tbody tr th:only-of-type {\n",
       "        vertical-align: middle;\n",
       "    }\n",
       "\n",
       "    .dataframe tbody tr th {\n",
       "        vertical-align: top;\n",
       "    }\n",
       "\n",
       "    .dataframe thead th {\n",
       "        text-align: right;\n",
       "    }\n",
       "</style>\n",
       "<table border=\"1\" class=\"dataframe\">\n",
       "  <thead>\n",
       "    <tr style=\"text-align: right;\">\n",
       "      <th></th>\n",
       "      <th>발발시점</th>\n",
       "      <th>갈등이름</th>\n",
       "      <th>갈등종류</th>\n",
       "      <th>전쟁규모</th>\n",
       "      <th>참전국수</th>\n",
       "      <th>Count</th>\n",
       "      <th>War_volume</th>\n",
       "    </tr>\n",
       "  </thead>\n",
       "  <tbody>\n",
       "    <tr>\n",
       "      <th>1</th>\n",
       "      <td>2002-01-15</td>\n",
       "      <td>영원한자유작전-필리핀</td>\n",
       "      <td>테러</td>\n",
       "      <td>115800</td>\n",
       "      <td>2</td>\n",
       "      <td>1</td>\n",
       "      <td>2</td>\n",
       "    </tr>\n",
       "    <tr>\n",
       "      <th>5</th>\n",
       "      <td>2004-04-18</td>\n",
       "      <td>예멘의 Houthi 반란</td>\n",
       "      <td>내란</td>\n",
       "      <td>32000</td>\n",
       "      <td>7</td>\n",
       "      <td>1</td>\n",
       "      <td>7</td>\n",
       "    </tr>\n",
       "    <tr>\n",
       "      <th>7</th>\n",
       "      <td>2006-01-25</td>\n",
       "      <td>파타-하마스 분쟁</td>\n",
       "      <td>테러</td>\n",
       "      <td>55000</td>\n",
       "      <td>3</td>\n",
       "      <td>1</td>\n",
       "      <td>3</td>\n",
       "    </tr>\n",
       "    <tr>\n",
       "      <th>10</th>\n",
       "      <td>2006-12-11</td>\n",
       "      <td>멕시코마약전쟁</td>\n",
       "      <td>마약</td>\n",
       "      <td>360000</td>\n",
       "      <td>4</td>\n",
       "      <td>1</td>\n",
       "      <td>4</td>\n",
       "    </tr>\n",
       "    <tr>\n",
       "      <th>11</th>\n",
       "      <td>2006-12-30</td>\n",
       "      <td>소말리아전쟁</td>\n",
       "      <td>해적</td>\n",
       "      <td>35250</td>\n",
       "      <td>8</td>\n",
       "      <td>1</td>\n",
       "      <td>8</td>\n",
       "    </tr>\n",
       "    <tr>\n",
       "      <th>15</th>\n",
       "      <td>2009-01-31</td>\n",
       "      <td>소말리아내전</td>\n",
       "      <td>해적</td>\n",
       "      <td>41600</td>\n",
       "      <td>11</td>\n",
       "      <td>1</td>\n",
       "      <td>11</td>\n",
       "    </tr>\n",
       "    <tr>\n",
       "      <th>17</th>\n",
       "      <td>2011-02-15</td>\n",
       "      <td>리비아내전</td>\n",
       "      <td>내란</td>\n",
       "      <td>37000</td>\n",
       "      <td>21</td>\n",
       "      <td>1</td>\n",
       "      <td>21</td>\n",
       "    </tr>\n",
       "    <tr>\n",
       "      <th>18</th>\n",
       "      <td>2011-03-15</td>\n",
       "      <td>시리아내전</td>\n",
       "      <td>내란</td>\n",
       "      <td>144600</td>\n",
       "      <td>13</td>\n",
       "      <td>1</td>\n",
       "      <td>13</td>\n",
       "    </tr>\n",
       "    <tr>\n",
       "      <th>22</th>\n",
       "      <td>2014-05-16</td>\n",
       "      <td>리비아 내전</td>\n",
       "      <td>내란</td>\n",
       "      <td>400000</td>\n",
       "      <td>19</td>\n",
       "      <td>1</td>\n",
       "      <td>19</td>\n",
       "    </tr>\n",
       "    <tr>\n",
       "      <th>23</th>\n",
       "      <td>2014-06-13</td>\n",
       "      <td>ISIL에대한국제군사개입</td>\n",
       "      <td>테러</td>\n",
       "      <td>472260</td>\n",
       "      <td>41</td>\n",
       "      <td>1</td>\n",
       "      <td>41</td>\n",
       "    </tr>\n",
       "    <tr>\n",
       "      <th>24</th>\n",
       "      <td>2014-09-16</td>\n",
       "      <td>예멘내전</td>\n",
       "      <td>내란</td>\n",
       "      <td>156000</td>\n",
       "      <td>19</td>\n",
       "      <td>1</td>\n",
       "      <td>19</td>\n",
       "    </tr>\n",
       "    <tr>\n",
       "      <th>26</th>\n",
       "      <td>2017-12-09</td>\n",
       "      <td>이라크반란</td>\n",
       "      <td>내란</td>\n",
       "      <td>188900</td>\n",
       "      <td>13</td>\n",
       "      <td>1</td>\n",
       "      <td>13</td>\n",
       "    </tr>\n",
       "  </tbody>\n",
       "</table>\n",
       "</div>"
      ],
      "text/plain": [
       "         발발시점           갈등이름 갈등종류    전쟁규모  참전국수  Count  War_volume\n",
       "1  2002-01-15    영원한자유작전-필리핀   테러  115800     2      1           2\n",
       "5  2004-04-18  예멘의 Houthi 반란   내란   32000     7      1           7\n",
       "7  2006-01-25      파타-하마스 분쟁   테러   55000     3      1           3\n",
       "10 2006-12-11        멕시코마약전쟁   마약  360000     4      1           4\n",
       "11 2006-12-30         소말리아전쟁   해적   35250     8      1           8\n",
       "15 2009-01-31         소말리아내전   해적   41600    11      1          11\n",
       "17 2011-02-15          리비아내전   내란   37000    21      1          21\n",
       "18 2011-03-15          시리아내전   내란  144600    13      1          13\n",
       "22 2014-05-16         리비아 내전   내란  400000    19      1          19\n",
       "23 2014-06-13  ISIL에대한국제군사개입   테러  472260    41      1          41\n",
       "24 2014-09-16           예멘내전   내란  156000    19      1          19\n",
       "26 2017-12-09          이라크반란   내란  188900    13      1          13"
      ]
     },
     "execution_count": 55,
     "metadata": {},
     "output_type": "execute_result"
    }
   ],
   "source": [
    "# 3~50만병력 참전 \"S2\"\n",
    "b_2= ls_war_X2[(ls_war_X2[\"전쟁규모\"] >= 30*1000)&(ls_war_X2[\"전쟁규모\"] < 500*1000)] \n",
    "b_2"
   ]
  },
  {
   "cell_type": "code",
   "execution_count": 67,
   "metadata": {},
   "outputs": [
    {
     "data": {
      "text/html": [
       "<div>\n",
       "<style scoped>\n",
       "    .dataframe tbody tr th:only-of-type {\n",
       "        vertical-align: middle;\n",
       "    }\n",
       "\n",
       "    .dataframe tbody tr th {\n",
       "        vertical-align: top;\n",
       "    }\n",
       "\n",
       "    .dataframe thead th {\n",
       "        text-align: right;\n",
       "    }\n",
       "</style>\n",
       "<table border=\"1\" class=\"dataframe\">\n",
       "  <thead>\n",
       "    <tr style=\"text-align: right;\">\n",
       "      <th></th>\n",
       "      <th>발발시점</th>\n",
       "      <th>갈등이름</th>\n",
       "      <th>갈등종류</th>\n",
       "      <th>전쟁규모</th>\n",
       "      <th>참전국수</th>\n",
       "      <th>Count</th>\n",
       "      <th>War_volume</th>\n",
       "    </tr>\n",
       "  </thead>\n",
       "  <tbody>\n",
       "    <tr>\n",
       "      <th>0</th>\n",
       "      <td>2001-09-11</td>\n",
       "      <td>테러와의전쟁</td>\n",
       "      <td>테러</td>\n",
       "      <td>1000000</td>\n",
       "      <td>48</td>\n",
       "      <td>1</td>\n",
       "      <td>48</td>\n",
       "    </tr>\n",
       "    <tr>\n",
       "      <th>2</th>\n",
       "      <td>2002-10-07</td>\n",
       "      <td>영원한자유작전-아프리카의뿔</td>\n",
       "      <td>테러</td>\n",
       "      <td>500000</td>\n",
       "      <td>38</td>\n",
       "      <td>1</td>\n",
       "      <td>38</td>\n",
       "    </tr>\n",
       "    <tr>\n",
       "      <th>3</th>\n",
       "      <td>2003-03-20</td>\n",
       "      <td>이라크전쟁</td>\n",
       "      <td>테러</td>\n",
       "      <td>1000000</td>\n",
       "      <td>41</td>\n",
       "      <td>1</td>\n",
       "      <td>41</td>\n",
       "    </tr>\n",
       "    <tr>\n",
       "      <th>9</th>\n",
       "      <td>2006-02-22</td>\n",
       "      <td>이라크내전</td>\n",
       "      <td>내란</td>\n",
       "      <td>748000</td>\n",
       "      <td>5</td>\n",
       "      <td>1</td>\n",
       "      <td>5</td>\n",
       "    </tr>\n",
       "    <tr>\n",
       "      <th>21</th>\n",
       "      <td>2013-12-30</td>\n",
       "      <td>이라크 내전</td>\n",
       "      <td>내란</td>\n",
       "      <td>770000</td>\n",
       "      <td>22</td>\n",
       "      <td>1</td>\n",
       "      <td>22</td>\n",
       "    </tr>\n",
       "  </tbody>\n",
       "</table>\n",
       "</div>"
      ],
      "text/plain": [
       "         발발시점            갈등이름 갈등종류     전쟁규모  참전국수  Count  War_volume\n",
       "0  2001-09-11          테러와의전쟁   테러  1000000    48      1          48\n",
       "2  2002-10-07  영원한자유작전-아프리카의뿔   테러   500000    38      1          38\n",
       "3  2003-03-20           이라크전쟁   테러  1000000    41      1          41\n",
       "9  2006-02-22           이라크내전   내란   748000     5      1           5\n",
       "21 2013-12-30          이라크 내전   내란   770000    22      1          22"
      ]
     },
     "execution_count": 67,
     "metadata": {},
     "output_type": "execute_result"
    }
   ],
   "source": [
    "# 50만이상 병력투입\n",
    "c= ls_war_X2[(ls_war_X2[\"전쟁규모\"] >= 500*1000)] \n",
    "c"
   ]
  },
  {
   "cell_type": "code",
   "execution_count": 58,
   "metadata": {},
   "outputs": [],
   "source": [
    "#### (그래프) 2000년이후 전쟁병력규모에 따른 전쟁수"
   ]
  },
  {
   "cell_type": "code",
   "execution_count": null,
   "metadata": {},
   "outputs": [],
   "source": []
  },
  {
   "cell_type": "code",
   "execution_count": 59,
   "metadata": {},
   "outputs": [],
   "source": [
    "## (2) Symbol별 ABS_idx"
   ]
  },
  {
   "cell_type": "code",
   "execution_count": 64,
   "metadata": {},
   "outputs": [
    {
     "data": {
      "text/html": [
       "<div>\n",
       "<style scoped>\n",
       "    .dataframe tbody tr th:only-of-type {\n",
       "        vertical-align: middle;\n",
       "    }\n",
       "\n",
       "    .dataframe tbody tr th {\n",
       "        vertical-align: top;\n",
       "    }\n",
       "\n",
       "    .dataframe thead th {\n",
       "        text-align: right;\n",
       "    }\n",
       "</style>\n",
       "<table border=\"1\" class=\"dataframe\">\n",
       "  <thead>\n",
       "    <tr style=\"text-align: right;\">\n",
       "      <th></th>\n",
       "      <th>Unnamed: 0</th>\n",
       "      <th>Change</th>\n",
       "      <th>Symbol</th>\n",
       "      <th>Industry</th>\n",
       "      <th>Change_idx</th>\n",
       "      <th>ABS_idx</th>\n",
       "      <th>Avg_change</th>\n",
       "      <th>Start_date</th>\n",
       "      <th>War_genre</th>\n",
       "      <th>War_name</th>\n",
       "      <th>War_volume</th>\n",
       "      <th>Count_country</th>\n",
       "      <th>Count</th>\n",
       "    </tr>\n",
       "  </thead>\n",
       "  <tbody>\n",
       "    <tr>\n",
       "      <th>1015</th>\n",
       "      <td>1015</td>\n",
       "      <td>0.0120</td>\n",
       "      <td>GOOG</td>\n",
       "      <td>소프트웨어 및 IT서비스</td>\n",
       "      <td>-200.0</td>\n",
       "      <td>200.0</td>\n",
       "      <td>-0.006</td>\n",
       "      <td>2014-09-16</td>\n",
       "      <td>내란</td>\n",
       "      <td>예멘내전</td>\n",
       "      <td>156000</td>\n",
       "      <td>19</td>\n",
       "      <td>1</td>\n",
       "    </tr>\n",
       "    <tr>\n",
       "      <th>1016</th>\n",
       "      <td>1016</td>\n",
       "      <td>-0.0426</td>\n",
       "      <td>BABA</td>\n",
       "      <td>소프트웨어 및 IT서비스</td>\n",
       "      <td>1065.0</td>\n",
       "      <td>1065.0</td>\n",
       "      <td>-0.004</td>\n",
       "      <td>2014-09-16</td>\n",
       "      <td>내란</td>\n",
       "      <td>예멘내전</td>\n",
       "      <td>156000</td>\n",
       "      <td>19</td>\n",
       "      <td>1</td>\n",
       "    </tr>\n",
       "    <tr>\n",
       "      <th>1017</th>\n",
       "      <td>1017</td>\n",
       "      <td>-0.0025</td>\n",
       "      <td>PYPL</td>\n",
       "      <td>소프트웨어 및 IT서비스</td>\n",
       "      <td>62.0</td>\n",
       "      <td>62.0</td>\n",
       "      <td>-0.004</td>\n",
       "      <td>2014-09-16</td>\n",
       "      <td>내란</td>\n",
       "      <td>예멘내전</td>\n",
       "      <td>156000</td>\n",
       "      <td>19</td>\n",
       "      <td>1</td>\n",
       "    </tr>\n",
       "  </tbody>\n",
       "</table>\n",
       "</div>"
      ],
      "text/plain": [
       "      Unnamed: 0  Change Symbol       Industry  Change_idx  ABS_idx  \\\n",
       "1015        1015  0.0120   GOOG  소프트웨어 및 IT서비스      -200.0    200.0   \n",
       "1016        1016 -0.0426   BABA  소프트웨어 및 IT서비스      1065.0   1065.0   \n",
       "1017        1017 -0.0025   PYPL  소프트웨어 및 IT서비스        62.0     62.0   \n",
       "\n",
       "      Avg_change Start_date War_genre War_name  War_volume  Count_country  \\\n",
       "1015      -0.006 2014-09-16        내란     예멘내전      156000             19   \n",
       "1016      -0.004 2014-09-16        내란     예멘내전      156000             19   \n",
       "1017      -0.004 2014-09-16        내란     예멘내전      156000             19   \n",
       "\n",
       "      Count  \n",
       "1015      1  \n",
       "1016      1  \n",
       "1017      1  "
      ]
     },
     "execution_count": 64,
     "metadata": {},
     "output_type": "execute_result"
    }
   ],
   "source": [
    "\n",
    "df_final = pd.read_excel(\"./datas/final_X.xls\",'final_X')\n",
    "\n",
    "#df_final = df_final.drop([\"Unnamed: 0\", \"Unnamed: 0.1\", \"Date\"], axis=1)\n",
    "df_final[\"Count\"] = 1\n",
    "df_final.tail(3)"
   ]
  },
  {
   "cell_type": "markdown",
   "metadata": {},
   "source": [
    "### (2)-1 ABS_idx 0~199 / 200이상 Sympbol 수 -> 비율도 보기"
   ]
  },
  {
   "cell_type": "code",
   "execution_count": 68,
   "metadata": {},
   "outputs": [
    {
     "data": {
      "text/plain": [
       "(523, 494)"
      ]
     },
     "execution_count": 68,
     "metadata": {},
     "output_type": "execute_result"
    }
   ],
   "source": [
    "s_count_1 = df_final[(df_final[\"ABS_idx\"] < 200)] # \n",
    "s_count_2 = df_final[(df_final[\"ABS_idx\"] >= 200)]\n",
    "len(s_count_1), len(s_count_2)"
   ]
  },
  {
   "cell_type": "code",
   "execution_count": 69,
   "metadata": {},
   "outputs": [],
   "source": [
    "### ABS 200기준 전체 심볼비중\n",
    "#### 전쟁 중 발생된 1500개의 ABS_idx 값 중 200이상인 값은 51%"
   ]
  },
  {
   "cell_type": "code",
   "execution_count": 70,
   "metadata": {},
   "outputs": [
    {
     "data": {
      "text/plain": [
       "(523, 494, 0.49)"
      ]
     },
     "execution_count": 70,
     "metadata": {},
     "output_type": "execute_result"
    }
   ],
   "source": [
    "s_count_ratio = len(s_count_2) / (len(s_count_1) + len(s_count_2) )\n",
    "len(s_count_1), len(s_count_2), round(s_count_ratio,2)"
   ]
  },
  {
   "cell_type": "code",
   "execution_count": 71,
   "metadata": {},
   "outputs": [
    {
     "name": "stderr",
     "output_type": "stream",
     "text": [
      "<ipython-input-71-721f97fe592c>:3: UserWarning:\n",
      "\n",
      "Boolean Series key will be reindexed to match DataFrame index.\n",
      "\n",
      "<ipython-input-71-721f97fe592c>:4: UserWarning:\n",
      "\n",
      "Boolean Series key will be reindexed to match DataFrame index.\n",
      "\n"
     ]
    },
    {
     "data": {
      "text/plain": [
       "(247, 210, 0.46)"
      ]
     },
     "execution_count": 71,
     "metadata": {},
     "output_type": "execute_result"
    }
   ],
   "source": [
    "#### 전쟁종류별비중 ( 정리 요망)\n",
    "s_count_11 = df_final[(df_final[\"War_genre\"] ==  \"내란\")]\n",
    "s_count_11_1 = s_count_11[(df_final[\"ABS_idx\"] < 200)]\n",
    "s_count_11_2 = s_count_11[(df_final[\"ABS_idx\"] >= 200)]\n",
    "s_count_11_ratio = len(s_count_11_2) / (len(s_count_11_1)+len(s_count_11_2))\n",
    "len(s_count_11_1), len(s_count_11_2), round(s_count_11_ratio, 2)"
   ]
  },
  {
   "cell_type": "code",
   "execution_count": 72,
   "metadata": {},
   "outputs": [
    {
     "name": "stderr",
     "output_type": "stream",
     "text": [
      "<ipython-input-72-7b99e999a94c>:2: UserWarning:\n",
      "\n",
      "Boolean Series key will be reindexed to match DataFrame index.\n",
      "\n",
      "<ipython-input-72-7b99e999a94c>:3: UserWarning:\n",
      "\n",
      "Boolean Series key will be reindexed to match DataFrame index.\n",
      "\n"
     ]
    },
    {
     "data": {
      "text/plain": [
       "(25, 15, 0.38)"
      ]
     },
     "execution_count": 72,
     "metadata": {},
     "output_type": "execute_result"
    }
   ],
   "source": [
    "s_count_12 = df_final[(df_final[\"War_genre\"] ==  \"민족\")]\n",
    "s_count_12_1 = s_count_12[(df_final[\"ABS_idx\"] < 200)]\n",
    "s_count_12_2 = s_count_12[(df_final[\"ABS_idx\"] >= 200)]\n",
    "s_count_12_ratio = len(s_count_12_2) / (len(s_count_12_1)+len(s_count_12_2))\n",
    "len(s_count_12_1), len(s_count_12_2), round(s_count_12_ratio, 2)"
   ]
  },
  {
   "cell_type": "code",
   "execution_count": 73,
   "metadata": {},
   "outputs": [
    {
     "name": "stderr",
     "output_type": "stream",
     "text": [
      "<ipython-input-73-87e1d89d025a>:2: UserWarning:\n",
      "\n",
      "Boolean Series key will be reindexed to match DataFrame index.\n",
      "\n",
      "<ipython-input-73-87e1d89d025a>:3: UserWarning:\n",
      "\n",
      "Boolean Series key will be reindexed to match DataFrame index.\n",
      "\n"
     ]
    },
    {
     "data": {
      "text/plain": [
       "(171, 172, 0.5)"
      ]
     },
     "execution_count": 73,
     "metadata": {},
     "output_type": "execute_result"
    }
   ],
   "source": [
    "s_count_13 = df_final[(df_final[\"War_genre\"] ==  \"테러\")]\n",
    "s_count_13_1 = s_count_13[(df_final[\"ABS_idx\"] < 200)]\n",
    "s_count_13_2 = s_count_13[(df_final[\"ABS_idx\"] >= 200)]\n",
    "s_count_13_ratio = len(s_count_13_2) / (len(s_count_13_1)+len(s_count_13_2))\n",
    "len(s_count_13_1), len(s_count_13_2), round(s_count_13_ratio, 2)"
   ]
  },
  {
   "cell_type": "code",
   "execution_count": 74,
   "metadata": {},
   "outputs": [
    {
     "name": "stderr",
     "output_type": "stream",
     "text": [
      "<ipython-input-74-9fd95bd51d5b>:2: UserWarning:\n",
      "\n",
      "Boolean Series key will be reindexed to match DataFrame index.\n",
      "\n",
      "<ipython-input-74-9fd95bd51d5b>:3: UserWarning:\n",
      "\n",
      "Boolean Series key will be reindexed to match DataFrame index.\n",
      "\n"
     ]
    },
    {
     "data": {
      "text/plain": [
       "(52, 37, 0.42)"
      ]
     },
     "execution_count": 74,
     "metadata": {},
     "output_type": "execute_result"
    }
   ],
   "source": [
    "s_count_14 = df_final[(df_final[\"War_genre\"] ==  \"마약\")]\n",
    "s_count_14_1 = s_count_14[(df_final[\"ABS_idx\"] < 200)]\n",
    "s_count_14_2 = s_count_14[(df_final[\"ABS_idx\"] >= 200)]\n",
    "s_count_14_ratio = len(s_count_14_2) / (len(s_count_14_1)+len(s_count_14_2))\n",
    "len(s_count_14_1), len(s_count_14_2), round(s_count_14_ratio, 2)"
   ]
  },
  {
   "cell_type": "code",
   "execution_count": 75,
   "metadata": {},
   "outputs": [
    {
     "name": "stderr",
     "output_type": "stream",
     "text": [
      "<ipython-input-75-2a0cb356a494>:2: UserWarning:\n",
      "\n",
      "Boolean Series key will be reindexed to match DataFrame index.\n",
      "\n",
      "<ipython-input-75-2a0cb356a494>:3: UserWarning:\n",
      "\n",
      "Boolean Series key will be reindexed to match DataFrame index.\n",
      "\n"
     ]
    },
    {
     "data": {
      "text/plain": [
       "(28, 60, 0.68)"
      ]
     },
     "execution_count": 75,
     "metadata": {},
     "output_type": "execute_result"
    }
   ],
   "source": [
    "s_count_15 = df_final[(df_final[\"War_genre\"] ==  \"해적\")]\n",
    "s_count_15_1 = s_count_15[(df_final[\"ABS_idx\"] < 200)]\n",
    "s_count_15_2 = s_count_15[(df_final[\"ABS_idx\"] >= 200)]\n",
    "s_count_15_ratio = len(s_count_15_2) / (len(s_count_15_1)+len(s_count_15_2))\n",
    "len(s_count_15_1), len(s_count_15_2), round(s_count_15_ratio, 2)"
   ]
  },
  {
   "cell_type": "code",
   "execution_count": 76,
   "metadata": {},
   "outputs": [],
   "source": [
    "# 전쟁 반발시 100대기업의 51% 종목이 영향을 받는데\n",
    "# 해적관련된 전쟁일 경우 영향을 받는 종목이 67%로 가장 많았고\n",
    "# 테러, 마약관련 전쟁의 경우 50% 수준\n",
    "# 민족간의 갈등전쟁에서는 상대적으로 적은 종목이 영향을 받음\n",
    "\n",
    "# 이거 DataFrame으로 정리해서 그래프로 그리기"
   ]
  },
  {
   "cell_type": "code",
   "execution_count": 77,
   "metadata": {},
   "outputs": [
    {
     "data": {
      "text/plain": [
       "(247, 210)"
      ]
     },
     "execution_count": 77,
     "metadata": {},
     "output_type": "execute_result"
    }
   ],
   "source": [
    "len(s_count_11_1), len(s_count_11_2),"
   ]
  },
  {
   "cell_type": "code",
   "execution_count": 78,
   "metadata": {},
   "outputs": [],
   "source": [
    "### (2)-2 (인스더스트리별) ABS_idx 0~199 / 200이상 Symbol 수 -> 비율도 보기"
   ]
  },
  {
   "cell_type": "code",
   "execution_count": 79,
   "metadata": {},
   "outputs": [],
   "source": [
    "symbol = df_final.pivot_table(\"Count\", \"Symbol\")\n",
    "symbol[\"Symbol\"] = symbol.index"
   ]
  },
  {
   "cell_type": "code",
   "execution_count": 80,
   "metadata": {},
   "outputs": [
    {
     "data": {
      "text/html": [
       "<div>\n",
       "<style scoped>\n",
       "    .dataframe tbody tr th:only-of-type {\n",
       "        vertical-align: middle;\n",
       "    }\n",
       "\n",
       "    .dataframe tbody tr th {\n",
       "        vertical-align: top;\n",
       "    }\n",
       "\n",
       "    .dataframe thead th {\n",
       "        text-align: right;\n",
       "    }\n",
       "</style>\n",
       "<table border=\"1\" class=\"dataframe\">\n",
       "  <thead>\n",
       "    <tr style=\"text-align: right;\">\n",
       "      <th></th>\n",
       "      <th>Symbol</th>\n",
       "      <th>Industry</th>\n",
       "    </tr>\n",
       "  </thead>\n",
       "  <tbody>\n",
       "    <tr>\n",
       "      <th>7210</th>\n",
       "      <td>RHE</td>\n",
       "      <td>부동산 운영 관리</td>\n",
       "    </tr>\n",
       "    <tr>\n",
       "      <th>7211</th>\n",
       "      <td>BTX</td>\n",
       "      <td>미디어 및 출판</td>\n",
       "    </tr>\n",
       "    <tr>\n",
       "      <th>7212</th>\n",
       "      <td>PW PR A</td>\n",
       "      <td>주택 및 상업용 리츠</td>\n",
       "    </tr>\n",
       "    <tr>\n",
       "      <th>7213</th>\n",
       "      <td>IPB</td>\n",
       "      <td>은행</td>\n",
       "    </tr>\n",
       "    <tr>\n",
       "      <th>7214</th>\n",
       "      <td>VHAQ RT</td>\n",
       "      <td>기타 금융업</td>\n",
       "    </tr>\n",
       "  </tbody>\n",
       "</table>\n",
       "</div>"
      ],
      "text/plain": [
       "       Symbol     Industry\n",
       "7210      RHE    부동산 운영 관리\n",
       "7211      BTX     미디어 및 출판\n",
       "7212  PW PR A  주택 및 상업용 리츠\n",
       "7213      IPB           은행\n",
       "7214  VHAQ RT       기타 금융업"
      ]
     },
     "execution_count": 80,
     "metadata": {},
     "output_type": "execute_result"
    }
   ],
   "source": [
    "indX = pd.read_csv(\"datas/industry_code.csv\")\n",
    "df_3 = indX.drop(['Unnamed: 0', 'IndustryCode', 'Name'], axis=1)\n",
    "df_3.tail()"
   ]
  },
  {
   "cell_type": "code",
   "execution_count": null,
   "metadata": {},
   "outputs": [],
   "source": []
  }
 ],
 "metadata": {
  "kernelspec": {
   "display_name": "Python 3",
   "language": "python",
   "name": "python3"
  },
  "language_info": {
   "codemirror_mode": {
    "name": "ipython",
    "version": 3
   },
   "file_extension": ".py",
   "mimetype": "text/x-python",
   "name": "python",
   "nbconvert_exporter": "python",
   "pygments_lexer": "ipython3",
   "version": "3.8.3"
  }
 },
 "nbformat": 4,
 "nbformat_minor": 4
}
